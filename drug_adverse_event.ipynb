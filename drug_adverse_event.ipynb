{
 "cells": [
  {
   "cell_type": "code",
   "execution_count": 90,
   "metadata": {},
   "outputs": [],
   "source": [
    "'''\n",
    "Introduction.\n",
    "The objective of this project is to create machine learning model for prediction of serious drug adverse reaction\n",
    "that will result in fatality of a drug or product user. This is the most serious type of drug adverse event as it is an\n",
    "irreparable loss.The sample data used for this predictive modelling was obtained from the United States of America\n",
    "federal drug agency database. The database contains reports of drug adverse events which occured in various countries of\n",
    "the world. A total of 92130 drug adverse reports were extracted from the database with selected 52 attributes of the\n",
    "each reported events.\n",
    "\n",
    "A risk evaluation and mitigation model is created using the drug adverse reaction reports.\n",
    "The target variable for classification is 'seriousness death'\n",
    "\n",
    "The main insights gained from this project are. \n",
    "1. What are the most important features of samples which had fatal drug adverse effect?\n",
    "2. Which Predictive model gives the best performance in prediction of fatal drug adverse reaction on those who will\n",
    "use the drugs?\n",
    "\n",
    "\n",
    "The project.\n",
    "The model pipeline was developed using the following stages of model development\n",
    "1. Data Import, Quality control and Dat\n",
    "2. Descriptive statistics\n",
    "3. Exploratory data analysis and visualisation\n",
    "4. Feature engineering and extraction\n",
    "5. Data selection and scaling\n",
    "6. Predictive model building and evaluation\n",
    "7. Model hyper parameter tuning\n",
    "8. Final model and evaluation\n",
    "9. Model deployment\n",
    "10.Project summary and report\n",
    "\n",
    "Result.\n",
    "The three best models created are a, b and c. The performace evaluation obatained are ...,\n",
    "... and ...\n",
    "\n",
    "The most important predictive features are ...,..., and based on rank of importance\n",
    "\n",
    "'''\n",
    "a ='a'"
   ]
  },
  {
   "cell_type": "code",
   "execution_count": 153,
   "metadata": {},
   "outputs": [],
   "source": [
    "import pandas as pd\n",
    "import numpy as np\n",
    "import matplotlib.pyplot as plt\n",
    "import scipy\n",
    "import xlrd\n",
    "import seaborn as sns\n",
    "%matplotlib inline\n",
    "from sklearn.feature_extraction.text import CountVectorizer\n",
    "import re, string, unicodedata\n",
    "import os\n",
    "from pyspark.ml.feature import HashingTF, IDF, Tokenizer\n",
    "from pyspark.ml.feature import Word2Vec\n",
    "import spacy\n",
    "import math\n",
    "import nbconvert\n",
    "%matplotlib inline\n",
    "import glob\n",
    "#import gensim\n",
    "import nltk\n",
    "import inflection as inflect\n",
    "from bs4 import BeautifulSoup\n",
    "from nltk import word_tokenize, sent_tokenize\n",
    "from nltk.corpus import stopwords\n",
    "from nltk.stem import LancasterStemmer, WordNetLemmatizer\n",
    "from string import ascii_lowercase\n",
    "import itertools, snowballstemmer\n",
    "from pyspark.ml.feature import HashingTF, IDF, Tokenizer\n",
    "from pyspark.ml.feature import Word2Vec\n",
    "import spacy\n",
    "from matplotlib.colors import rgb2hex\n",
    "from matplotlib.patches import Polygon\n",
    "from pyspark.sql.session import SparkSession\n",
    "# instantiate Spark\n",
    "spark = SparkSession.builder.getOrCreate()"
   ]
  },
  {
   "cell_type": "code",
   "execution_count": 154,
   "metadata": {},
   "outputs": [],
   "source": [
    "# Read the input csv data format\n",
    "drug_reaction_inputdf = pd.read_csv(\"C:/Users/yasser/Desktop/Godly_appl/AstraZeneca/drug_adverse_report_data.csv\",na_values=' ')"
   ]
  },
  {
   "cell_type": "code",
   "execution_count": 155,
   "metadata": {},
   "outputs": [
    {
     "data": {
      "text/plain": [
       "(92130, 52)"
      ]
     },
     "execution_count": 155,
     "metadata": {},
     "output_type": "execute_result"
    }
   ],
   "source": [
    "# check the number of rows and columns and account for total input data imported\n",
    "\n",
    "drug_reaction_inputdf.shape"
   ]
  },
  {
   "cell_type": "code",
   "execution_count": 156,
   "metadata": {},
   "outputs": [
    {
     "name": "stdout",
     "output_type": "stream",
     "text": [
      "<class 'pandas.core.frame.DataFrame'>\n",
      "RangeIndex: 92130 entries, 0 to 92129\n",
      "Data columns (total 52 columns):\n",
      "Unnamed: 0                           92130 non-null int64\n",
      "Companynumb                          91822 non-null object\n",
      "drug Index (generated)               92130 non-null int64\n",
      "Drugadministrationroute              27530 non-null float64\n",
      "Drugauthorizationnumb                10887 non-null float64\n",
      "Drugbatchnumb                        4322 non-null object\n",
      "Drugcharacterization                 92130 non-null int64\n",
      "Drugdosagetext                       32567 non-null object\n",
      "Drugenddate                          33222 non-null float64\n",
      "Drugenddateformat                    33222 non-null float64\n",
      "Drugindication                       41829 non-null object\n",
      "Drugstartdate                        42313 non-null float64\n",
      "Drugstartdateformat                  42313 non-null float64\n",
      "Drugtreatmentduration                6237 non-null float64\n",
      "Drugtreatmentdurationunit            2304 non-null float64\n",
      "Fulfillexpeditecriteria              92130 non-null int64\n",
      "generic name Index (generated)       75641 non-null float64\n",
      "Generic Name                         75641 non-null object\n",
      "Medicinalproduct                     92130 non-null object\n",
      "Patientonsetage                      87098 non-null float64\n",
      "Patientonsetageunit                  88275 non-null float64\n",
      "Patientsex                           92057 non-null float64\n",
      "Patientweight                        92130 non-null float64\n",
      "pharm class cs Index (generated)     57861 non-null float64\n",
      "Pharm Class Cs                       57861 non-null object\n",
      "pharm class epc Index (generated)    63935 non-null float64\n",
      "Pharm Class Epc                      63935 non-null object\n",
      "pharm class pe Index (generated)     31066 non-null float64\n",
      "Pharm Class Pe                       31066 non-null object\n",
      "Qualification                        76828 non-null float64\n",
      "reaction Index (generated)           92130 non-null int64\n",
      "Reactionmeddrapt                     92130 non-null object\n",
      "Receiptdate                          92130 non-null int64\n",
      "Receiptdateformat                    92130 non-null int64\n",
      "Receivedate                          92130 non-null int64\n",
      "Receivedateformat                    92130 non-null int64\n",
      "Reportercountry                      9794 non-null object\n",
      "results Index (generated)            92130 non-null int64\n",
      "route Index (generated)              75334 non-null float64\n",
      "Route                                75334 non-null object\n",
      "Safetyreportid                       92130 non-null object\n",
      "Serious                              92130 non-null int64\n",
      "Seriousnesscongenitalanomali         347 non-null float64\n",
      "Seriousnessdeath                     5758 non-null float64\n",
      "Seriousnessdisabling                 9169 non-null float64\n",
      "Seriousnesshospitalization           40974 non-null float64\n",
      "Seriousnesslifethreatening           4452 non-null float64\n",
      "Seriousnessother                     37369 non-null float64\n",
      "substance name Index (generated)     75332 non-null float64\n",
      "Substance Name                       75332 non-null object\n",
      "Transmissiondate                     92130 non-null int64\n",
      "Transmissiondateformat               92130 non-null int64\n",
      "dtypes: float64(25), int64(13), object(14)\n",
      "memory usage: 36.6+ MB\n"
     ]
    }
   ],
   "source": [
    "# Quality control for data type and the number of non null values in each column\n",
    "\n",
    "drug_reaction_inputdf.info()"
   ]
  },
  {
   "cell_type": "code",
   "execution_count": 157,
   "metadata": {},
   "outputs": [
    {
     "data": {
      "text/plain": [
       "Unnamed: 0                            0.000000\n",
       "Companynumb                           0.334310\n",
       "drug Index (generated)                0.000000\n",
       "Drugadministrationroute              70.118311\n",
       "Drugauthorizationnumb                88.183002\n",
       "Drugbatchnumb                        95.308803\n",
       "Drugcharacterization                  0.000000\n",
       "Drugdosagetext                       64.651037\n",
       "Drugenddate                          63.940085\n",
       "Drugenddateformat                    63.940085\n",
       "Drugindication                       54.597851\n",
       "Drugstartdate                        54.072506\n",
       "Drugstartdateformat                  54.072506\n",
       "Drugtreatmentduration                93.230218\n",
       "Drugtreatmentdurationunit            97.499186\n",
       "Fulfillexpeditecriteria               0.000000\n",
       "generic name Index (generated)       17.897536\n",
       "Generic Name                         17.897536\n",
       "Medicinalproduct                      0.000000\n",
       "Patientonsetage                       5.461847\n",
       "Patientonsetageunit                   4.184305\n",
       "Patientsex                            0.079236\n",
       "Patientweight                         0.000000\n",
       "pharm class cs Index (generated)     37.196353\n",
       "Pharm Class Cs                       37.196353\n",
       "pharm class epc Index (generated)    30.603495\n",
       "Pharm Class Epc                      30.603495\n",
       "pharm class pe Index (generated)     66.280256\n",
       "Pharm Class Pe                       66.280256\n",
       "Qualification                        16.609139\n",
       "reaction Index (generated)            0.000000\n",
       "Reactionmeddrapt                      0.000000\n",
       "Receiptdate                           0.000000\n",
       "Receiptdateformat                     0.000000\n",
       "Receivedate                           0.000000\n",
       "Receivedateformat                     0.000000\n",
       "Reportercountry                      89.369369\n",
       "results Index (generated)             0.000000\n",
       "route Index (generated)              18.230761\n",
       "Route                                18.230761\n",
       "Safetyreportid                        0.000000\n",
       "Serious                               0.000000\n",
       "Seriousnesscongenitalanomali         99.623358\n",
       "Seriousnessdeath                     93.750136\n",
       "Seriousnessdisabling                 90.047759\n",
       "Seriousnesshospitalization           55.525887\n",
       "Seriousnesslifethreatening           95.167698\n",
       "Seriousnessother                     59.438836\n",
       "substance name Index (generated)     18.232932\n",
       "Substance Name                       18.232932\n",
       "Transmissiondate                      0.000000\n",
       "Transmissiondateformat                0.000000\n",
       "dtype: float64"
      ]
     },
     "execution_count": 157,
     "metadata": {},
     "output_type": "execute_result"
    }
   ],
   "source": [
    "drug_reaction_inputdf.isnull().sum(axis = 0)/len(drug_reaction_inputdf)*100"
   ]
  },
  {
   "cell_type": "code",
   "execution_count": 158,
   "metadata": {},
   "outputs": [
    {
     "data": {
      "text/plain": [
       "Unnamed: 0                           0.000000\n",
       "Companynumb                          0.000000\n",
       "drug Index (generated)               0.000000\n",
       "Drugadministrationroute              0.000000\n",
       "Drugauthorizationnumb                0.000000\n",
       "Drugbatchnumb                        0.000000\n",
       "Drugcharacterization                 0.000000\n",
       "Drugdosagetext                       0.000000\n",
       "Drugenddate                          0.000000\n",
       "Drugenddateformat                    0.000000\n",
       "Drugindication                       0.000000\n",
       "Drugstartdate                        0.000000\n",
       "Drugstartdateformat                  0.000000\n",
       "Drugtreatmentduration                0.000000\n",
       "Drugtreatmentdurationunit            0.000000\n",
       "Fulfillexpeditecriteria              0.000000\n",
       "generic name Index (generated)       0.000000\n",
       "Generic Name                         0.000000\n",
       "Medicinalproduct                     0.000000\n",
       "Patientonsetage                      0.192120\n",
       "Patientonsetageunit                  0.000000\n",
       "Patientsex                           0.017367\n",
       "Patientweight                        0.002171\n",
       "pharm class cs Index (generated)     0.000000\n",
       "Pharm Class Cs                       0.000000\n",
       "pharm class epc Index (generated)    0.000000\n",
       "Pharm Class Epc                      0.000000\n",
       "pharm class pe Index (generated)     0.000000\n",
       "Pharm Class Pe                       0.000000\n",
       "Qualification                        0.000000\n",
       "reaction Index (generated)           0.000000\n",
       "Reactionmeddrapt                     0.000000\n",
       "Receiptdate                          0.000000\n",
       "Receiptdateformat                    0.000000\n",
       "Receivedate                          0.000000\n",
       "Receivedateformat                    0.000000\n",
       "Reportercountry                      0.000000\n",
       "results Index (generated)            0.000000\n",
       "route Index (generated)              0.000000\n",
       "Route                                0.000000\n",
       "Safetyreportid                       0.000000\n",
       "Serious                              0.000000\n",
       "Seriousnesscongenitalanomali         0.000000\n",
       "Seriousnessdeath                     0.000000\n",
       "Seriousnessdisabling                 0.000000\n",
       "Seriousnesshospitalization           0.000000\n",
       "Seriousnesslifethreatening           0.000000\n",
       "Seriousnessother                     0.000000\n",
       "substance name Index (generated)     0.000000\n",
       "Substance Name                       0.000000\n",
       "Transmissiondate                     0.000000\n",
       "Transmissiondateformat               0.000000\n",
       "dtype: float64"
      ]
     },
     "execution_count": 158,
     "metadata": {},
     "output_type": "execute_result"
    }
   ],
   "source": [
    "# count of zero values\n",
    "\n",
    "#row_zero_count = (df[df == 0].count(axis=1)/len(df.columns))\n",
    "# raw dataframe after dropping redaundant columns\n",
    "column_zero_count = (drug_reaction_inputdf[drug_reaction_inputdf == 0].count(axis=0)/len(drug_reaction_inputdf.index))*100\n",
    "column_zero_count"
   ]
  },
  {
   "cell_type": "code",
   "execution_count": 159,
   "metadata": {},
   "outputs": [
    {
     "data": {
      "text/plain": [
       "Unnamed: 0                           92130\n",
       "Companynumb                           2624\n",
       "drug Index (generated)                  34\n",
       "Drugadministrationroute                 33\n",
       "Drugauthorizationnumb                  363\n",
       "Drugbatchnumb                          500\n",
       "Drugcharacterization                     3\n",
       "Drugdosagetext                        1321\n",
       "Drugenddate                            938\n",
       "Drugenddateformat                        3\n",
       "Drugindication                         598\n",
       "Drugstartdate                         1280\n",
       "Drugstartdateformat                      3\n",
       "Drugtreatmentduration                  206\n",
       "Drugtreatmentdurationunit                6\n",
       "Fulfillexpeditecriteria                  2\n",
       "generic name Index (generated)           6\n",
       "Generic Name                           431\n",
       "Medicinalproduct                      1960\n",
       "Patientonsetage                        116\n",
       "Patientonsetageunit                      5\n",
       "Patientsex                               3\n",
       "Patientweight                          705\n",
       "pharm class cs Index (generated)         5\n",
       "Pharm Class Cs                          68\n",
       "pharm class epc Index (generated)        5\n",
       "Pharm Class Epc                        129\n",
       "pharm class pe Index (generated)         4\n",
       "Pharm Class Pe                          28\n",
       "Qualification                            5\n",
       "reaction Index (generated)              79\n",
       "Reactionmeddrapt                      2267\n",
       "Receiptdate                            672\n",
       "Receiptdateformat                        1\n",
       "Receivedate                            447\n",
       "Receivedateformat                        1\n",
       "Reportercountry                         59\n",
       "results Index (generated)             2679\n",
       "route Index (generated)                  7\n",
       "Route                                   29\n",
       "Safetyreportid                        2678\n",
       "Serious                                  2\n",
       "Seriousnesscongenitalanomali             1\n",
       "Seriousnessdeath                         1\n",
       "Seriousnessdisabling                     1\n",
       "Seriousnesshospitalization               1\n",
       "Seriousnesslifethreatening               1\n",
       "Seriousnessother                         1\n",
       "substance name Index (generated)        26\n",
       "Substance Name                         458\n",
       "Transmissiondate                        32\n",
       "Transmissiondateformat                   1\n",
       "dtype: int64"
      ]
     },
     "execution_count": 159,
     "metadata": {},
     "output_type": "execute_result"
    }
   ],
   "source": [
    "drug_reaction_inputdf.nunique()"
   ]
  },
  {
   "cell_type": "code",
   "execution_count": 160,
   "metadata": {},
   "outputs": [
    {
     "data": {
      "text/html": [
       "<div>\n",
       "<style>\n",
       "    .dataframe thead tr:only-child th {\n",
       "        text-align: right;\n",
       "    }\n",
       "\n",
       "    .dataframe thead th {\n",
       "        text-align: left;\n",
       "    }\n",
       "\n",
       "    .dataframe tbody tr th {\n",
       "        vertical-align: top;\n",
       "    }\n",
       "</style>\n",
       "<table border=\"1\" class=\"dataframe\">\n",
       "  <thead>\n",
       "    <tr style=\"text-align: right;\">\n",
       "      <th></th>\n",
       "      <th>Unnamed: 0</th>\n",
       "      <th>Companynumb</th>\n",
       "      <th>drug Index (generated)</th>\n",
       "      <th>Drugadministrationroute</th>\n",
       "      <th>Drugauthorizationnumb</th>\n",
       "      <th>Drugbatchnumb</th>\n",
       "      <th>Drugcharacterization</th>\n",
       "      <th>Drugdosagetext</th>\n",
       "      <th>Drugenddate</th>\n",
       "      <th>Drugenddateformat</th>\n",
       "      <th>Drugindication</th>\n",
       "      <th>Drugstartdate</th>\n",
       "      <th>Drugstartdateformat</th>\n",
       "      <th>Drugtreatmentduration</th>\n",
       "      <th>Drugtreatmentdurationunit</th>\n",
       "    </tr>\n",
       "  </thead>\n",
       "  <tbody>\n",
       "    <tr>\n",
       "      <th>0</th>\n",
       "      <td>2</td>\n",
       "      <td>2003UW07604</td>\n",
       "      <td>1</td>\n",
       "      <td>48.0</td>\n",
       "      <td>21399.0</td>\n",
       "      <td>NaN</td>\n",
       "      <td>1</td>\n",
       "      <td>250 MG PO</td>\n",
       "      <td>NaN</td>\n",
       "      <td>NaN</td>\n",
       "      <td>NON-SMALL CELL LUNG CANCER</td>\n",
       "      <td>NaN</td>\n",
       "      <td>NaN</td>\n",
       "      <td>NaN</td>\n",
       "      <td>NaN</td>\n",
       "    </tr>\n",
       "    <tr>\n",
       "      <th>1</th>\n",
       "      <td>3</td>\n",
       "      <td>2003UW07604</td>\n",
       "      <td>1</td>\n",
       "      <td>48.0</td>\n",
       "      <td>21399.0</td>\n",
       "      <td>NaN</td>\n",
       "      <td>1</td>\n",
       "      <td>250 MG PO</td>\n",
       "      <td>NaN</td>\n",
       "      <td>NaN</td>\n",
       "      <td>NON-SMALL CELL LUNG CANCER</td>\n",
       "      <td>NaN</td>\n",
       "      <td>NaN</td>\n",
       "      <td>NaN</td>\n",
       "      <td>NaN</td>\n",
       "    </tr>\n",
       "    <tr>\n",
       "      <th>2</th>\n",
       "      <td>4</td>\n",
       "      <td>2003UW07604</td>\n",
       "      <td>1</td>\n",
       "      <td>48.0</td>\n",
       "      <td>21399.0</td>\n",
       "      <td>NaN</td>\n",
       "      <td>1</td>\n",
       "      <td>250 MG PO</td>\n",
       "      <td>NaN</td>\n",
       "      <td>NaN</td>\n",
       "      <td>NON-SMALL CELL LUNG CANCER</td>\n",
       "      <td>NaN</td>\n",
       "      <td>NaN</td>\n",
       "      <td>NaN</td>\n",
       "      <td>NaN</td>\n",
       "    </tr>\n",
       "  </tbody>\n",
       "</table>\n",
       "</div>"
      ],
      "text/plain": [
       "   Unnamed: 0  Companynumb  drug Index (generated)  Drugadministrationroute  \\\n",
       "0           2  2003UW07604                       1                     48.0   \n",
       "1           3  2003UW07604                       1                     48.0   \n",
       "2           4  2003UW07604                       1                     48.0   \n",
       "\n",
       "   Drugauthorizationnumb Drugbatchnumb  Drugcharacterization Drugdosagetext  \\\n",
       "0                21399.0           NaN                     1      250 MG PO   \n",
       "1                21399.0           NaN                     1      250 MG PO   \n",
       "2                21399.0           NaN                     1      250 MG PO   \n",
       "\n",
       "   Drugenddate  Drugenddateformat              Drugindication  Drugstartdate  \\\n",
       "0          NaN                NaN  NON-SMALL CELL LUNG CANCER            NaN   \n",
       "1          NaN                NaN  NON-SMALL CELL LUNG CANCER            NaN   \n",
       "2          NaN                NaN  NON-SMALL CELL LUNG CANCER            NaN   \n",
       "\n",
       "   Drugstartdateformat  Drugtreatmentduration  Drugtreatmentdurationunit  \n",
       "0                  NaN                    NaN                        NaN  \n",
       "1                  NaN                    NaN                        NaN  \n",
       "2                  NaN                    NaN                        NaN  "
      ]
     },
     "execution_count": 160,
     "metadata": {},
     "output_type": "execute_result"
    }
   ],
   "source": [
    "# show column 0 to 15 and 3 rows of dataframe\n",
    "drug_reaction_inputdf.iloc[:,0:15].head(3)"
   ]
  },
  {
   "cell_type": "code",
   "execution_count": 161,
   "metadata": {},
   "outputs": [
    {
     "data": {
      "text/html": [
       "<div>\n",
       "<style>\n",
       "    .dataframe thead tr:only-child th {\n",
       "        text-align: right;\n",
       "    }\n",
       "\n",
       "    .dataframe thead th {\n",
       "        text-align: left;\n",
       "    }\n",
       "\n",
       "    .dataframe tbody tr th {\n",
       "        vertical-align: top;\n",
       "    }\n",
       "</style>\n",
       "<table border=\"1\" class=\"dataframe\">\n",
       "  <thead>\n",
       "    <tr style=\"text-align: right;\">\n",
       "      <th></th>\n",
       "      <th>generic name Index (generated)</th>\n",
       "      <th>Generic Name</th>\n",
       "      <th>Medicinalproduct</th>\n",
       "      <th>Patientonsetage</th>\n",
       "      <th>Patientonsetageunit</th>\n",
       "      <th>Patientsex</th>\n",
       "      <th>Patientweight</th>\n",
       "      <th>pharm class cs Index (generated)</th>\n",
       "      <th>Pharm Class Cs</th>\n",
       "      <th>pharm class epc Index (generated)</th>\n",
       "      <th>Pharm Class Epc</th>\n",
       "      <th>pharm class pe Index (generated)</th>\n",
       "      <th>Pharm Class Pe</th>\n",
       "      <th>Qualification</th>\n",
       "    </tr>\n",
       "  </thead>\n",
       "  <tbody>\n",
       "    <tr>\n",
       "      <th>0</th>\n",
       "      <td>1.0</td>\n",
       "      <td>GEFITINIB</td>\n",
       "      <td>IRESSA</td>\n",
       "      <td>72.0</td>\n",
       "      <td>801.0</td>\n",
       "      <td>2.0</td>\n",
       "      <td>64.4108</td>\n",
       "      <td>NaN</td>\n",
       "      <td>NaN</td>\n",
       "      <td>1.0</td>\n",
       "      <td>Kinase Inhibitor [EPC]</td>\n",
       "      <td>NaN</td>\n",
       "      <td>NaN</td>\n",
       "      <td>1.0</td>\n",
       "    </tr>\n",
       "    <tr>\n",
       "      <th>1</th>\n",
       "      <td>1.0</td>\n",
       "      <td>GEFITINIB</td>\n",
       "      <td>IRESSA</td>\n",
       "      <td>72.0</td>\n",
       "      <td>801.0</td>\n",
       "      <td>2.0</td>\n",
       "      <td>64.4108</td>\n",
       "      <td>NaN</td>\n",
       "      <td>NaN</td>\n",
       "      <td>1.0</td>\n",
       "      <td>Kinase Inhibitor [EPC]</td>\n",
       "      <td>NaN</td>\n",
       "      <td>NaN</td>\n",
       "      <td>1.0</td>\n",
       "    </tr>\n",
       "    <tr>\n",
       "      <th>2</th>\n",
       "      <td>1.0</td>\n",
       "      <td>GEFITINIB</td>\n",
       "      <td>IRESSA</td>\n",
       "      <td>72.0</td>\n",
       "      <td>801.0</td>\n",
       "      <td>2.0</td>\n",
       "      <td>64.4108</td>\n",
       "      <td>NaN</td>\n",
       "      <td>NaN</td>\n",
       "      <td>1.0</td>\n",
       "      <td>Kinase Inhibitor [EPC]</td>\n",
       "      <td>NaN</td>\n",
       "      <td>NaN</td>\n",
       "      <td>1.0</td>\n",
       "    </tr>\n",
       "  </tbody>\n",
       "</table>\n",
       "</div>"
      ],
      "text/plain": [
       "   generic name Index (generated) Generic Name Medicinalproduct  \\\n",
       "0                             1.0    GEFITINIB           IRESSA   \n",
       "1                             1.0    GEFITINIB           IRESSA   \n",
       "2                             1.0    GEFITINIB           IRESSA   \n",
       "\n",
       "   Patientonsetage  Patientonsetageunit  Patientsex  Patientweight  \\\n",
       "0             72.0                801.0         2.0        64.4108   \n",
       "1             72.0                801.0         2.0        64.4108   \n",
       "2             72.0                801.0         2.0        64.4108   \n",
       "\n",
       "   pharm class cs Index (generated) Pharm Class Cs  \\\n",
       "0                               NaN            NaN   \n",
       "1                               NaN            NaN   \n",
       "2                               NaN            NaN   \n",
       "\n",
       "   pharm class epc Index (generated)         Pharm Class Epc  \\\n",
       "0                                1.0  Kinase Inhibitor [EPC]   \n",
       "1                                1.0  Kinase Inhibitor [EPC]   \n",
       "2                                1.0  Kinase Inhibitor [EPC]   \n",
       "\n",
       "   pharm class pe Index (generated) Pharm Class Pe  Qualification  \n",
       "0                               NaN            NaN            1.0  \n",
       "1                               NaN            NaN            1.0  \n",
       "2                               NaN            NaN            1.0  "
      ]
     },
     "execution_count": 161,
     "metadata": {},
     "output_type": "execute_result"
    }
   ],
   "source": [
    "# show column 16 to 30 and 3 rows of dataframe\n",
    "\n",
    "drug_reaction_inputdf.iloc[:,16:30].head(3)"
   ]
  },
  {
   "cell_type": "code",
   "execution_count": 162,
   "metadata": {},
   "outputs": [
    {
     "data": {
      "text/html": [
       "<div>\n",
       "<style>\n",
       "    .dataframe thead tr:only-child th {\n",
       "        text-align: right;\n",
       "    }\n",
       "\n",
       "    .dataframe thead th {\n",
       "        text-align: left;\n",
       "    }\n",
       "\n",
       "    .dataframe tbody tr th {\n",
       "        vertical-align: top;\n",
       "    }\n",
       "</style>\n",
       "<table border=\"1\" class=\"dataframe\">\n",
       "  <thead>\n",
       "    <tr style=\"text-align: right;\">\n",
       "      <th></th>\n",
       "      <th>Reactionmeddrapt</th>\n",
       "      <th>Receiptdate</th>\n",
       "      <th>Receiptdateformat</th>\n",
       "      <th>Receivedate</th>\n",
       "      <th>Receivedateformat</th>\n",
       "      <th>Reportercountry</th>\n",
       "      <th>results Index (generated)</th>\n",
       "      <th>route Index (generated)</th>\n",
       "      <th>Route</th>\n",
       "      <th>Safetyreportid</th>\n",
       "      <th>Serious</th>\n",
       "      <th>Seriousnesscongenitalanomali</th>\n",
       "      <th>Seriousnessdeath</th>\n",
       "      <th>Seriousnessdisabling</th>\n",
       "    </tr>\n",
       "  </thead>\n",
       "  <tbody>\n",
       "    <tr>\n",
       "      <th>0</th>\n",
       "      <td>DIARRHOEA</td>\n",
       "      <td>20030616</td>\n",
       "      <td>102</td>\n",
       "      <td>20061213</td>\n",
       "      <td>102</td>\n",
       "      <td>UNITED STATES</td>\n",
       "      <td>2</td>\n",
       "      <td>1.0</td>\n",
       "      <td>ORAL</td>\n",
       "      <td>5265609-4</td>\n",
       "      <td>1</td>\n",
       "      <td>NaN</td>\n",
       "      <td>NaN</td>\n",
       "      <td>NaN</td>\n",
       "    </tr>\n",
       "    <tr>\n",
       "      <th>1</th>\n",
       "      <td>OEDEMA MOUTH</td>\n",
       "      <td>20030616</td>\n",
       "      <td>102</td>\n",
       "      <td>20061213</td>\n",
       "      <td>102</td>\n",
       "      <td>UNITED STATES</td>\n",
       "      <td>2</td>\n",
       "      <td>1.0</td>\n",
       "      <td>ORAL</td>\n",
       "      <td>5265609-4</td>\n",
       "      <td>1</td>\n",
       "      <td>NaN</td>\n",
       "      <td>NaN</td>\n",
       "      <td>NaN</td>\n",
       "    </tr>\n",
       "    <tr>\n",
       "      <th>2</th>\n",
       "      <td>RASH</td>\n",
       "      <td>20030616</td>\n",
       "      <td>102</td>\n",
       "      <td>20061213</td>\n",
       "      <td>102</td>\n",
       "      <td>UNITED STATES</td>\n",
       "      <td>2</td>\n",
       "      <td>1.0</td>\n",
       "      <td>ORAL</td>\n",
       "      <td>5265609-4</td>\n",
       "      <td>1</td>\n",
       "      <td>NaN</td>\n",
       "      <td>NaN</td>\n",
       "      <td>NaN</td>\n",
       "    </tr>\n",
       "  </tbody>\n",
       "</table>\n",
       "</div>"
      ],
      "text/plain": [
       "  Reactionmeddrapt  Receiptdate  Receiptdateformat  Receivedate  \\\n",
       "0        DIARRHOEA     20030616                102     20061213   \n",
       "1     OEDEMA MOUTH     20030616                102     20061213   \n",
       "2             RASH     20030616                102     20061213   \n",
       "\n",
       "   Receivedateformat Reportercountry  results Index (generated)  \\\n",
       "0                102   UNITED STATES                          2   \n",
       "1                102   UNITED STATES                          2   \n",
       "2                102   UNITED STATES                          2   \n",
       "\n",
       "   route Index (generated) Route Safetyreportid  Serious  \\\n",
       "0                      1.0  ORAL      5265609-4        1   \n",
       "1                      1.0  ORAL      5265609-4        1   \n",
       "2                      1.0  ORAL      5265609-4        1   \n",
       "\n",
       "   Seriousnesscongenitalanomali  Seriousnessdeath  Seriousnessdisabling  \n",
       "0                           NaN               NaN                   NaN  \n",
       "1                           NaN               NaN                   NaN  \n",
       "2                           NaN               NaN                   NaN  "
      ]
     },
     "execution_count": 162,
     "metadata": {},
     "output_type": "execute_result"
    }
   ],
   "source": [
    "# show column 31 to 45 and 3 rows of dataframe\n",
    "\n",
    "drug_reaction_inputdf.iloc[:,31:45].head(3)"
   ]
  },
  {
   "cell_type": "code",
   "execution_count": 163,
   "metadata": {},
   "outputs": [
    {
     "data": {
      "text/html": [
       "<div>\n",
       "<style>\n",
       "    .dataframe thead tr:only-child th {\n",
       "        text-align: right;\n",
       "    }\n",
       "\n",
       "    .dataframe thead th {\n",
       "        text-align: left;\n",
       "    }\n",
       "\n",
       "    .dataframe tbody tr th {\n",
       "        vertical-align: top;\n",
       "    }\n",
       "</style>\n",
       "<table border=\"1\" class=\"dataframe\">\n",
       "  <thead>\n",
       "    <tr style=\"text-align: right;\">\n",
       "      <th></th>\n",
       "      <th>Reportercountry</th>\n",
       "      <th>results Index (generated)</th>\n",
       "      <th>route Index (generated)</th>\n",
       "      <th>Route</th>\n",
       "      <th>Safetyreportid</th>\n",
       "      <th>Serious</th>\n",
       "      <th>Seriousnesscongenitalanomali</th>\n",
       "      <th>Seriousnessdeath</th>\n",
       "      <th>Seriousnessdisabling</th>\n",
       "      <th>Seriousnesshospitalization</th>\n",
       "      <th>Seriousnesslifethreatening</th>\n",
       "      <th>Seriousnessother</th>\n",
       "      <th>substance name Index (generated)</th>\n",
       "      <th>Substance Name</th>\n",
       "      <th>Transmissiondate</th>\n",
       "      <th>Transmissiondateformat</th>\n",
       "    </tr>\n",
       "  </thead>\n",
       "  <tbody>\n",
       "    <tr>\n",
       "      <th>0</th>\n",
       "      <td>UNITED STATES</td>\n",
       "      <td>2</td>\n",
       "      <td>1.0</td>\n",
       "      <td>ORAL</td>\n",
       "      <td>5265609-4</td>\n",
       "      <td>1</td>\n",
       "      <td>NaN</td>\n",
       "      <td>NaN</td>\n",
       "      <td>NaN</td>\n",
       "      <td>NaN</td>\n",
       "      <td>NaN</td>\n",
       "      <td>1.0</td>\n",
       "      <td>1.0</td>\n",
       "      <td>GEFITINIB</td>\n",
       "      <td>20070707</td>\n",
       "      <td>102</td>\n",
       "    </tr>\n",
       "    <tr>\n",
       "      <th>1</th>\n",
       "      <td>UNITED STATES</td>\n",
       "      <td>2</td>\n",
       "      <td>1.0</td>\n",
       "      <td>ORAL</td>\n",
       "      <td>5265609-4</td>\n",
       "      <td>1</td>\n",
       "      <td>NaN</td>\n",
       "      <td>NaN</td>\n",
       "      <td>NaN</td>\n",
       "      <td>NaN</td>\n",
       "      <td>NaN</td>\n",
       "      <td>1.0</td>\n",
       "      <td>1.0</td>\n",
       "      <td>GEFITINIB</td>\n",
       "      <td>20070707</td>\n",
       "      <td>102</td>\n",
       "    </tr>\n",
       "    <tr>\n",
       "      <th>2</th>\n",
       "      <td>UNITED STATES</td>\n",
       "      <td>2</td>\n",
       "      <td>1.0</td>\n",
       "      <td>ORAL</td>\n",
       "      <td>5265609-4</td>\n",
       "      <td>1</td>\n",
       "      <td>NaN</td>\n",
       "      <td>NaN</td>\n",
       "      <td>NaN</td>\n",
       "      <td>NaN</td>\n",
       "      <td>NaN</td>\n",
       "      <td>1.0</td>\n",
       "      <td>1.0</td>\n",
       "      <td>GEFITINIB</td>\n",
       "      <td>20070707</td>\n",
       "      <td>102</td>\n",
       "    </tr>\n",
       "  </tbody>\n",
       "</table>\n",
       "</div>"
      ],
      "text/plain": [
       "  Reportercountry  results Index (generated)  route Index (generated) Route  \\\n",
       "0   UNITED STATES                          2                      1.0  ORAL   \n",
       "1   UNITED STATES                          2                      1.0  ORAL   \n",
       "2   UNITED STATES                          2                      1.0  ORAL   \n",
       "\n",
       "  Safetyreportid  Serious  Seriousnesscongenitalanomali  Seriousnessdeath  \\\n",
       "0      5265609-4        1                           NaN               NaN   \n",
       "1      5265609-4        1                           NaN               NaN   \n",
       "2      5265609-4        1                           NaN               NaN   \n",
       "\n",
       "   Seriousnessdisabling  Seriousnesshospitalization  \\\n",
       "0                   NaN                         NaN   \n",
       "1                   NaN                         NaN   \n",
       "2                   NaN                         NaN   \n",
       "\n",
       "   Seriousnesslifethreatening  Seriousnessother  \\\n",
       "0                         NaN               1.0   \n",
       "1                         NaN               1.0   \n",
       "2                         NaN               1.0   \n",
       "\n",
       "   substance name Index (generated) Substance Name  Transmissiondate  \\\n",
       "0                               1.0      GEFITINIB          20070707   \n",
       "1                               1.0      GEFITINIB          20070707   \n",
       "2                               1.0      GEFITINIB          20070707   \n",
       "\n",
       "   Transmissiondateformat  \n",
       "0                     102  \n",
       "1                     102  \n",
       "2                     102  "
      ]
     },
     "execution_count": 163,
     "metadata": {},
     "output_type": "execute_result"
    }
   ],
   "source": [
    "# show column 36 to 54 and 3 rows of dataframe\n",
    "\n",
    "drug_reaction_inputdf.iloc[:,36:54].head(3)"
   ]
  },
  {
   "cell_type": "code",
   "execution_count": 164,
   "metadata": {},
   "outputs": [],
   "source": [
    "# select numerical variables to display summary statistics(df.loc[:, df.dtypes == np.float64])\n",
    "\n",
    "selected_int_df = ['Patientsex','Patientonsetage','Drugenddate','Drugtreatmentduration','Drugcharacterization','Serious']\n",
    "\n",
    "drug_reaction_intgerdf = drug_reaction_inputdf[selected_int_df]"
   ]
  },
  {
   "cell_type": "code",
   "execution_count": 165,
   "metadata": {},
   "outputs": [
    {
     "data": {
      "text/html": [
       "<div>\n",
       "<style>\n",
       "    .dataframe thead tr:only-child th {\n",
       "        text-align: right;\n",
       "    }\n",
       "\n",
       "    .dataframe thead th {\n",
       "        text-align: left;\n",
       "    }\n",
       "\n",
       "    .dataframe tbody tr th {\n",
       "        vertical-align: top;\n",
       "    }\n",
       "</style>\n",
       "<table border=\"1\" class=\"dataframe\">\n",
       "  <thead>\n",
       "    <tr style=\"text-align: right;\">\n",
       "      <th></th>\n",
       "      <th>Patientsex</th>\n",
       "      <th>Patientonsetage</th>\n",
       "      <th>Drugenddate</th>\n",
       "      <th>Drugtreatmentduration</th>\n",
       "      <th>Drugcharacterization</th>\n",
       "      <th>Serious</th>\n",
       "    </tr>\n",
       "  </thead>\n",
       "  <tbody>\n",
       "    <tr>\n",
       "      <th>count</th>\n",
       "      <td>92057.000000</td>\n",
       "      <td>87098.000000</td>\n",
       "      <td>3.322200e+04</td>\n",
       "      <td>6237.000000</td>\n",
       "      <td>92130.000000</td>\n",
       "      <td>92130.000000</td>\n",
       "    </tr>\n",
       "    <tr>\n",
       "      <th>mean</th>\n",
       "      <td>1.687943</td>\n",
       "      <td>126.803727</td>\n",
       "      <td>1.998388e+07</td>\n",
       "      <td>3060.614879</td>\n",
       "      <td>1.564224</td>\n",
       "      <td>1.197862</td>\n",
       "    </tr>\n",
       "    <tr>\n",
       "      <th>std</th>\n",
       "      <td>0.463710</td>\n",
       "      <td>1307.372720</td>\n",
       "      <td>9.371848e+05</td>\n",
       "      <td>11073.953832</td>\n",
       "      <td>0.498785</td>\n",
       "      <td>0.398389</td>\n",
       "    </tr>\n",
       "    <tr>\n",
       "      <th>min</th>\n",
       "      <td>0.000000</td>\n",
       "      <td>0.000000</td>\n",
       "      <td>1.998000e+03</td>\n",
       "      <td>1.000000</td>\n",
       "      <td>1.000000</td>\n",
       "      <td>1.000000</td>\n",
       "    </tr>\n",
       "    <tr>\n",
       "      <th>25%</th>\n",
       "      <td>1.000000</td>\n",
       "      <td>48.000000</td>\n",
       "      <td>2.002103e+07</td>\n",
       "      <td>4.000000</td>\n",
       "      <td>1.000000</td>\n",
       "      <td>1.000000</td>\n",
       "    </tr>\n",
       "    <tr>\n",
       "      <th>50%</th>\n",
       "      <td>2.000000</td>\n",
       "      <td>58.000000</td>\n",
       "      <td>2.003102e+07</td>\n",
       "      <td>28.000000</td>\n",
       "      <td>2.000000</td>\n",
       "      <td>1.000000</td>\n",
       "    </tr>\n",
       "    <tr>\n",
       "      <th>75%</th>\n",
       "      <td>2.000000</td>\n",
       "      <td>76.000000</td>\n",
       "      <td>2.003102e+07</td>\n",
       "      <td>360.000000</td>\n",
       "      <td>2.000000</td>\n",
       "      <td>1.000000</td>\n",
       "    </tr>\n",
       "    <tr>\n",
       "      <th>max</th>\n",
       "      <td>2.000000</td>\n",
       "      <td>33728.000000</td>\n",
       "      <td>3.200011e+07</td>\n",
       "      <td>99360.000000</td>\n",
       "      <td>3.000000</td>\n",
       "      <td>2.000000</td>\n",
       "    </tr>\n",
       "  </tbody>\n",
       "</table>\n",
       "</div>"
      ],
      "text/plain": [
       "         Patientsex  Patientonsetage   Drugenddate  Drugtreatmentduration  \\\n",
       "count  92057.000000     87098.000000  3.322200e+04            6237.000000   \n",
       "mean       1.687943       126.803727  1.998388e+07            3060.614879   \n",
       "std        0.463710      1307.372720  9.371848e+05           11073.953832   \n",
       "min        0.000000         0.000000  1.998000e+03               1.000000   \n",
       "25%        1.000000        48.000000  2.002103e+07               4.000000   \n",
       "50%        2.000000        58.000000  2.003102e+07              28.000000   \n",
       "75%        2.000000        76.000000  2.003102e+07             360.000000   \n",
       "max        2.000000     33728.000000  3.200011e+07           99360.000000   \n",
       "\n",
       "       Drugcharacterization       Serious  \n",
       "count          92130.000000  92130.000000  \n",
       "mean               1.564224      1.197862  \n",
       "std                0.498785      0.398389  \n",
       "min                1.000000      1.000000  \n",
       "25%                1.000000      1.000000  \n",
       "50%                2.000000      1.000000  \n",
       "75%                2.000000      1.000000  \n",
       "max                3.000000      2.000000  "
      ]
     },
     "execution_count": 165,
     "metadata": {},
     "output_type": "execute_result"
    }
   ],
   "source": [
    "drug_reaction_intgerdf.describe()"
   ]
  },
  {
   "cell_type": "code",
   "execution_count": 166,
   "metadata": {},
   "outputs": [
    {
     "data": {
      "text/plain": [
       "Unnamed: 0                           0.000000\n",
       "Companynumb                          0.000000\n",
       "drug Index (generated)               0.000000\n",
       "Drugadministrationroute              0.000000\n",
       "Drugauthorizationnumb                0.000000\n",
       "Drugbatchnumb                        0.000000\n",
       "Drugcharacterization                 0.000000\n",
       "Drugdosagetext                       0.000000\n",
       "Drugenddate                          0.000000\n",
       "Drugenddateformat                    0.000000\n",
       "Drugindication                       0.000000\n",
       "Drugstartdate                        0.000000\n",
       "Drugstartdateformat                  0.000000\n",
       "Drugtreatmentduration                0.000000\n",
       "Drugtreatmentdurationunit            0.000000\n",
       "Fulfillexpeditecriteria              0.000000\n",
       "generic name Index (generated)       0.000000\n",
       "Generic Name                         0.000000\n",
       "Medicinalproduct                     0.000000\n",
       "Patientonsetage                      0.192120\n",
       "Patientonsetageunit                  0.000000\n",
       "Patientsex                           0.017367\n",
       "Patientweight                        0.002171\n",
       "pharm class cs Index (generated)     0.000000\n",
       "Pharm Class Cs                       0.000000\n",
       "pharm class epc Index (generated)    0.000000\n",
       "Pharm Class Epc                      0.000000\n",
       "pharm class pe Index (generated)     0.000000\n",
       "Pharm Class Pe                       0.000000\n",
       "Qualification                        0.000000\n",
       "reaction Index (generated)           0.000000\n",
       "Reactionmeddrapt                     0.000000\n",
       "Receiptdate                          0.000000\n",
       "Receiptdateformat                    0.000000\n",
       "Receivedate                          0.000000\n",
       "Receivedateformat                    0.000000\n",
       "Reportercountry                      0.000000\n",
       "results Index (generated)            0.000000\n",
       "route Index (generated)              0.000000\n",
       "Route                                0.000000\n",
       "Safetyreportid                       0.000000\n",
       "Serious                              0.000000\n",
       "Seriousnesscongenitalanomali         0.000000\n",
       "Seriousnessdeath                     0.000000\n",
       "Seriousnessdisabling                 0.000000\n",
       "Seriousnesshospitalization           0.000000\n",
       "Seriousnesslifethreatening           0.000000\n",
       "Seriousnessother                     0.000000\n",
       "substance name Index (generated)     0.000000\n",
       "Substance Name                       0.000000\n",
       "Transmissiondate                     0.000000\n",
       "Transmissiondateformat               0.000000\n",
       "dtype: float64"
      ]
     },
     "execution_count": 166,
     "metadata": {},
     "output_type": "execute_result"
    }
   ],
   "source": [
    "# count of zero values\n",
    "\n",
    "#row_zero_count = (df[df == 0].count(axis=1)/len(df.columns))\n",
    "# raw dataframe after dropping redaundant columns\n",
    "column_zero_count = (drug_reaction_inputdf[drug_reaction_inputdf == 0].count(axis=0)/len(drug_reaction_inputdf.index))*100\n",
    "column_zero_count"
   ]
  },
  {
   "cell_type": "code",
   "execution_count": 167,
   "metadata": {},
   "outputs": [
    {
     "data": {
      "text/plain": [
       "Unnamed: 0                           92130\n",
       "Companynumb                           2624\n",
       "drug Index (generated)                  34\n",
       "Drugadministrationroute                 33\n",
       "Drugauthorizationnumb                  363\n",
       "Drugbatchnumb                          500\n",
       "Drugcharacterization                     3\n",
       "Drugdosagetext                        1321\n",
       "Drugenddate                            938\n",
       "Drugenddateformat                        3\n",
       "Drugindication                         598\n",
       "Drugstartdate                         1280\n",
       "Drugstartdateformat                      3\n",
       "Drugtreatmentduration                  206\n",
       "Drugtreatmentdurationunit                6\n",
       "Fulfillexpeditecriteria                  2\n",
       "generic name Index (generated)           6\n",
       "Generic Name                           431\n",
       "Medicinalproduct                      1960\n",
       "Patientonsetage                        116\n",
       "Patientonsetageunit                      5\n",
       "Patientsex                               3\n",
       "Patientweight                          705\n",
       "pharm class cs Index (generated)         5\n",
       "Pharm Class Cs                          68\n",
       "pharm class epc Index (generated)        5\n",
       "Pharm Class Epc                        129\n",
       "pharm class pe Index (generated)         4\n",
       "Pharm Class Pe                          28\n",
       "Qualification                            5\n",
       "reaction Index (generated)              79\n",
       "Reactionmeddrapt                      2267\n",
       "Receiptdate                            672\n",
       "Receiptdateformat                        1\n",
       "Receivedate                            447\n",
       "Receivedateformat                        1\n",
       "Reportercountry                         59\n",
       "results Index (generated)             2679\n",
       "route Index (generated)                  7\n",
       "Route                                   29\n",
       "Safetyreportid                        2678\n",
       "Serious                                  2\n",
       "Seriousnesscongenitalanomali             1\n",
       "Seriousnessdeath                         1\n",
       "Seriousnessdisabling                     1\n",
       "Seriousnesshospitalization               1\n",
       "Seriousnesslifethreatening               1\n",
       "Seriousnessother                         1\n",
       "substance name Index (generated)        26\n",
       "Substance Name                         458\n",
       "Transmissiondate                        32\n",
       "Transmissiondateformat                   1\n",
       "dtype: int64"
      ]
     },
     "execution_count": 167,
     "metadata": {},
     "output_type": "execute_result"
    }
   ],
   "source": [
    "drug_reaction_inputdf.nunique()"
   ]
  },
  {
   "cell_type": "code",
   "execution_count": 168,
   "metadata": {},
   "outputs": [
    {
     "data": {
      "text/html": [
       "<div>\n",
       "<style>\n",
       "    .dataframe thead tr:only-child th {\n",
       "        text-align: right;\n",
       "    }\n",
       "\n",
       "    .dataframe thead th {\n",
       "        text-align: left;\n",
       "    }\n",
       "\n",
       "    .dataframe tbody tr th {\n",
       "        vertical-align: top;\n",
       "    }\n",
       "</style>\n",
       "<table border=\"1\" class=\"dataframe\">\n",
       "  <thead>\n",
       "    <tr style=\"text-align: right;\">\n",
       "      <th></th>\n",
       "      <th>results Index (generated)</th>\n",
       "      <th>route Index (generated)</th>\n",
       "      <th>Serious</th>\n",
       "      <th>Seriousnesscongenitalanomali</th>\n",
       "      <th>Seriousnessdeath</th>\n",
       "      <th>Seriousnessdisabling</th>\n",
       "      <th>Seriousnesshospitalization</th>\n",
       "    </tr>\n",
       "  </thead>\n",
       "  <tbody>\n",
       "    <tr>\n",
       "      <th>count</th>\n",
       "      <td>92130.000000</td>\n",
       "      <td>75334.000000</td>\n",
       "      <td>92130.000000</td>\n",
       "      <td>347.0</td>\n",
       "      <td>5758.0</td>\n",
       "      <td>9169.0</td>\n",
       "      <td>40974.0</td>\n",
       "    </tr>\n",
       "    <tr>\n",
       "      <th>mean</th>\n",
       "      <td>6749.197449</td>\n",
       "      <td>1.141078</td>\n",
       "      <td>1.197862</td>\n",
       "      <td>1.0</td>\n",
       "      <td>1.0</td>\n",
       "      <td>1.0</td>\n",
       "      <td>1.0</td>\n",
       "    </tr>\n",
       "    <tr>\n",
       "      <th>std</th>\n",
       "      <td>3760.669273</td>\n",
       "      <td>0.408494</td>\n",
       "      <td>0.398389</td>\n",
       "      <td>0.0</td>\n",
       "      <td>0.0</td>\n",
       "      <td>0.0</td>\n",
       "      <td>0.0</td>\n",
       "    </tr>\n",
       "    <tr>\n",
       "      <th>min</th>\n",
       "      <td>2.000000</td>\n",
       "      <td>1.000000</td>\n",
       "      <td>1.000000</td>\n",
       "      <td>1.0</td>\n",
       "      <td>1.0</td>\n",
       "      <td>1.0</td>\n",
       "      <td>1.0</td>\n",
       "    </tr>\n",
       "    <tr>\n",
       "      <th>25%</th>\n",
       "      <td>3077.000000</td>\n",
       "      <td>1.000000</td>\n",
       "      <td>1.000000</td>\n",
       "      <td>1.0</td>\n",
       "      <td>1.0</td>\n",
       "      <td>1.0</td>\n",
       "      <td>1.0</td>\n",
       "    </tr>\n",
       "    <tr>\n",
       "      <th>50%</th>\n",
       "      <td>6490.000000</td>\n",
       "      <td>1.000000</td>\n",
       "      <td>1.000000</td>\n",
       "      <td>1.0</td>\n",
       "      <td>1.0</td>\n",
       "      <td>1.0</td>\n",
       "      <td>1.0</td>\n",
       "    </tr>\n",
       "    <tr>\n",
       "      <th>75%</th>\n",
       "      <td>10549.000000</td>\n",
       "      <td>1.000000</td>\n",
       "      <td>1.000000</td>\n",
       "      <td>1.0</td>\n",
       "      <td>1.0</td>\n",
       "      <td>1.0</td>\n",
       "      <td>1.0</td>\n",
       "    </tr>\n",
       "    <tr>\n",
       "      <th>max</th>\n",
       "      <td>15000.000000</td>\n",
       "      <td>7.000000</td>\n",
       "      <td>2.000000</td>\n",
       "      <td>1.0</td>\n",
       "      <td>1.0</td>\n",
       "      <td>1.0</td>\n",
       "      <td>1.0</td>\n",
       "    </tr>\n",
       "  </tbody>\n",
       "</table>\n",
       "</div>"
      ],
      "text/plain": [
       "       results Index (generated)  route Index (generated)       Serious  \\\n",
       "count               92130.000000             75334.000000  92130.000000   \n",
       "mean                 6749.197449                 1.141078      1.197862   \n",
       "std                  3760.669273                 0.408494      0.398389   \n",
       "min                     2.000000                 1.000000      1.000000   \n",
       "25%                  3077.000000                 1.000000      1.000000   \n",
       "50%                  6490.000000                 1.000000      1.000000   \n",
       "75%                 10549.000000                 1.000000      1.000000   \n",
       "max                 15000.000000                 7.000000      2.000000   \n",
       "\n",
       "       Seriousnesscongenitalanomali  Seriousnessdeath  Seriousnessdisabling  \\\n",
       "count                         347.0            5758.0                9169.0   \n",
       "mean                            1.0               1.0                   1.0   \n",
       "std                             0.0               0.0                   0.0   \n",
       "min                             1.0               1.0                   1.0   \n",
       "25%                             1.0               1.0                   1.0   \n",
       "50%                             1.0               1.0                   1.0   \n",
       "75%                             1.0               1.0                   1.0   \n",
       "max                             1.0               1.0                   1.0   \n",
       "\n",
       "       Seriousnesshospitalization  \n",
       "count                     40974.0  \n",
       "mean                          1.0  \n",
       "std                           0.0  \n",
       "min                           1.0  \n",
       "25%                           1.0  \n",
       "50%                           1.0  \n",
       "75%                           1.0  \n",
       "max                           1.0  "
      ]
     },
     "execution_count": 168,
     "metadata": {},
     "output_type": "execute_result"
    }
   ],
   "source": [
    "#sumary of data\n",
    "\n",
    "drug_reaction_inputdf.iloc[:,36:46].describe()"
   ]
  },
  {
   "cell_type": "code",
   "execution_count": 169,
   "metadata": {},
   "outputs": [],
   "source": [
    "# Data cleaning\n",
    "# The data cleaning process is implemented to drop redundant and duplicated variables that are not required,\n",
    "# also create uniform datatypes in each column of dataframe.\n",
    "# This process of cleaning each column will remove meta characters, numerical value\n",
    "# in text columns and texts from numeric columns. This will produce same data type for all values of a\n",
    "# variable. It will increase accuracy of plots, data engineering and modelling.\n",
    "# The unique values in each columns will be examined for cleaning columns where necesary.\n",
    "# functions are creted to clean numeric and objects data types respectively\n",
    "# The count of unique values will be displayed before and after cleaning to check any deviation"
   ]
  },
  {
   "cell_type": "code",
   "execution_count": 170,
   "metadata": {},
   "outputs": [],
   "source": [
    "# select and remove duplicate columns\n",
    "\n",
    "drug_reaction_df1 = drug_reaction_inputdf.copy()\n",
    "\n",
    "duplicate_cols = ['drug Index (generated)','generic name Index (generated)','pharm class cs Index (generated)','pharm class epc Index (generated)',\n",
    "'pharm class pe Index (generated)', 'reaction Index (generated)','results Index (generated)',\n",
    " 'substance name Index (generated)','route Index (generated)']\n",
    "\n",
    "drug_reaction_df1 = drug_reaction_df1.drop(drug_reaction_df1[duplicate_cols], axis = 1)"
   ]
  },
  {
   "cell_type": "code",
   "execution_count": 1,
   "metadata": {},
   "outputs": [],
   "source": [
    "# check Null values in each column, the columns with more than 70% of null values will be removed\n",
    "# check the percentage of null values\n",
    "#1.4 Function to calculate percentage of NaN missing values in each variable of the dataset. columns where 70 to 100% of values are Null are dropped at this stage\n",
    "\n",
    "def nan_percentage(df):\n",
    "    ''' calcute the percentage of NaN values for each column in the dataframe and return only columns containing NaN and the percentage'''\n",
    "    \n",
    "    nandf = df.loc[:, df.isnull().any()]  # get columns containing nan values\n",
    "    nan_percent = nandf.isnull().sum(axis = 0)/len(df)*100  # percentage of nan values\n",
    "    \n",
    "    return nan_percent\n",
    "# call the function\n"
   ]
  },
  {
   "cell_type": "code",
   "execution_count": 172,
   "metadata": {},
   "outputs": [
    {
     "data": {
      "text/plain": [
       "Companynumb                      0.334310\n",
       "Drugadministrationroute         70.118311\n",
       "Drugauthorizationnumb           88.183002\n",
       "Drugbatchnumb                   95.308803\n",
       "Drugdosagetext                  64.651037\n",
       "Drugenddate                     63.940085\n",
       "Drugenddateformat               63.940085\n",
       "Drugindication                  54.597851\n",
       "Drugstartdate                   54.072506\n",
       "Drugstartdateformat             54.072506\n",
       "Drugtreatmentduration           93.230218\n",
       "Drugtreatmentdurationunit       97.499186\n",
       "Generic Name                    17.897536\n",
       "Patientonsetage                  5.461847\n",
       "Patientonsetageunit              4.184305\n",
       "Patientsex                       0.079236\n",
       "Pharm Class Cs                  37.196353\n",
       "Pharm Class Epc                 30.603495\n",
       "Pharm Class Pe                  66.280256\n",
       "Qualification                   16.609139\n",
       "Reportercountry                 89.369369\n",
       "Route                           18.230761\n",
       "Seriousnesscongenitalanomali    99.623358\n",
       "Seriousnessdeath                93.750136\n",
       "Seriousnessdisabling            90.047759\n",
       "Seriousnesshospitalization      55.525887\n",
       "Seriousnesslifethreatening      95.167698\n",
       "Seriousnessother                59.438836\n",
       "Substance Name                  18.232932\n",
       "dtype: float64"
      ]
     },
     "execution_count": 172,
     "metadata": {},
     "output_type": "execute_result"
    }
   ],
   "source": [
    "# apply the nan_percent function\n",
    "\n",
    "df = drug_reaction_df1\n",
    "\n",
    "nan_percentage()"
   ]
  },
  {
   "cell_type": "code",
   "execution_count": 173,
   "metadata": {},
   "outputs": [],
   "source": [
    "null_columns = ['Drugauthorizationnumb','Drugbatchnumb','Companynumb','Drugtreatmentduration',\n",
    "                'Drugtreatmentdurationunit','Companynumb','Seriousnessdisabling','Seriousnesslifethreatening',\n",
    "                'Seriousnesscongenitalanomali','Reportercountry','Safetyreportid']\n",
    "\n",
    "drug_reaction_df2 = drug_reaction_df1.copy()\n",
    "\n",
    "drug_reaction_df2 = drug_reaction_df2.drop(drug_reaction_df2[null_columns], axis = 1)"
   ]
  },
  {
   "cell_type": "code",
   "execution_count": 174,
   "metadata": {},
   "outputs": [
    {
     "data": {
      "text/plain": [
       "Drugadministrationroute       70.118311\n",
       "Drugdosagetext                64.651037\n",
       "Drugenddate                   63.940085\n",
       "Drugenddateformat             63.940085\n",
       "Drugindication                54.597851\n",
       "Drugstartdate                 54.072506\n",
       "Drugstartdateformat           54.072506\n",
       "Generic Name                  17.897536\n",
       "Patientonsetage                5.461847\n",
       "Patientonsetageunit            4.184305\n",
       "Patientsex                     0.079236\n",
       "Pharm Class Cs                37.196353\n",
       "Pharm Class Epc               30.603495\n",
       "Pharm Class Pe                66.280256\n",
       "Qualification                 16.609139\n",
       "Route                         18.230761\n",
       "Seriousnessdeath              93.750136\n",
       "Seriousnesshospitalization    55.525887\n",
       "Seriousnessother              59.438836\n",
       "Substance Name                18.232932\n",
       "dtype: float64"
      ]
     },
     "execution_count": 174,
     "metadata": {},
     "output_type": "execute_result"
    }
   ],
   "source": [
    "# apply the nan_percent function\n",
    "\n",
    "df = drug_reaction_df2\n",
    "\n",
    "nan_percentage()"
   ]
  },
  {
   "cell_type": "code",
   "execution_count": 175,
   "metadata": {},
   "outputs": [
    {
     "data": {
      "text/plain": [
       "Index(['unnamed:0', 'drugadministrationroute', 'drugcharacterization',\n",
       "       'drugdosagetext', 'drugenddate', 'drugenddateformat', 'drugindication',\n",
       "       'drugstartdate', 'drugstartdateformat', 'fulfillexpeditecriteria',\n",
       "       'genericname', 'medicinalproduct', 'patientonsetage',\n",
       "       'patientonsetageunit', 'patientsex', 'patientweight', 'pharmclasscs',\n",
       "       'pharmclassepc', 'pharmclasspe', 'qualification', 'reactionmeddrapt',\n",
       "       'receiptdate', 'receiptdateformat', 'receivedate', 'receivedateformat',\n",
       "       'route', 'serious', 'seriousnessdeath', 'seriousnesshospitalization',\n",
       "       'seriousnessother', 'substancename', 'transmissiondate',\n",
       "       'transmissiondateformat'],\n",
       "      dtype='object')"
      ]
     },
     "execution_count": 175,
     "metadata": {},
     "output_type": "execute_result"
    }
   ],
   "source": [
    "# Map the case lowering function to all column names #map(str.lower, df.columns) \n",
    "\n",
    "drug_reaction_df3 = drug_reaction_df2.copy()\n",
    "\n",
    "# lowercase column name amd remove space\n",
    "\n",
    "drug_reaction_df3.columns = drug_reaction_df3.columns.str.lower().str.replace(' ', '')\n",
    "\n",
    "drug_reaction_df3.columns"
   ]
  },
  {
   "cell_type": "code",
   "execution_count": 176,
   "metadata": {},
   "outputs": [],
   "source": [
    "# 2.1 create a function to clean integer type data\n",
    "\n",
    "def integer_clean(df):\n",
    "    '''return dataframe for integer data to retain only the digits (and dot and minus sign).\n",
    "    This would remove characters, alphabets or anything that is not defined in to_replace attribute\n",
    "    quality control data after cleaning\n",
    "    '''\n",
    "    df = df.loc[:, df.dtypes == np.int64].replace(regex=True, to_replace=r'[^0-9.\\-]', value=r'')\n",
    "    \n",
    "    return df\n",
    "\n",
    "# call function"
   ]
  },
  {
   "cell_type": "code",
   "execution_count": 177,
   "metadata": {},
   "outputs": [],
   "source": [
    "# 2.2 create a function to clean float type data.\n",
    "\n",
    "def float_clean(df):\n",
    "    '''return dataframe for integer data to retain only the digits (and dot and minus sign).\n",
    "    This would remove characters, alphabets or anything that is not defined in to_replace attribute\n",
    "    quality control data after cleaning\n",
    "    '''\n",
    "    df = df.loc[:, df.dtypes == np.float64].replace(regex=True, to_replace=r'[^0-9.\\-]', value=r'')\n",
    "    \n",
    "    return df\n",
    "   \n",
    "#call function"
   ]
  },
  {
   "cell_type": "code",
   "execution_count": 178,
   "metadata": {},
   "outputs": [],
   "source": [
    "# 2.3 create a function to clean string data.\n",
    "\n",
    "def clean_text(df = df, col= 'make'):\n",
    "    '''This function returns a pandas list object of the given dataframe and column.\n",
    "    The values of the column will be changed to lower case, remove spaces, punctuations and numbers,\n",
    "    replace lines with non ascii characters that might exist'''\n",
    "    \n",
    "    df[col]= df[col].str.strip().str.lower().str.replace(' ', '').str.replace('[^\\w\\s]','').apply(lambda x: x.translate(string.punctuation)).apply(lambda x: x.translate(string.digits)).str.replace('[#%\\'()*+,-./:;<=>?@\\[\\]^_`{|}~1234567890’”“′‘\\\\\\]','').str.replace(r'[^\\x00-\\x7f]', '')\n",
    "    \n",
    "    return df[col]\n",
    "    \n",
    "#call function"
   ]
  },
  {
   "cell_type": "code",
   "execution_count": 179,
   "metadata": {},
   "outputs": [
    {
     "data": {
      "text/plain": [
       "drugdosagetext      1321\n",
       "drugindication       598\n",
       "genericname          431\n",
       "medicinalproduct    1960\n",
       "pharmclasscs          68\n",
       "pharmclassepc        129\n",
       "pharmclasspe          28\n",
       "reactionmeddrapt    2267\n",
       "route                 29\n",
       "substancename        458\n",
       "dtype: int64"
      ]
     },
     "execution_count": 179,
     "metadata": {},
     "output_type": "execute_result"
    }
   ],
   "source": [
    "# text data columns, check unique values of each text column before transformation. \n",
    "\n",
    "drug_reaction_textdf3 = drug_reaction_df3.loc[:, drug_reaction_df3.dtypes == 'object'].copy()\n",
    "\n",
    "drug_reaction_textdf3.nunique()"
   ]
  },
  {
   "cell_type": "code",
   "execution_count": 181,
   "metadata": {},
   "outputs": [],
   "source": [
    "\"\"\"\n",
    "Exoloration Data Analyses\n",
    "The sub sets and groups of variables were visualised to gain insight on data distribution and\n",
    "relationship. The questions that guided the plots include.\n",
    "\n",
    "2.What are the most frequent words in the Drug dosage text?\n",
    "\n",
    "3.How do the categories vary with target variable?\n",
    "\n",
    "4.Which age category had more death adverse reaction?\n",
    "\n",
    "5.Which medicine products and route of intake were more involved in death drug adverse reaction?\n",
    "\n",
    "6.What is the count ratio of target variable? \n",
    "\n",
    "7.What is the effect of drug treatment duration on death drug adverse reaction?\n",
    "\n",
    "8.Is there a difference based on gender, weight and age on death adverse drug reaction?\n",
    "\"\"\"\n",
    "a = 'a'"
   ]
  },
  {
   "cell_type": "code",
   "execution_count": 182,
   "metadata": {},
   "outputs": [],
   "source": [
    " # 3.0 Exploratory Data Analysis and visualisation.\n",
    "'''\n",
    "The plots are produced using Matplotlib and Seaborn libraries\n",
    "\n",
    "give a differentiation or separation of the samples in the binary classifier.\n",
    "\n",
    "The visualisation will show relationship between input features or variables.\n",
    "\n",
    "Visualise data distribution of each variable for skew correction\n",
    "\n",
    "This will also help to discover trend and patterns in the data and to understand data characteristics.\n",
    "\n",
    "The Analysis is also aimed at discovering relationships in data engineering choice.\n",
    "\n",
    "Plot include univariate plots using Histogram, Barplot, Bivariate plots such as Boxplots, Multivariate scatter plots and cluster plots.\n",
    "'''\n",
    "plot ='plot'\n"
   ]
  },
  {
   "cell_type": "code",
   "execution_count": 183,
   "metadata": {},
   "outputs": [
    {
     "data": {
      "text/plain": [
       "array([0., 1.])"
      ]
     },
     "execution_count": 183,
     "metadata": {},
     "output_type": "execute_result"
    }
   ],
   "source": [
    "# The target variable for classification is seriousnessdeath\n",
    "# the value 1 represents death event due to adverse drug reation\n",
    "# \n",
    "\n",
    "drug_reaction_df33 = drug_reaction_df3.copy()\n",
    "\n",
    "drug_reaction_df33.seriousnessdeath = drug_reaction_df33.seriousnessdeath.fillna(0) # fill non death event with 0\n",
    "\n",
    "drug_reaction_df33.seriousnessdeath.unique()"
   ]
  },
  {
   "cell_type": "code",
   "execution_count": 184,
   "metadata": {},
   "outputs": [
    {
     "data": {
      "text/plain": [
       "array(['Kinase Inhibitor [EPC]', nan, 'Benzodiazepine [EPC]',\n",
       "       'Opioid Agonist [EPC]', 'Sympathomimetic-like Agent [EPC]',\n",
       "       'Calcineurin Inhibitor Immunosuppressant [EPC]',\n",
       "       'Leukocyte Growth Factor [EPC]', 'Platinum-based Drug [EPC]',\n",
       "       'Herpes Simplex Virus Nucleoside Analog DNA Polymerase Inhibitor [EPC]',\n",
       "       'Polyene Antifungal [EPC]'], dtype=object)"
      ]
     },
     "execution_count": 184,
     "metadata": {},
     "output_type": "execute_result"
    }
   ],
   "source": [
    "drug_reaction_df33.pharmclassepc.unique()[:10]"
   ]
  },
  {
   "cell_type": "code",
   "execution_count": 128,
   "metadata": {},
   "outputs": [
    {
     "data": {
      "text/plain": [
       "<Figure size 640x480 with 0 Axes>"
      ]
     },
     "metadata": {},
     "output_type": "display_data"
    },
    {
     "data": {
      "image/png": "[encoded data removed]",
      "text/plain": [
       "<Figure size 360x360 with 1 Axes>"
      ]
     },
     "metadata": {},
     "output_type": "display_data"
    }
   ],
   "source": [
    "#3.1 BarPlot of target variable 'seriousnessdeath'\n",
    "plt.figure(num=None, figsize=(8, 6), dpi=80, facecolor='w', edgecolor='k')\n",
    "sns.catplot(x=\"seriousnessdeath\", kind=\"count\",palette=\"ch:.25\", data=drug_reaction_df33)\n",
    "plt.title('Bar plot of Target variable seriousnessdeath')\n",
    "plt.xlabel('seriousnessdeath')\n",
    "plt.ylabel('Count of Values')\n",
    "plt.xticks(rotation='vertical')\n",
    "#plt.legend(loc='best')\n",
    "plt.show()"
   ]
  },
  {
   "cell_type": "code",
   "execution_count": 66,
   "metadata": {},
   "outputs": [],
   "source": [
    "# The data is imbalanced\n",
    "# The number of drug reations that resulted in death are much less than non death adverse reation events \n",
    "\"\"\"\n",
    "pharmclasspe          28\n",
    "route                 29\n",
    "\"\"\"\n",
    "a='a'"
   ]
  },
  {
   "cell_type": "code",
   "execution_count": 215,
   "metadata": {},
   "outputs": [
    {
     "data": {
      "text/plain": [
       "(0.0, 33728.0)"
      ]
     },
     "execution_count": 215,
     "metadata": {},
     "output_type": "execute_result"
    }
   ],
   "source": [
    "np.min(drug_reaction_df33.patientonsetage), np.max(drug_reaction_df33.patientonsetage)"
   ]
  },
  {
   "cell_type": "code",
   "execution_count": 141,
   "metadata": {},
   "outputs": [
    {
     "data": {
      "text/plain": [
       "array([nan])"
      ]
     },
     "execution_count": 141,
     "metadata": {},
     "output_type": "execute_result"
    }
   ],
   "source": [
    "# count of categorical values\n",
    "\n",
    "drug_reaction_df33['pharmclasspe_count'].unique()"
   ]
  },
  {
   "cell_type": "code",
   "execution_count": 150,
   "metadata": {},
   "outputs": [
    {
     "name": "stderr",
     "output_type": "stream",
     "text": [
      "C:\\Users\\yasser\\Anaconda2\\envs\\pyt36\\lib\\site-packages\\scipy\\stats\\stats.py:1713: FutureWarning: Using a non-tuple sequence for multidimensional indexing is deprecated; use `arr[tuple(seq)]` instead of `arr[seq]`. In the future this will be interpreted as an array index, `arr[np.array(seq)]`, which will result either in an error or a different result.\n",
      "  return np.add.reduce(sorted[indexer] * weights, axis=axis) / sumval\n"
     ]
    },
    {
     "data": {
      "image/png": "[encoded data removed]",
      "text/plain": [
       "<Figure size 455.875x360 with 1 Axes>"
      ]
     },
     "metadata": {},
     "output_type": "display_data"
    }
   ],
   "source": [
    "# Factor plot \n",
    "#plt.figure(num=None, dpi=80,figsize =(14,6), facecolor='w', edgecolor='k')\n",
    "sns.catplot('pharmclasspe', 'patientonsetage', hue='seriousnessdeath', data=drug_reaction_df33, kind='bar')\n",
    "plt.title('Patient experience subset by seriousness death')\n",
    "plt.xlabel('pharm class physiological experience')\n",
    "plt.ylabel('patient age')\n",
    "plt.xticks(rotation='vertical')\n",
    "#plt.legend(loc='best')\n",
    "plt.show()"
   ]
  },
  {
   "cell_type": "code",
   "execution_count": 186,
   "metadata": {},
   "outputs": [
    {
     "name": "stderr",
     "output_type": "stream",
     "text": [
      "C:\\Users\\yasser\\Anaconda2\\envs\\pyt36\\lib\\site-packages\\scipy\\stats\\stats.py:1713: FutureWarning: Using a non-tuple sequence for multidimensional indexing is deprecated; use `arr[tuple(seq)]` instead of `arr[seq]`. In the future this will be interpreted as an array index, `arr[np.array(seq)]`, which will result either in an error or a different result.\n",
      "  return np.add.reduce(sorted[indexer] * weights, axis=axis) / sumval\n"
     ]
    },
    {
     "data": {
      "image/png": "[encoded data removed]",
      "text/plain": [
       "<Figure size 455.875x360 with 1 Axes>"
      ]
     },
     "metadata": {},
     "output_type": "display_data"
    }
   ],
   "source": [
    "# Factor plot \n",
    "#plt.figure(num=None, dpi=80,figsize =(14,6), facecolor='w', edgecolor='k')\n",
    "sns.catplot('route', 'patientweight', hue='seriousnessdeath', data=drug_reaction_df33, kind='bar')\n",
    "plt.title('Drug ntake route')\n",
    "plt.xlabel('route')\n",
    "plt.ylabel('patientweight')\n",
    "plt.xticks(rotation='vertical')\n",
    "#plt.legend(loc='best')\n",
    "plt.show()"
   ]
  },
  {
   "cell_type": "code",
   "execution_count": 397,
   "metadata": {},
   "outputs": [
    {
     "name": "stderr",
     "output_type": "stream",
     "text": [
      "C:\\Users\\yasser\\Anaconda2\\envs\\pyt36\\lib\\site-packages\\scipy\\stats\\stats.py:1713: FutureWarning: Using a non-tuple sequence for multidimensional indexing is deprecated; use `arr[tuple(seq)]` instead of `arr[seq]`. In the future this will be interpreted as an array index, `arr[np.array(seq)]`, which will result either in an error or a different result.\n",
      "  return np.add.reduce(sorted[indexer] * weights, axis=axis) / sumval\n"
     ]
    },
    {
     "data": {
      "image/png": "[encoded data removed]",
      "text/plain": [
       "<Figure size 1008x432 with 2 Axes>"
      ]
     },
     "metadata": {},
     "output_type": "display_data"
    }
   ],
   "source": [
    "# Histogram of 'patientweight'\n",
    "\n",
    "# Multiple plots boxplot and histograms in the same window\n",
    "# Cut the window in 2 parts\n",
    "f, (ax_box, ax_hist) = plt.subplots(2, figsize =(14,6),sharex=True, gridspec_kw={\"height_ratios\": (.15, .85)})\n",
    " \n",
    "# Add a graph in each part\n",
    "sns.boxplot(drug_reaction_df33[\"patientweight\"], ax=ax_box)\n",
    "sns.distplot(drug_reaction_df33[\"patientweight\"], ax=ax_hist) \n",
    "# Remove x axis name for the boxplot\n",
    "ax_box.set(xlabel='')\n",
    "plt.title('Boxplot and Histogram of patientweight')\n",
    "plt.xlabel('patientweight')\n",
    "plt.ylabel('frequency ditribution')\n",
    "plt.xticks(rotation='vertical')\n",
    "#plt.legend(loc='best')\n",
    "plt.show()"
   ]
  },
  {
   "cell_type": "code",
   "execution_count": 402,
   "metadata": {},
   "outputs": [],
   "source": [
    "# patientweight distribution is skwed and shows outliers hence has to be transformed\n",
    "# plot histogram of log transformation of EngineSize\n",
    "# Add 1 to replace zero before log transform\n",
    "\n",
    "drug_reaction_df33.loc[:,\"patientweightLog\"] = (drug_reaction_df33.loc[:,\"patientweight\"]+1).apply(np.log)"
   ]
  },
  {
   "cell_type": "code",
   "execution_count": 403,
   "metadata": {},
   "outputs": [
    {
     "name": "stderr",
     "output_type": "stream",
     "text": [
      "C:\\Users\\yasser\\Anaconda2\\envs\\pyt36\\lib\\site-packages\\scipy\\stats\\stats.py:1713: FutureWarning: Using a non-tuple sequence for multidimensional indexing is deprecated; use `arr[tuple(seq)]` instead of `arr[seq]`. In the future this will be interpreted as an array index, `arr[np.array(seq)]`, which will result either in an error or a different result.\n",
      "  return np.add.reduce(sorted[indexer] * weights, axis=axis) / sumval\n"
     ]
    },
    {
     "data": {
      "image/png": "[encoded data removed]",
      "text/plain": [
       "<Figure size 1008x432 with 2 Axes>"
      ]
     },
     "metadata": {},
     "output_type": "display_data"
    }
   ],
   "source": [
    "# Histogram of 'EngineSizeLog'\n",
    "# Multiple histograms in the same window\n",
    "# Cut the window in 2 parts\n",
    "f, (ax_box, ax_hist) = plt.subplots(2, figsize =(14,6),sharex=True, gridspec_kw={\"height_ratios\": (.15, .85)})\n",
    " \n",
    "# Add a graph in each part\n",
    "sns.boxplot(drug_reaction_df33[\"patientweightLog\"], ax=ax_box)\n",
    "sns.distplot(drug_reaction_df33[\"patientweightLog\"], ax=ax_hist) \n",
    "# Remove x axis name for the boxplot\n",
    "ax_box.set(xlabel='')\n",
    "plt.title('Boxplot and Histogram of patientweightLog')\n",
    "plt.xlabel('patientweightLog')\n",
    "plt.ylabel('frequency density')\n",
    "plt.xticks(rotation='vertical')\n",
    "plt.show()"
   ]
  },
  {
   "cell_type": "code",
   "execution_count": 413,
   "metadata": {},
   "outputs": [
    {
     "data": {
      "text/plain": [
       "array([ 2.,  1., nan,  0.])"
      ]
     },
     "execution_count": 413,
     "metadata": {},
     "output_type": "execute_result"
    }
   ],
   "source": [
    "drug_reaction_df33.patientsex.unique()"
   ]
  },
  {
   "cell_type": "code",
   "execution_count": 414,
   "metadata": {},
   "outputs": [
    {
     "data": {
      "image/png": "[encoded data removed]",
      "text/plain": [
       "<Figure size 1120x480 with 1 Axes>"
      ]
     },
     "metadata": {},
     "output_type": "display_data"
    }
   ],
   "source": [
    "# grouped boxplot\n",
    "drug_reaction_df33.patientsex = drug_reaction_df33.patientsex.fillna(0)\n",
    "sns.set(style=\"ticks\", palette=\"pastel\")\n",
    "\n",
    "# Draw a nested boxplot to show bills by day and time\n",
    "plt.figure(num=None, dpi=80,figsize =(14,6), facecolor='w', edgecolor='k')\n",
    "#f, axes = plt.subplots(1, 1, figsize=(14, 14), sharex=True)\n",
    "sns.boxplot(x=\"patientsex\", y=\"patientweight\",\n",
    "            hue=\"seriousnessdeath\", palette=[\"m\", \"g\"],\n",
    "            data=drug_reaction_df33)\n",
    "sns.despine(offset=10, trim=True)\n",
    "plt.title('Boxplot of patientsex using patientweight, seriousnessdeath as legend' )\n",
    "plt.xlabel('patientsex')\n",
    "plt.ylabel('patientweight')\n",
    "plt.xticks(rotation='vertical')\n",
    "#plt.legend(loc='best')\n",
    "plt.show()"
   ]
  },
  {
   "cell_type": "code",
   "execution_count": 405,
   "metadata": {},
   "outputs": [
    {
     "data": {
      "image/png": "[encoded data removed]",
      "text/plain": [
       "<Figure size 1120x480 with 1 Axes>"
      ]
     },
     "metadata": {},
     "output_type": "display_data"
    }
   ],
   "source": [
    "# grouped boxplot\n",
    "\n",
    "sns.set(style=\"ticks\", palette=\"pastel\")\n",
    "\n",
    "# Draw a nested boxplot to show bills by day and time\n",
    "plt.figure(num=None, dpi=80,figsize =(14,6), facecolor='w', edgecolor='k')\n",
    "#f, axes = plt.subplots(1, 1, figsize=(14, 14), sharex=True)\n",
    "sns.boxplot(x=\"route\", y=\"patientweight\",\n",
    "            hue=\"seriousnessdeath\", palette=[\"m\", \"g\"],\n",
    "            data=drug_reaction_df33)\n",
    "sns.despine(offset=10, trim=True)\n",
    "plt.title('Boxplot of route using patientweight, seriousnessdeath as legend' )\n",
    "plt.xlabel('route')\n",
    "plt.ylabel('patientweight')\n",
    "plt.xticks(rotation='vertical')\n",
    "#plt.legend(loc='best')\n",
    "plt.show()"
   ]
  },
  {
   "cell_type": "code",
   "execution_count": null,
   "metadata": {},
   "outputs": [],
   "source": []
  },
  {
   "cell_type": "code",
   "execution_count": 187,
   "metadata": {},
   "outputs": [],
   "source": [
    "#Feature extraction, transformation and engineering\n",
    "# feature were extracted using word3vec in text variables with very high number of categorical values\n",
    "# Also numerical values such as Age was also categorised by biining into groups as seriousness of adverse drug effect\n",
    "# varies with age groups."
   ]
  },
  {
   "cell_type": "code",
   "execution_count": 188,
   "metadata": {},
   "outputs": [
    {
     "name": "stdout",
     "output_type": "stream",
     "text": [
      "<class 'pandas.core.frame.DataFrame'>\n",
      "RangeIndex: 92130 entries, 0 to 92129\n",
      "Data columns (total 33 columns):\n",
      "unnamed:0                     92130 non-null int64\n",
      "drugadministrationroute       27530 non-null float64\n",
      "drugcharacterization          92130 non-null int64\n",
      "drugdosagetext                32567 non-null object\n",
      "drugenddate                   33222 non-null float64\n",
      "drugenddateformat             33222 non-null float64\n",
      "drugindication                41829 non-null object\n",
      "drugstartdate                 42313 non-null float64\n",
      "drugstartdateformat           42313 non-null float64\n",
      "fulfillexpeditecriteria       92130 non-null int64\n",
      "genericname                   75641 non-null object\n",
      "medicinalproduct              92130 non-null object\n",
      "patientonsetage               87098 non-null float64\n",
      "patientonsetageunit           88275 non-null float64\n",
      "patientsex                    92057 non-null float64\n",
      "patientweight                 92130 non-null float64\n",
      "pharmclasscs                  57861 non-null object\n",
      "pharmclassepc                 63935 non-null object\n",
      "pharmclasspe                  31066 non-null object\n",
      "qualification                 76828 non-null float64\n",
      "reactionmeddrapt              92130 non-null object\n",
      "receiptdate                   92130 non-null int64\n",
      "receiptdateformat             92130 non-null int64\n",
      "receivedate                   92130 non-null int64\n",
      "receivedateformat             92130 non-null int64\n",
      "route                         75334 non-null object\n",
      "serious                       92130 non-null int64\n",
      "seriousnessdeath              5758 non-null float64\n",
      "seriousnesshospitalization    40974 non-null float64\n",
      "seriousnessother              37369 non-null float64\n",
      "substancename                 75332 non-null object\n",
      "transmissiondate              92130 non-null int64\n",
      "transmissiondateformat        92130 non-null int64\n",
      "dtypes: float64(13), int64(10), object(10)\n",
      "memory usage: 23.2+ MB\n"
     ]
    }
   ],
   "source": [
    "drug_reaction_df3.info()"
   ]
  },
  {
   "cell_type": "code",
   "execution_count": 189,
   "metadata": {},
   "outputs": [
    {
     "data": {
      "text/plain": [
       "array([nan, '400 MG PRN ORAL', '200 MG, QD', '500 MG, UNK', 'UNK, UNK',\n",
       "       '5 GM; IV', '25 MG; IV, 75 MG; IV', 'TOTAL DAILY DOSE: 400 MG',\n",
       "       '250 MG PO', '80 MG, UNK', '80 MG, QD', '3 MU TIW SUBCUTANEOUS',\n",
       "       '1000 MG QD ORAL', 'FORM: INFUSION.', 'DAILY DOSE:10MG',\n",
       "       'DAILY DOSE: UNK. FREQUENCY:UNKNOWN', 'DAILY DOSE: 1 DF.',\n",
       "       'DOSAGE DURATION: 5 DAYS.', '725 MG,  INTRAVENOUS',\n",
       "       '3 MG DAILY ORAL', '1.2 MG, ONCE/SINGLE, ORAL', '250 MG',\n",
       "       '3500 IU (3500 IU), SUBCUTANEOUS', '40 UG DAY', '40 U DAY',\n",
       "       'QHS, ORAL', 'DAILY.', '440-880 MG, BID, ORAL', '200MG PER DAY',\n",
       "       '10MG PER DAY', '5MG PER DAY', '160 MG, QD', '10 MG, QD',\n",
       "       '5 MG, QD', '2 ML/H, 3 ML/TIME, VIA PCA', '16UT/DAY',\n",
       "       '40MG PER DAY', '60 MG Q12H', '220 MG, QD, ORAL', '30 MG BID',\n",
       "       '1 DOSE(S), 3 IN 4 WEEK, TRANSDERMAL',\n",
       "       '1 DOSE (S), 3 IN 4 WEEK, TRANSDERMAL', '10 MG PO',\n",
       "       '10 MG, 4 IN 1 DAY', '90 MG  2 PER DAY  SUBCUTANEOUS',\n",
       "       '1320 MG, TOTAL DAILY, ORAL', '12.5MG PER DAY', '25 MG QD PO',\n",
       "       'SEE IMAGE', '9 MG, BID, ORAL',\n",
       "       '425 MG, SINGLE, RITUXAN DOSE 1, INTRAVENOUS; 5 MCI, SINGLE, IN-[111] ZEVALIN, INTRAVENOUS',\n",
       "       '425 MG, SINGLE, RITUXAN DOSE 2, INTRAVENOUS; 25 MCI, SINGLE, Y-[90] ZEVALIN, INTRAVENOUS',\n",
       "       '600 TO 700 MG A DAY', '20 MG'], dtype=object)"
      ]
     },
     "execution_count": 189,
     "metadata": {},
     "output_type": "execute_result"
    }
   ],
   "source": [
    "#  check the unique values of Drugdosagetext\n",
    "\n",
    "drug_reaction_df3.drugdosagetext[10:1000].unique()"
   ]
  },
  {
   "cell_type": "code",
   "execution_count": 194,
   "metadata": {},
   "outputs": [],
   "source": [
    "# comment\n",
    "# There are many unique values in the text columns,the data will be preprocessed by \n",
    "# replacing missing value\n",
    "# lower casing of the text\n",
    "# vectorisation of the values using word2vec "
   ]
  },
  {
   "cell_type": "code",
   "execution_count": 195,
   "metadata": {},
   "outputs": [
    {
     "data": {
      "text/plain": [
       "array(['missing', '400 mg prn oral', '200 mg, qd', '500 mg, unk',\n",
       "       'unk, unk', '5 gm; iv', '25 mg; iv, 75 mg; iv',\n",
       "       'total daily dose: 400 mg', '250 mg po', '80 mg, unk', '80 mg, qd',\n",
       "       '3 mu tiw subcutaneous', '1000 mg qd oral', 'form: infusion.',\n",
       "       'daily dose:10mg', 'daily dose: unk. frequency:unknown',\n",
       "       'daily dose: 1 df.', 'dosage duration: 5 days.',\n",
       "       '725 mg,  intravenous', '3 mg daily oral',\n",
       "       '1.2 mg, once/single, oral', '250 mg',\n",
       "       '3500 iu (3500 iu), subcutaneous', '40 ug day', '40 u day',\n",
       "       'qhs, oral', 'daily.', '440-880 mg, bid, oral', '200mg per day',\n",
       "       '10mg per day', '5mg per day', '160 mg, qd', '10 mg, qd',\n",
       "       '5 mg, qd', '2 ml/h, 3 ml/time, via pca', '16ut/day',\n",
       "       '40mg per day', '60 mg q12h', '220 mg, qd, oral', '30 mg bid',\n",
       "       '1 dose(s), 3 in 4 week, transdermal',\n",
       "       '1 dose (s), 3 in 4 week, transdermal', '10 mg po',\n",
       "       '10 mg, 4 in 1 day', '90 mg  2 per day  subcutaneous',\n",
       "       '1320 mg, total daily, oral', '12.5mg per day', '25 mg qd po',\n",
       "       'see image', '9 mg, bid, oral',\n",
       "       '425 mg, single, rituxan dose 1, intravenous; 5 mci, single, in-[111] zevalin, intravenous',\n",
       "       '425 mg, single, rituxan dose 2, intravenous; 25 mci, single, y-[90] zevalin, intravenous',\n",
       "       '600 to 700 mg a day', '20 mg'], dtype=object)"
      ]
     },
     "execution_count": 195,
     "metadata": {},
     "output_type": "execute_result"
    }
   ],
   "source": [
    "# change values to lower case and replace missing values\n",
    "\n",
    "drug_reaction_df3a = drug_reaction_df3.copy()\n",
    "\n",
    "drug_reaction_df3a.drugdosagetext = drug_reaction_df3a.drugdosagetext.str.lower().fillna('missing') # lower casing\n",
    "\n",
    "# display for quality control\n",
    "drug_reaction_df3a.drugdosagetext[10:1000].unique()\n"
   ]
  },
  {
   "cell_type": "code",
   "execution_count": 208,
   "metadata": {},
   "outputs": [],
   "source": [
    "# create a function to implement vectorisation of each text column\n",
    "# Comment The word2vec will be implemented using sparksession \n",
    "# A function is created to vectorise each of the ten text columns\n",
    "\n",
    "# 2.3 create a function to vectorise each text column.\n",
    "\n",
    "def text_vectorize():\n",
    "    '''This function returns a pandas dataframe and columns of word tokens and the vectors.\n",
    "    implement word2vec using spark session'''\n",
    "    \n",
    "    # select the tokenised word\n",
    "    word_df = tok_df.select('words') \n",
    "    \n",
    "    # Learn a mapping from words to Vectors.\n",
    "    text_word2Vec = Word2Vec(vectorSize=3, minCount=0, inputCol=\"words\", outputCol=\"result\")\n",
    "    \n",
    "    # fit model using data\n",
    "    text_model = text_word2Vec.fit(word_df)\n",
    "    \n",
    "    # transform using fitted model to output vectors\n",
    "    vec_df = text_model.transform(word_df)\n",
    "    \n",
    "    return vec_df\n",
    "\n",
    "    "
   ]
  },
  {
   "cell_type": "code",
   "execution_count": 197,
   "metadata": {},
   "outputs": [
    {
     "name": "stdout",
     "output_type": "stream",
     "text": [
      "Row(words=['250', 'mg', 'po'], result=DenseVector([-1.2137, 0.0459, -0.1534]))\n",
      "Row(words=['250', 'mg', 'po'], result=DenseVector([-1.2137, 0.0459, -0.1534]))\n"
     ]
    }
   ],
   "source": [
    "# vectorize drugdosagetext column\n",
    "\n",
    "dosage_text_df = drug_reaction_df3a.loc[:,['drugdosagetext']].copy()\n",
    "\n",
    "# create pyspark dataframe\n",
    "dosage_text_spark = spark.createDataFrame(dosage_text_df)\n",
    "# tokenize\n",
    "tokenizer = Tokenizer(inputCol=\"drugdosagetext\", outputCol=\"words\") # tokenise the data in spark_df\n",
    "\n",
    "tok_df = tokenizer.transform(dosage_text_spark) # tokenize text\n",
    "\n",
    "# word vectors using function\n",
    "dosage_vec_df = text_vectorize()\n",
    "\n",
    "# display for QC of word vectors\n",
    "\n",
    "for row in dosage_vec_df.take(2):\n",
    "    print(row)"
   ]
  },
  {
   "cell_type": "code",
   "execution_count": 198,
   "metadata": {},
   "outputs": [
    {
     "data": {
      "text/html": [
       "<div>\n",
       "<style>\n",
       "    .dataframe thead tr:only-child th {\n",
       "        text-align: right;\n",
       "    }\n",
       "\n",
       "    .dataframe thead th {\n",
       "        text-align: left;\n",
       "    }\n",
       "\n",
       "    .dataframe tbody tr th {\n",
       "        vertical-align: top;\n",
       "    }\n",
       "</style>\n",
       "<table border=\"1\" class=\"dataframe\">\n",
       "  <thead>\n",
       "    <tr style=\"text-align: right;\">\n",
       "      <th></th>\n",
       "      <th>unnamed:0</th>\n",
       "      <th>drugadministrationroute</th>\n",
       "      <th>drugcharacterization</th>\n",
       "      <th>drugdosagetext</th>\n",
       "      <th>drugenddate</th>\n",
       "      <th>drugenddateformat</th>\n",
       "      <th>drugindication</th>\n",
       "      <th>drugstartdate</th>\n",
       "      <th>drugstartdateformat</th>\n",
       "      <th>fulfillexpeditecriteria</th>\n",
       "      <th>...</th>\n",
       "      <th>serious</th>\n",
       "      <th>seriousnessdeath</th>\n",
       "      <th>seriousnesshospitalization</th>\n",
       "      <th>seriousnessother</th>\n",
       "      <th>substancename</th>\n",
       "      <th>transmissiondate</th>\n",
       "      <th>transmissiondateformat</th>\n",
       "      <th>dosagevec1</th>\n",
       "      <th>dosagevec2</th>\n",
       "      <th>dosagevec3</th>\n",
       "    </tr>\n",
       "  </thead>\n",
       "  <tbody>\n",
       "    <tr>\n",
       "      <th>0</th>\n",
       "      <td>2</td>\n",
       "      <td>48.0</td>\n",
       "      <td>1</td>\n",
       "      <td>250 mg po</td>\n",
       "      <td>NaN</td>\n",
       "      <td>NaN</td>\n",
       "      <td>NON-SMALL CELL LUNG CANCER</td>\n",
       "      <td>NaN</td>\n",
       "      <td>NaN</td>\n",
       "      <td>2</td>\n",
       "      <td>...</td>\n",
       "      <td>1</td>\n",
       "      <td>NaN</td>\n",
       "      <td>NaN</td>\n",
       "      <td>1.0</td>\n",
       "      <td>GEFITINIB</td>\n",
       "      <td>20070707</td>\n",
       "      <td>102</td>\n",
       "      <td>-1.213662</td>\n",
       "      <td>0.045872</td>\n",
       "      <td>-0.153395</td>\n",
       "    </tr>\n",
       "    <tr>\n",
       "      <th>1</th>\n",
       "      <td>3</td>\n",
       "      <td>48.0</td>\n",
       "      <td>1</td>\n",
       "      <td>250 mg po</td>\n",
       "      <td>NaN</td>\n",
       "      <td>NaN</td>\n",
       "      <td>NON-SMALL CELL LUNG CANCER</td>\n",
       "      <td>NaN</td>\n",
       "      <td>NaN</td>\n",
       "      <td>2</td>\n",
       "      <td>...</td>\n",
       "      <td>1</td>\n",
       "      <td>NaN</td>\n",
       "      <td>NaN</td>\n",
       "      <td>1.0</td>\n",
       "      <td>GEFITINIB</td>\n",
       "      <td>20070707</td>\n",
       "      <td>102</td>\n",
       "      <td>-1.213662</td>\n",
       "      <td>0.045872</td>\n",
       "      <td>-0.153395</td>\n",
       "    </tr>\n",
       "    <tr>\n",
       "      <th>2</th>\n",
       "      <td>4</td>\n",
       "      <td>48.0</td>\n",
       "      <td>1</td>\n",
       "      <td>250 mg po</td>\n",
       "      <td>NaN</td>\n",
       "      <td>NaN</td>\n",
       "      <td>NON-SMALL CELL LUNG CANCER</td>\n",
       "      <td>NaN</td>\n",
       "      <td>NaN</td>\n",
       "      <td>2</td>\n",
       "      <td>...</td>\n",
       "      <td>1</td>\n",
       "      <td>NaN</td>\n",
       "      <td>NaN</td>\n",
       "      <td>1.0</td>\n",
       "      <td>GEFITINIB</td>\n",
       "      <td>20070707</td>\n",
       "      <td>102</td>\n",
       "      <td>-1.213662</td>\n",
       "      <td>0.045872</td>\n",
       "      <td>-0.153395</td>\n",
       "    </tr>\n",
       "  </tbody>\n",
       "</table>\n",
       "<p>3 rows × 36 columns</p>\n",
       "</div>"
      ],
      "text/plain": [
       "   unnamed:0  drugadministrationroute  drugcharacterization drugdosagetext  \\\n",
       "0          2                     48.0                     1      250 mg po   \n",
       "1          3                     48.0                     1      250 mg po   \n",
       "2          4                     48.0                     1      250 mg po   \n",
       "\n",
       "   drugenddate  drugenddateformat              drugindication  drugstartdate  \\\n",
       "0          NaN                NaN  NON-SMALL CELL LUNG CANCER            NaN   \n",
       "1          NaN                NaN  NON-SMALL CELL LUNG CANCER            NaN   \n",
       "2          NaN                NaN  NON-SMALL CELL LUNG CANCER            NaN   \n",
       "\n",
       "   drugstartdateformat  fulfillexpeditecriteria     ...     serious  \\\n",
       "0                  NaN                        2     ...           1   \n",
       "1                  NaN                        2     ...           1   \n",
       "2                  NaN                        2     ...           1   \n",
       "\n",
       "  seriousnessdeath  seriousnesshospitalization  seriousnessother  \\\n",
       "0              NaN                         NaN               1.0   \n",
       "1              NaN                         NaN               1.0   \n",
       "2              NaN                         NaN               1.0   \n",
       "\n",
       "   substancename  transmissiondate transmissiondateformat dosagevec1  \\\n",
       "0      GEFITINIB          20070707                    102  -1.213662   \n",
       "1      GEFITINIB          20070707                    102  -1.213662   \n",
       "2      GEFITINIB          20070707                    102  -1.213662   \n",
       "\n",
       "  dosagevec2  dosagevec3  \n",
       "0   0.045872   -0.153395  \n",
       "1   0.045872   -0.153395  \n",
       "2   0.045872   -0.153395  \n",
       "\n",
       "[3 rows x 36 columns]"
      ]
     },
     "execution_count": 198,
     "metadata": {},
     "output_type": "execute_result"
    }
   ],
   "source": [
    "# Add the word vectors to dataframe\n",
    "\n",
    "# convert spark word vector list to pandas \n",
    "dosage_pd_df = dosage_vec_df.toPandas()\n",
    "\n",
    "# select result and create a list \n",
    "dosage_vec_list = dosage_pd_df['result'].tolist()   # convert to python list\n",
    "\n",
    "# convert to pandas dataframe\n",
    "dosage_vec_pd_df = pd.DataFrame(dosage_vec_list, columns=['dosagevec1', 'dosagevec2', 'dosagevec3'], index = range(92130)) # to datafram\n",
    "\n",
    "# set input dataframe index range\n",
    "drug_reaction_df3a.index = range(92130)\n",
    "\n",
    "# join the word vector columns to the main dataframe\n",
    "drug_reaction_df4 = pd.concat([drug_reaction_df3a, dosage_vec_pd_df], axis=1)\n",
    "\n",
    "drug_reaction_df4.head(3)"
   ]
  },
  {
   "cell_type": "code",
   "execution_count": 199,
   "metadata": {},
   "outputs": [
    {
     "data": {
      "text/plain": [
       "array(['iressa', 'lipitor', 'pain medication', 'synthroid',\n",
       "       'tamoxifen citrate', 'valium', 'librium', 'dalmane',\n",
       "       'amitriptyline hydrochloride', 'morphine', 'methadon hcl tab',\n",
       "       'propoxyphene hydrochloride', 'amphetamine sulfate', 'provigil',\n",
       "       'sandimmune', 'anabolic steroids', 'neupogen',\n",
       "       'adrenal cortex hormon', 'doxorubicin hydroclhoride (doxil)',\n",
       "       'taxol', 'cisplatin'], dtype=object)"
      ]
     },
     "execution_count": 199,
     "metadata": {},
     "output_type": "execute_result"
    }
   ],
   "source": [
    "# medicinalproduct text column\n",
    "#change values to lower case and replace missing values\n",
    "\n",
    "drug_reaction_df5 = drug_reaction_df4.copy()\n",
    "\n",
    "drug_reaction_df5.medicinalproduct = drug_reaction_df5.medicinalproduct.str.lower().fillna('missing') # lower casing\n",
    "\n",
    "# display for quality control\n",
    "drug_reaction_df5.medicinalproduct[0:100].unique()"
   ]
  },
  {
   "cell_type": "code",
   "execution_count": 200,
   "metadata": {},
   "outputs": [
    {
     "name": "stdout",
     "output_type": "stream",
     "text": [
      "Row(words=['iressa'], result=DenseVector([0.0412, -0.1344, 0.1016]))\n",
      "Row(words=['iressa'], result=DenseVector([0.0412, -0.1344, 0.1016]))\n"
     ]
    }
   ],
   "source": [
    "# vectorize medicinalproduct\n",
    "\n",
    "medicine_text_df = drug_reaction_df5.loc[:,['medicinalproduct']].copy()\n",
    "\n",
    "# create pyspark dataframe\n",
    "medicine_text_spark = spark.createDataFrame(medicine_text_df)\n",
    "\n",
    "tokenizer = Tokenizer(inputCol=\"medicinalproduct\", outputCol=\"words\") # tokenise the data in spark_df\n",
    "\n",
    "tok_df = tokenizer.transform(medicine_text_spark) # tokenize text\n",
    "# output word vectors using function\n",
    "medicine_vec_df = text_vectorize()\n",
    "\n",
    "# display for QC of word vectors\n",
    "\n",
    "for row in medicine_vec_df.take(2):\n",
    "    print(row)"
   ]
  },
  {
   "cell_type": "code",
   "execution_count": 201,
   "metadata": {},
   "outputs": [
    {
     "data": {
      "text/html": [
       "<div>\n",
       "<style>\n",
       "    .dataframe thead tr:only-child th {\n",
       "        text-align: right;\n",
       "    }\n",
       "\n",
       "    .dataframe thead th {\n",
       "        text-align: left;\n",
       "    }\n",
       "\n",
       "    .dataframe tbody tr th {\n",
       "        vertical-align: top;\n",
       "    }\n",
       "</style>\n",
       "<table border=\"1\" class=\"dataframe\">\n",
       "  <thead>\n",
       "    <tr style=\"text-align: right;\">\n",
       "      <th></th>\n",
       "      <th>unnamed:0</th>\n",
       "      <th>drugadministrationroute</th>\n",
       "      <th>drugcharacterization</th>\n",
       "      <th>drugdosagetext</th>\n",
       "      <th>drugenddate</th>\n",
       "      <th>drugenddateformat</th>\n",
       "      <th>drugindication</th>\n",
       "      <th>drugstartdate</th>\n",
       "      <th>drugstartdateformat</th>\n",
       "      <th>fulfillexpeditecriteria</th>\n",
       "      <th>...</th>\n",
       "      <th>seriousnessother</th>\n",
       "      <th>substancename</th>\n",
       "      <th>transmissiondate</th>\n",
       "      <th>transmissiondateformat</th>\n",
       "      <th>dosagevec1</th>\n",
       "      <th>dosagevec2</th>\n",
       "      <th>dosagevec3</th>\n",
       "      <th>medvec1</th>\n",
       "      <th>medvec2</th>\n",
       "      <th>medvec3</th>\n",
       "    </tr>\n",
       "  </thead>\n",
       "  <tbody>\n",
       "    <tr>\n",
       "      <th>0</th>\n",
       "      <td>2</td>\n",
       "      <td>48.0</td>\n",
       "      <td>1</td>\n",
       "      <td>250 mg po</td>\n",
       "      <td>NaN</td>\n",
       "      <td>NaN</td>\n",
       "      <td>NON-SMALL CELL LUNG CANCER</td>\n",
       "      <td>NaN</td>\n",
       "      <td>NaN</td>\n",
       "      <td>2</td>\n",
       "      <td>...</td>\n",
       "      <td>1.0</td>\n",
       "      <td>GEFITINIB</td>\n",
       "      <td>20070707</td>\n",
       "      <td>102</td>\n",
       "      <td>-1.213662</td>\n",
       "      <td>0.045872</td>\n",
       "      <td>-0.153395</td>\n",
       "      <td>0.041178</td>\n",
       "      <td>-0.134399</td>\n",
       "      <td>0.101592</td>\n",
       "    </tr>\n",
       "    <tr>\n",
       "      <th>1</th>\n",
       "      <td>3</td>\n",
       "      <td>48.0</td>\n",
       "      <td>1</td>\n",
       "      <td>250 mg po</td>\n",
       "      <td>NaN</td>\n",
       "      <td>NaN</td>\n",
       "      <td>NON-SMALL CELL LUNG CANCER</td>\n",
       "      <td>NaN</td>\n",
       "      <td>NaN</td>\n",
       "      <td>2</td>\n",
       "      <td>...</td>\n",
       "      <td>1.0</td>\n",
       "      <td>GEFITINIB</td>\n",
       "      <td>20070707</td>\n",
       "      <td>102</td>\n",
       "      <td>-1.213662</td>\n",
       "      <td>0.045872</td>\n",
       "      <td>-0.153395</td>\n",
       "      <td>0.041178</td>\n",
       "      <td>-0.134399</td>\n",
       "      <td>0.101592</td>\n",
       "    </tr>\n",
       "    <tr>\n",
       "      <th>2</th>\n",
       "      <td>4</td>\n",
       "      <td>48.0</td>\n",
       "      <td>1</td>\n",
       "      <td>250 mg po</td>\n",
       "      <td>NaN</td>\n",
       "      <td>NaN</td>\n",
       "      <td>NON-SMALL CELL LUNG CANCER</td>\n",
       "      <td>NaN</td>\n",
       "      <td>NaN</td>\n",
       "      <td>2</td>\n",
       "      <td>...</td>\n",
       "      <td>1.0</td>\n",
       "      <td>GEFITINIB</td>\n",
       "      <td>20070707</td>\n",
       "      <td>102</td>\n",
       "      <td>-1.213662</td>\n",
       "      <td>0.045872</td>\n",
       "      <td>-0.153395</td>\n",
       "      <td>0.041178</td>\n",
       "      <td>-0.134399</td>\n",
       "      <td>0.101592</td>\n",
       "    </tr>\n",
       "  </tbody>\n",
       "</table>\n",
       "<p>3 rows × 39 columns</p>\n",
       "</div>"
      ],
      "text/plain": [
       "   unnamed:0  drugadministrationroute  drugcharacterization drugdosagetext  \\\n",
       "0          2                     48.0                     1      250 mg po   \n",
       "1          3                     48.0                     1      250 mg po   \n",
       "2          4                     48.0                     1      250 mg po   \n",
       "\n",
       "   drugenddate  drugenddateformat              drugindication  drugstartdate  \\\n",
       "0          NaN                NaN  NON-SMALL CELL LUNG CANCER            NaN   \n",
       "1          NaN                NaN  NON-SMALL CELL LUNG CANCER            NaN   \n",
       "2          NaN                NaN  NON-SMALL CELL LUNG CANCER            NaN   \n",
       "\n",
       "   drugstartdateformat  fulfillexpeditecriteria    ...    seriousnessother  \\\n",
       "0                  NaN                        2    ...                 1.0   \n",
       "1                  NaN                        2    ...                 1.0   \n",
       "2                  NaN                        2    ...                 1.0   \n",
       "\n",
       "  substancename  transmissiondate  transmissiondateformat  dosagevec1  \\\n",
       "0     GEFITINIB          20070707                     102   -1.213662   \n",
       "1     GEFITINIB          20070707                     102   -1.213662   \n",
       "2     GEFITINIB          20070707                     102   -1.213662   \n",
       "\n",
       "   dosagevec2 dosagevec3   medvec1   medvec2   medvec3  \n",
       "0    0.045872  -0.153395  0.041178 -0.134399  0.101592  \n",
       "1    0.045872  -0.153395  0.041178 -0.134399  0.101592  \n",
       "2    0.045872  -0.153395  0.041178 -0.134399  0.101592  \n",
       "\n",
       "[3 rows x 39 columns]"
      ]
     },
     "execution_count": 201,
     "metadata": {},
     "output_type": "execute_result"
    }
   ],
   "source": [
    "# Add the word vectors to dataframe\n",
    "\n",
    "# convert spark word vector list to pandas \n",
    "medicine_pd_df = medicine_vec_df.toPandas()\n",
    "\n",
    "# select result and create a list \n",
    "medicine_vec_list = medicine_pd_df['result'].tolist()   # convert to python list\n",
    "\n",
    "# convert to pandas dataframe\n",
    "medicine_vec_pd_df = pd.DataFrame(medicine_vec_list, columns=['medvec1', 'medvec2', 'medvec3'], index = range(92130)) # to datafram\n",
    "\n",
    "# set input dataframe index range\n",
    "drug_reaction_df5.index = range(92130)\n",
    "\n",
    "# join the word vector columns to the main dataframe\n",
    "drug_reaction_df6 = pd.concat([drug_reaction_df5, medicine_vec_pd_df], axis=1)\n",
    "\n",
    "drug_reaction_df6.head(3)\n"
   ]
  },
  {
   "cell_type": "code",
   "execution_count": 202,
   "metadata": {},
   "outputs": [
    {
     "data": {
      "text/plain": [
       "array(['bone pain', 'haemoptysis', 'pulmonary congestion',\n",
       "       'uterine neoplasm', 'weight increased', 'drug toxicity',\n",
       "       'pulmonary oedema', 'abortion missed',\n",
       "       'drug exposure during pregnancy', 'foetal growth retardation',\n",
       "       'pregnancy', 'death', 'aspiration', 'cardiac arrest',\n",
       "       'dehydration', 'diarrhoea', 'hypokalaemia', 'metabolic acidosis',\n",
       "       'neutropenia', 'ovarian cancer', 'renal failure',\n",
       "       'respiratory arrest'], dtype=object)"
      ]
     },
     "execution_count": 202,
     "metadata": {},
     "output_type": "execute_result"
    }
   ],
   "source": [
    "# vectorise reactionmeddrapt\n",
    "\n",
    "# change values to lower case and replace missing values\n",
    "\n",
    "drug_reaction_df7 = drug_reaction_df6.copy()\n",
    "\n",
    "drug_reaction_df7.reactionmeddrapt = drug_reaction_df7.reactionmeddrapt.str.lower().fillna('missing') # lower casing\n",
    "\n",
    "# display for quality control\n",
    "drug_reaction_df7.reactionmeddrapt[10:100].unique()"
   ]
  },
  {
   "cell_type": "code",
   "execution_count": 209,
   "metadata": {},
   "outputs": [
    {
     "name": "stdout",
     "output_type": "stream",
     "text": [
      "Row(words=['diarrhoea'], result=DenseVector([-0.2212, 0.0213, 0.04]))\n",
      "Row(words=['oedema', 'mouth'], result=DenseVector([0.0337, 0.1118, 0.613]))\n"
     ]
    }
   ],
   "source": [
    "# vectorize medicinalproduct\n",
    "\n",
    "reactionmed_text_df = drug_reaction_df7.loc[:,['reactionmeddrapt']].copy()\n",
    "\n",
    "# create pyspark dataframe\n",
    "reactionmed_text_spark = spark.createDataFrame(reactionmed_text_df)\n",
    "\n",
    "tokenizer = Tokenizer(inputCol=\"reactionmeddrapt\", outputCol=\"words\") # tokenise the data in spark_df\n",
    "\n",
    "tok_df = tokenizer.transform(reactionmed_text_spark) # tokenize text\n",
    "# output word vectors using function\n",
    "reactionmed_vec_df = text_vectorize()\n",
    "\n",
    "# display for QC of word vectors\n",
    "\n",
    "for row in reactionmed_vec_df.take(2):\n",
    "    print(row)\n"
   ]
  },
  {
   "cell_type": "code",
   "execution_count": 211,
   "metadata": {},
   "outputs": [
    {
     "data": {
      "text/html": [
       "<div>\n",
       "<style>\n",
       "    .dataframe thead tr:only-child th {\n",
       "        text-align: right;\n",
       "    }\n",
       "\n",
       "    .dataframe thead th {\n",
       "        text-align: left;\n",
       "    }\n",
       "\n",
       "    .dataframe tbody tr th {\n",
       "        vertical-align: top;\n",
       "    }\n",
       "</style>\n",
       "<table border=\"1\" class=\"dataframe\">\n",
       "  <thead>\n",
       "    <tr style=\"text-align: right;\">\n",
       "      <th></th>\n",
       "      <th>unnamed:0</th>\n",
       "      <th>drugadministrationroute</th>\n",
       "      <th>drugcharacterization</th>\n",
       "      <th>drugdosagetext</th>\n",
       "      <th>drugenddate</th>\n",
       "      <th>drugenddateformat</th>\n",
       "      <th>drugindication</th>\n",
       "      <th>drugstartdate</th>\n",
       "      <th>drugstartdateformat</th>\n",
       "      <th>fulfillexpeditecriteria</th>\n",
       "      <th>...</th>\n",
       "      <th>transmissiondateformat</th>\n",
       "      <th>dosagevec1</th>\n",
       "      <th>dosagevec2</th>\n",
       "      <th>dosagevec3</th>\n",
       "      <th>medvec1</th>\n",
       "      <th>medvec2</th>\n",
       "      <th>medvec3</th>\n",
       "      <th>reactionvec1</th>\n",
       "      <th>reactionvec2</th>\n",
       "      <th>reactionvec3</th>\n",
       "    </tr>\n",
       "  </thead>\n",
       "  <tbody>\n",
       "    <tr>\n",
       "      <th>0</th>\n",
       "      <td>2</td>\n",
       "      <td>48.0</td>\n",
       "      <td>1</td>\n",
       "      <td>250 mg po</td>\n",
       "      <td>NaN</td>\n",
       "      <td>NaN</td>\n",
       "      <td>NON-SMALL CELL LUNG CANCER</td>\n",
       "      <td>NaN</td>\n",
       "      <td>NaN</td>\n",
       "      <td>2</td>\n",
       "      <td>...</td>\n",
       "      <td>102</td>\n",
       "      <td>-1.213662</td>\n",
       "      <td>0.045872</td>\n",
       "      <td>-0.153395</td>\n",
       "      <td>0.041178</td>\n",
       "      <td>-0.134399</td>\n",
       "      <td>0.101592</td>\n",
       "      <td>-0.221157</td>\n",
       "      <td>0.021303</td>\n",
       "      <td>0.039954</td>\n",
       "    </tr>\n",
       "    <tr>\n",
       "      <th>1</th>\n",
       "      <td>3</td>\n",
       "      <td>48.0</td>\n",
       "      <td>1</td>\n",
       "      <td>250 mg po</td>\n",
       "      <td>NaN</td>\n",
       "      <td>NaN</td>\n",
       "      <td>NON-SMALL CELL LUNG CANCER</td>\n",
       "      <td>NaN</td>\n",
       "      <td>NaN</td>\n",
       "      <td>2</td>\n",
       "      <td>...</td>\n",
       "      <td>102</td>\n",
       "      <td>-1.213662</td>\n",
       "      <td>0.045872</td>\n",
       "      <td>-0.153395</td>\n",
       "      <td>0.041178</td>\n",
       "      <td>-0.134399</td>\n",
       "      <td>0.101592</td>\n",
       "      <td>0.033726</td>\n",
       "      <td>0.111824</td>\n",
       "      <td>0.612965</td>\n",
       "    </tr>\n",
       "    <tr>\n",
       "      <th>2</th>\n",
       "      <td>4</td>\n",
       "      <td>48.0</td>\n",
       "      <td>1</td>\n",
       "      <td>250 mg po</td>\n",
       "      <td>NaN</td>\n",
       "      <td>NaN</td>\n",
       "      <td>NON-SMALL CELL LUNG CANCER</td>\n",
       "      <td>NaN</td>\n",
       "      <td>NaN</td>\n",
       "      <td>2</td>\n",
       "      <td>...</td>\n",
       "      <td>102</td>\n",
       "      <td>-1.213662</td>\n",
       "      <td>0.045872</td>\n",
       "      <td>-0.153395</td>\n",
       "      <td>0.041178</td>\n",
       "      <td>-0.134399</td>\n",
       "      <td>0.101592</td>\n",
       "      <td>-0.116874</td>\n",
       "      <td>0.756426</td>\n",
       "      <td>-0.452332</td>\n",
       "    </tr>\n",
       "  </tbody>\n",
       "</table>\n",
       "<p>3 rows × 42 columns</p>\n",
       "</div>"
      ],
      "text/plain": [
       "   unnamed:0  drugadministrationroute  drugcharacterization drugdosagetext  \\\n",
       "0          2                     48.0                     1      250 mg po   \n",
       "1          3                     48.0                     1      250 mg po   \n",
       "2          4                     48.0                     1      250 mg po   \n",
       "\n",
       "   drugenddate  drugenddateformat              drugindication  drugstartdate  \\\n",
       "0          NaN                NaN  NON-SMALL CELL LUNG CANCER            NaN   \n",
       "1          NaN                NaN  NON-SMALL CELL LUNG CANCER            NaN   \n",
       "2          NaN                NaN  NON-SMALL CELL LUNG CANCER            NaN   \n",
       "\n",
       "   drugstartdateformat  fulfillexpeditecriteria      ...       \\\n",
       "0                  NaN                        2      ...        \n",
       "1                  NaN                        2      ...        \n",
       "2                  NaN                        2      ...        \n",
       "\n",
       "  transmissiondateformat dosagevec1  dosagevec2  dosagevec3   medvec1  \\\n",
       "0                    102  -1.213662    0.045872   -0.153395  0.041178   \n",
       "1                    102  -1.213662    0.045872   -0.153395  0.041178   \n",
       "2                    102  -1.213662    0.045872   -0.153395  0.041178   \n",
       "\n",
       "    medvec2   medvec3 reactionvec1 reactionvec2  reactionvec3  \n",
       "0 -0.134399  0.101592    -0.221157     0.021303      0.039954  \n",
       "1 -0.134399  0.101592     0.033726     0.111824      0.612965  \n",
       "2 -0.134399  0.101592    -0.116874     0.756426     -0.452332  \n",
       "\n",
       "[3 rows x 42 columns]"
      ]
     },
     "execution_count": 211,
     "metadata": {},
     "output_type": "execute_result"
    }
   ],
   "source": [
    "# vectorize reactionmeddrapt\n",
    "\n",
    "# Add the word vectors to dataframe\n",
    "\n",
    "# convert spark word vector list to pandas \n",
    "reaction_pd_df = reactionmed_vec_df.toPandas()\n",
    "\n",
    "# select result and create a list \n",
    "reaction_vec_list = reaction_pd_df['result'].tolist()   # convert to python list\n",
    "\n",
    "# convert to pandas dataframe\n",
    "reaction_vec_pd_df = pd.DataFrame(reaction_vec_list, columns=['reactionvec1', 'reactionvec2', 'reactionvec3'], index = range(92130)) # to datafram\n",
    "\n",
    "# set input dataframe index range\n",
    "drug_reaction_df7.index = range(92130)\n",
    "\n",
    "# join the word vector columns to the main dataframe\n",
    "drug_reaction_df8 = pd.concat([drug_reaction_df7, reaction_vec_pd_df], axis=1)\n",
    "\n",
    "drug_reaction_df8.head(3)"
   ]
  },
  {
   "cell_type": "code",
   "execution_count": null,
   "metadata": {},
   "outputs": [],
   "source": [
    "drug_reaction_df8.info()"
   ]
  },
  {
   "cell_type": "code",
   "execution_count": 212,
   "metadata": {},
   "outputs": [
    {
     "data": {
      "text/plain": [
       "array(['missing', 'non-small cell lung cancer', 'adenocarcinoma',\n",
       "       'breast cancer', 'breast cancer in situ',\n",
       "       'drug use for unknown indication', 'narcolepsy',\n",
       "       'aplastic anaemia', 'ovarian cancer'], dtype=object)"
      ]
     },
     "execution_count": 212,
     "metadata": {},
     "output_type": "execute_result"
    }
   ],
   "source": [
    "# vectorise drugindication\n",
    "\n",
    "# change values to lower case and replace missing values\n",
    "\n",
    "drug_reaction_df9 = drug_reaction_df8.copy()\n",
    "\n",
    "drug_reaction_df9.drugindication = drug_reaction_df9.drugindication.str.lower().fillna('missing') # lower casing\n",
    "\n",
    "# display for quality control\n",
    "drug_reaction_df9.drugindication[10:100].unique()"
   ]
  },
  {
   "cell_type": "code",
   "execution_count": 213,
   "metadata": {},
   "outputs": [
    {
     "name": "stdout",
     "output_type": "stream",
     "text": [
      "Row(words=['non-small', 'cell', 'lung', 'cancer'], result=DenseVector([-1.8399, -0.1874, 0.2132]))\n",
      "Row(words=['non-small', 'cell', 'lung', 'cancer'], result=DenseVector([-1.8399, -0.1874, 0.2132]))\n"
     ]
    }
   ],
   "source": [
    "# vectorize drugindication\n",
    "\n",
    "indication_text_df = drug_reaction_df9.loc[:,['drugindication']].copy()\n",
    "\n",
    "# create pyspark dataframe\n",
    "indication_spark = spark.createDataFrame(indication_text_df)\n",
    "\n",
    "tokenizer = Tokenizer(inputCol=\"drugindication\", outputCol=\"words\") # tokenise the data in spark_df\n",
    "\n",
    "tok_df = tokenizer.transform(indication_spark) # tokenize text\n",
    "# output word vectors using function\n",
    "indication_vec_df = text_vectorize()\n",
    "\n",
    "# display for QC of word vectors\n",
    "\n",
    "for row in indication_vec_df.take(2):\n",
    "    print(row)"
   ]
  },
  {
   "cell_type": "code",
   "execution_count": 214,
   "metadata": {},
   "outputs": [
    {
     "data": {
      "text/html": [
       "<div>\n",
       "<style>\n",
       "    .dataframe thead tr:only-child th {\n",
       "        text-align: right;\n",
       "    }\n",
       "\n",
       "    .dataframe thead th {\n",
       "        text-align: left;\n",
       "    }\n",
       "\n",
       "    .dataframe tbody tr th {\n",
       "        vertical-align: top;\n",
       "    }\n",
       "</style>\n",
       "<table border=\"1\" class=\"dataframe\">\n",
       "  <thead>\n",
       "    <tr style=\"text-align: right;\">\n",
       "      <th></th>\n",
       "      <th>unnamed:0</th>\n",
       "      <th>drugadministrationroute</th>\n",
       "      <th>drugcharacterization</th>\n",
       "      <th>drugdosagetext</th>\n",
       "      <th>drugenddate</th>\n",
       "      <th>drugenddateformat</th>\n",
       "      <th>drugindication</th>\n",
       "      <th>drugstartdate</th>\n",
       "      <th>drugstartdateformat</th>\n",
       "      <th>fulfillexpeditecriteria</th>\n",
       "      <th>...</th>\n",
       "      <th>dosagevec3</th>\n",
       "      <th>medvec1</th>\n",
       "      <th>medvec2</th>\n",
       "      <th>medvec3</th>\n",
       "      <th>reactionvec1</th>\n",
       "      <th>reactionvec2</th>\n",
       "      <th>reactionvec3</th>\n",
       "      <th>reactionvec1</th>\n",
       "      <th>reactionvec2</th>\n",
       "      <th>reactionvec3</th>\n",
       "    </tr>\n",
       "  </thead>\n",
       "  <tbody>\n",
       "    <tr>\n",
       "      <th>0</th>\n",
       "      <td>2</td>\n",
       "      <td>48.0</td>\n",
       "      <td>1</td>\n",
       "      <td>250 mg po</td>\n",
       "      <td>NaN</td>\n",
       "      <td>NaN</td>\n",
       "      <td>non-small cell lung cancer</td>\n",
       "      <td>NaN</td>\n",
       "      <td>NaN</td>\n",
       "      <td>2</td>\n",
       "      <td>...</td>\n",
       "      <td>-0.153395</td>\n",
       "      <td>0.041178</td>\n",
       "      <td>-0.134399</td>\n",
       "      <td>0.101592</td>\n",
       "      <td>-0.221157</td>\n",
       "      <td>0.021303</td>\n",
       "      <td>0.039954</td>\n",
       "      <td>-0.221157</td>\n",
       "      <td>0.021303</td>\n",
       "      <td>0.039954</td>\n",
       "    </tr>\n",
       "    <tr>\n",
       "      <th>1</th>\n",
       "      <td>3</td>\n",
       "      <td>48.0</td>\n",
       "      <td>1</td>\n",
       "      <td>250 mg po</td>\n",
       "      <td>NaN</td>\n",
       "      <td>NaN</td>\n",
       "      <td>non-small cell lung cancer</td>\n",
       "      <td>NaN</td>\n",
       "      <td>NaN</td>\n",
       "      <td>2</td>\n",
       "      <td>...</td>\n",
       "      <td>-0.153395</td>\n",
       "      <td>0.041178</td>\n",
       "      <td>-0.134399</td>\n",
       "      <td>0.101592</td>\n",
       "      <td>0.033726</td>\n",
       "      <td>0.111824</td>\n",
       "      <td>0.612965</td>\n",
       "      <td>0.033726</td>\n",
       "      <td>0.111824</td>\n",
       "      <td>0.612965</td>\n",
       "    </tr>\n",
       "    <tr>\n",
       "      <th>2</th>\n",
       "      <td>4</td>\n",
       "      <td>48.0</td>\n",
       "      <td>1</td>\n",
       "      <td>250 mg po</td>\n",
       "      <td>NaN</td>\n",
       "      <td>NaN</td>\n",
       "      <td>non-small cell lung cancer</td>\n",
       "      <td>NaN</td>\n",
       "      <td>NaN</td>\n",
       "      <td>2</td>\n",
       "      <td>...</td>\n",
       "      <td>-0.153395</td>\n",
       "      <td>0.041178</td>\n",
       "      <td>-0.134399</td>\n",
       "      <td>0.101592</td>\n",
       "      <td>-0.116874</td>\n",
       "      <td>0.756426</td>\n",
       "      <td>-0.452332</td>\n",
       "      <td>-0.116874</td>\n",
       "      <td>0.756426</td>\n",
       "      <td>-0.452332</td>\n",
       "    </tr>\n",
       "  </tbody>\n",
       "</table>\n",
       "<p>3 rows × 45 columns</p>\n",
       "</div>"
      ],
      "text/plain": [
       "   unnamed:0  drugadministrationroute  drugcharacterization drugdosagetext  \\\n",
       "0          2                     48.0                     1      250 mg po   \n",
       "1          3                     48.0                     1      250 mg po   \n",
       "2          4                     48.0                     1      250 mg po   \n",
       "\n",
       "   drugenddate  drugenddateformat              drugindication  drugstartdate  \\\n",
       "0          NaN                NaN  non-small cell lung cancer            NaN   \n",
       "1          NaN                NaN  non-small cell lung cancer            NaN   \n",
       "2          NaN                NaN  non-small cell lung cancer            NaN   \n",
       "\n",
       "   drugstartdateformat  fulfillexpeditecriteria      ...      dosagevec3  \\\n",
       "0                  NaN                        2      ...       -0.153395   \n",
       "1                  NaN                        2      ...       -0.153395   \n",
       "2                  NaN                        2      ...       -0.153395   \n",
       "\n",
       "    medvec1   medvec2   medvec3 reactionvec1 reactionvec2  reactionvec3  \\\n",
       "0  0.041178 -0.134399  0.101592    -0.221157     0.021303      0.039954   \n",
       "1  0.041178 -0.134399  0.101592     0.033726     0.111824      0.612965   \n",
       "2  0.041178 -0.134399  0.101592    -0.116874     0.756426     -0.452332   \n",
       "\n",
       "  reactionvec1 reactionvec2  reactionvec3  \n",
       "0    -0.221157     0.021303      0.039954  \n",
       "1     0.033726     0.111824      0.612965  \n",
       "2    -0.116874     0.756426     -0.452332  \n",
       "\n",
       "[3 rows x 45 columns]"
      ]
     },
     "execution_count": 214,
     "metadata": {},
     "output_type": "execute_result"
    }
   ],
   "source": [
    "# Add the word vectors to dataframe\n",
    "\n",
    "# convert spark word vector list to pandas \n",
    "indication_pd_df = indication_vec_df.toPandas()\n",
    "\n",
    "# select result and create a list \n",
    "indication_vec_list = indication_pd_df['result'].tolist()   # convert to python list\n",
    "\n",
    "# convert to pandas dataframe\n",
    "indication_vec_pd_df = pd.DataFrame(indication_vec_list, columns=['indicationvec1', 'indicationvec2', 'indicationvec3'], index = range(92130)) # to datafram\n",
    "\n",
    "# set input dataframe index range\n",
    "drug_reaction_df9.index = range(92130)\n",
    "\n",
    "# join the word vector columns to the main dataframe\n",
    "drug_reaction_df10 = pd.concat([drug_reaction_df9, reaction_vec_pd_df], axis=1)\n",
    "\n",
    "drug_reaction_df10.head(3)"
   ]
  },
  {
   "cell_type": "code",
   "execution_count": 215,
   "metadata": {},
   "outputs": [
    {
     "data": {
      "text/plain": [
       "array(['atorvastatin calcium trihydrate', 'missing',\n",
       "       'levothyroxine sodium', 'gefitinib', 'tamoxifen citrate',\n",
       "       'diazepam', 'amitriptyline hydrochloride', 'morphine',\n",
       "       'abt-925 anhydrous free base', 'propoxyphene hydrochloride',\n",
       "       'amphetamine sulfate', 'modafinil', 'cyclosporine', 'filgrastim',\n",
       "       'cisplatin'], dtype=object)"
      ]
     },
     "execution_count": 215,
     "metadata": {},
     "output_type": "execute_result"
    }
   ],
   "source": [
    "# vectorise substancename\n",
    "\n",
    "# change values to lower case and replace missing values\n",
    "\n",
    "drug_reaction_df11 = drug_reaction_df10.copy()\n",
    "\n",
    "drug_reaction_df11.substancename = drug_reaction_df11.substancename.str.lower().fillna('missing') # lower casing\n",
    "\n",
    "# display for quality control\n",
    "drug_reaction_df11.substancename[10:100].unique()"
   ]
  },
  {
   "cell_type": "code",
   "execution_count": 216,
   "metadata": {},
   "outputs": [
    {
     "name": "stdout",
     "output_type": "stream",
     "text": [
      "Row(words=['gefitinib'], result=DenseVector([0.126, 0.1174, -0.0509]))\n",
      "Row(words=['gefitinib'], result=DenseVector([0.126, 0.1174, -0.0509]))\n"
     ]
    }
   ],
   "source": [
    "# vectorize substancename\n",
    "\n",
    "substance_text_df = drug_reaction_df11.loc[:,['substancename']].copy()\n",
    "\n",
    "# create pyspark dataframe\n",
    "substance_spark = spark.createDataFrame(substance_text_df)\n",
    "\n",
    "tokenizer = Tokenizer(inputCol=\"substancename\", outputCol=\"words\") # tokenise the data in spark_df\n",
    "\n",
    "tok_df = tokenizer.transform(substance_spark) # tokenize text\n",
    "# output word vectors using function\n",
    "substance_vec_df = text_vectorize()\n",
    "\n",
    "# display for QC of word vectors\n",
    "\n",
    "for row in substance_vec_df.take(2):\n",
    "    print(row)"
   ]
  },
  {
   "cell_type": "code",
   "execution_count": 217,
   "metadata": {},
   "outputs": [
    {
     "data": {
      "text/html": [
       "<div>\n",
       "<style>\n",
       "    .dataframe thead tr:only-child th {\n",
       "        text-align: right;\n",
       "    }\n",
       "\n",
       "    .dataframe thead th {\n",
       "        text-align: left;\n",
       "    }\n",
       "\n",
       "    .dataframe tbody tr th {\n",
       "        vertical-align: top;\n",
       "    }\n",
       "</style>\n",
       "<table border=\"1\" class=\"dataframe\">\n",
       "  <thead>\n",
       "    <tr style=\"text-align: right;\">\n",
       "      <th></th>\n",
       "      <th>unnamed:0</th>\n",
       "      <th>drugadministrationroute</th>\n",
       "      <th>drugcharacterization</th>\n",
       "      <th>drugdosagetext</th>\n",
       "      <th>drugenddate</th>\n",
       "      <th>drugenddateformat</th>\n",
       "      <th>drugindication</th>\n",
       "      <th>drugstartdate</th>\n",
       "      <th>drugstartdateformat</th>\n",
       "      <th>fulfillexpeditecriteria</th>\n",
       "      <th>...</th>\n",
       "      <th>medvec3</th>\n",
       "      <th>reactionvec1</th>\n",
       "      <th>reactionvec2</th>\n",
       "      <th>reactionvec3</th>\n",
       "      <th>reactionvec1</th>\n",
       "      <th>reactionvec2</th>\n",
       "      <th>reactionvec3</th>\n",
       "      <th>substancevec1</th>\n",
       "      <th>substancevec2</th>\n",
       "      <th>substancevec3</th>\n",
       "    </tr>\n",
       "  </thead>\n",
       "  <tbody>\n",
       "    <tr>\n",
       "      <th>0</th>\n",
       "      <td>2</td>\n",
       "      <td>48.0</td>\n",
       "      <td>1</td>\n",
       "      <td>250 mg po</td>\n",
       "      <td>NaN</td>\n",
       "      <td>NaN</td>\n",
       "      <td>non-small cell lung cancer</td>\n",
       "      <td>NaN</td>\n",
       "      <td>NaN</td>\n",
       "      <td>2</td>\n",
       "      <td>...</td>\n",
       "      <td>0.101592</td>\n",
       "      <td>-0.221157</td>\n",
       "      <td>0.021303</td>\n",
       "      <td>0.039954</td>\n",
       "      <td>-0.221157</td>\n",
       "      <td>0.021303</td>\n",
       "      <td>0.039954</td>\n",
       "      <td>0.125976</td>\n",
       "      <td>0.117379</td>\n",
       "      <td>-0.05095</td>\n",
       "    </tr>\n",
       "    <tr>\n",
       "      <th>1</th>\n",
       "      <td>3</td>\n",
       "      <td>48.0</td>\n",
       "      <td>1</td>\n",
       "      <td>250 mg po</td>\n",
       "      <td>NaN</td>\n",
       "      <td>NaN</td>\n",
       "      <td>non-small cell lung cancer</td>\n",
       "      <td>NaN</td>\n",
       "      <td>NaN</td>\n",
       "      <td>2</td>\n",
       "      <td>...</td>\n",
       "      <td>0.101592</td>\n",
       "      <td>0.033726</td>\n",
       "      <td>0.111824</td>\n",
       "      <td>0.612965</td>\n",
       "      <td>0.033726</td>\n",
       "      <td>0.111824</td>\n",
       "      <td>0.612965</td>\n",
       "      <td>0.125976</td>\n",
       "      <td>0.117379</td>\n",
       "      <td>-0.05095</td>\n",
       "    </tr>\n",
       "    <tr>\n",
       "      <th>2</th>\n",
       "      <td>4</td>\n",
       "      <td>48.0</td>\n",
       "      <td>1</td>\n",
       "      <td>250 mg po</td>\n",
       "      <td>NaN</td>\n",
       "      <td>NaN</td>\n",
       "      <td>non-small cell lung cancer</td>\n",
       "      <td>NaN</td>\n",
       "      <td>NaN</td>\n",
       "      <td>2</td>\n",
       "      <td>...</td>\n",
       "      <td>0.101592</td>\n",
       "      <td>-0.116874</td>\n",
       "      <td>0.756426</td>\n",
       "      <td>-0.452332</td>\n",
       "      <td>-0.116874</td>\n",
       "      <td>0.756426</td>\n",
       "      <td>-0.452332</td>\n",
       "      <td>0.125976</td>\n",
       "      <td>0.117379</td>\n",
       "      <td>-0.05095</td>\n",
       "    </tr>\n",
       "  </tbody>\n",
       "</table>\n",
       "<p>3 rows × 48 columns</p>\n",
       "</div>"
      ],
      "text/plain": [
       "   unnamed:0  drugadministrationroute  drugcharacterization drugdosagetext  \\\n",
       "0          2                     48.0                     1      250 mg po   \n",
       "1          3                     48.0                     1      250 mg po   \n",
       "2          4                     48.0                     1      250 mg po   \n",
       "\n",
       "   drugenddate  drugenddateformat              drugindication  drugstartdate  \\\n",
       "0          NaN                NaN  non-small cell lung cancer            NaN   \n",
       "1          NaN                NaN  non-small cell lung cancer            NaN   \n",
       "2          NaN                NaN  non-small cell lung cancer            NaN   \n",
       "\n",
       "   drugstartdateformat  fulfillexpeditecriteria      ...         medvec3  \\\n",
       "0                  NaN                        2      ...        0.101592   \n",
       "1                  NaN                        2      ...        0.101592   \n",
       "2                  NaN                        2      ...        0.101592   \n",
       "\n",
       "   reactionvec1  reactionvec2 reactionvec3  reactionvec1  reactionvec2  \\\n",
       "0     -0.221157      0.021303     0.039954     -0.221157      0.021303   \n",
       "1      0.033726      0.111824     0.612965      0.033726      0.111824   \n",
       "2     -0.116874      0.756426    -0.452332     -0.116874      0.756426   \n",
       "\n",
       "  reactionvec3 substancevec1 substancevec2  substancevec3  \n",
       "0     0.039954      0.125976      0.117379       -0.05095  \n",
       "1     0.612965      0.125976      0.117379       -0.05095  \n",
       "2    -0.452332      0.125976      0.117379       -0.05095  \n",
       "\n",
       "[3 rows x 48 columns]"
      ]
     },
     "execution_count": 217,
     "metadata": {},
     "output_type": "execute_result"
    }
   ],
   "source": [
    "# Add the word vectors to dataframe\n",
    "\n",
    "# convert spark word vector list to pandas \n",
    "substance_pd_df = substance_vec_df.toPandas()\n",
    "\n",
    "# select result and create a list \n",
    "substance_vec_list = substance_pd_df['result'].tolist()   # convert to python list\n",
    "\n",
    "# convert to pandas dataframe\n",
    "substance_vec_pd_df = pd.DataFrame(substance_vec_list, columns=['substancevec1', 'substancevec2', 'substancevec3'], index = range(92130)) # to datafram\n",
    "\n",
    "# set input dataframe index range\n",
    "drug_reaction_df11.index = range(92130)\n",
    "\n",
    "# join the word vector columns to the main dataframe\n",
    "drug_reaction_df12 = pd.concat([drug_reaction_df11, substance_vec_pd_df], axis=1)\n",
    "\n",
    "drug_reaction_df12.head(3)"
   ]
  },
  {
   "cell_type": "code",
   "execution_count": null,
   "metadata": {},
   "outputs": [],
   "source": []
  },
  {
   "cell_type": "code",
   "execution_count": 218,
   "metadata": {},
   "outputs": [
    {
     "data": {
      "text/plain": [
       "array(['missing', 'kinase inhibitor [epc]', 'benzodiazepine [epc]',\n",
       "       'opioid agonist [epc]', 'sympathomimetic-like agent [epc]',\n",
       "       'calcineurin inhibitor immunosuppressant [epc]',\n",
       "       'leukocyte growth factor [epc]', 'platinum-based drug [epc]'],\n",
       "      dtype=object)"
      ]
     },
     "execution_count": 218,
     "metadata": {},
     "output_type": "execute_result"
    }
   ],
   "source": [
    "# change values to lower case and replace missing values in pharmclassepc\n",
    "\n",
    "drug_reaction_df13 = drug_reaction_df12.copy()\n",
    "\n",
    "drug_reaction_df13.pharmclassepc = drug_reaction_df13.pharmclassepc.str.lower().fillna('missing') # lower casing\n",
    "\n",
    "# display for quality control\n",
    "drug_reaction_df13.pharmclassepc[10:100].unique()"
   ]
  },
  {
   "cell_type": "code",
   "execution_count": 219,
   "metadata": {},
   "outputs": [
    {
     "name": "stdout",
     "output_type": "stream",
     "text": [
      "Row(words=['kinase', 'inhibitor', '[epc]'], result=DenseVector([1.0056, 0.6482, -0.1345]))\n",
      "Row(words=['kinase', 'inhibitor', '[epc]'], result=DenseVector([1.0056, 0.6482, -0.1345]))\n"
     ]
    }
   ],
   "source": [
    "# vectorize substancename\n",
    "\n",
    "classepc_text_df = drug_reaction_df13.loc[:,['pharmclassepc']].copy()\n",
    "\n",
    "# create pyspark dataframe\n",
    "classepc_spark = spark.createDataFrame(classepc_text_df)\n",
    "\n",
    "tokenizer = Tokenizer(inputCol=\"pharmclassepc\", outputCol=\"words\") # tokenise the data in spark_df\n",
    "\n",
    "tok_df = tokenizer.transform(classepc_spark) # tokenize text\n",
    "# output word vectors using function\n",
    "classepc_vec_df = text_vectorize()\n",
    "\n",
    "# display for QC of word vectors\n",
    "\n",
    "for row in classepc_vec_df.take(2):\n",
    "    print(row)"
   ]
  },
  {
   "cell_type": "code",
   "execution_count": 220,
   "metadata": {},
   "outputs": [
    {
     "data": {
      "text/html": [
       "<div>\n",
       "<style>\n",
       "    .dataframe thead tr:only-child th {\n",
       "        text-align: right;\n",
       "    }\n",
       "\n",
       "    .dataframe thead th {\n",
       "        text-align: left;\n",
       "    }\n",
       "\n",
       "    .dataframe tbody tr th {\n",
       "        vertical-align: top;\n",
       "    }\n",
       "</style>\n",
       "<table border=\"1\" class=\"dataframe\">\n",
       "  <thead>\n",
       "    <tr style=\"text-align: right;\">\n",
       "      <th></th>\n",
       "      <th>unnamed:0</th>\n",
       "      <th>drugadministrationroute</th>\n",
       "      <th>drugcharacterization</th>\n",
       "      <th>drugdosagetext</th>\n",
       "      <th>drugenddate</th>\n",
       "      <th>drugenddateformat</th>\n",
       "      <th>drugindication</th>\n",
       "      <th>drugstartdate</th>\n",
       "      <th>drugstartdateformat</th>\n",
       "      <th>fulfillexpeditecriteria</th>\n",
       "      <th>...</th>\n",
       "      <th>reactionvec3</th>\n",
       "      <th>reactionvec1</th>\n",
       "      <th>reactionvec2</th>\n",
       "      <th>reactionvec3</th>\n",
       "      <th>substancevec1</th>\n",
       "      <th>substancevec2</th>\n",
       "      <th>substancevec3</th>\n",
       "      <th>classepcvec1</th>\n",
       "      <th>classepcvec2</th>\n",
       "      <th>classepcvec3</th>\n",
       "    </tr>\n",
       "  </thead>\n",
       "  <tbody>\n",
       "    <tr>\n",
       "      <th>0</th>\n",
       "      <td>2</td>\n",
       "      <td>48.0</td>\n",
       "      <td>1</td>\n",
       "      <td>250 mg po</td>\n",
       "      <td>NaN</td>\n",
       "      <td>NaN</td>\n",
       "      <td>non-small cell lung cancer</td>\n",
       "      <td>NaN</td>\n",
       "      <td>NaN</td>\n",
       "      <td>2</td>\n",
       "      <td>...</td>\n",
       "      <td>0.039954</td>\n",
       "      <td>-0.221157</td>\n",
       "      <td>0.021303</td>\n",
       "      <td>0.039954</td>\n",
       "      <td>0.125976</td>\n",
       "      <td>0.117379</td>\n",
       "      <td>-0.05095</td>\n",
       "      <td>1.005588</td>\n",
       "      <td>0.648181</td>\n",
       "      <td>-0.13448</td>\n",
       "    </tr>\n",
       "    <tr>\n",
       "      <th>1</th>\n",
       "      <td>3</td>\n",
       "      <td>48.0</td>\n",
       "      <td>1</td>\n",
       "      <td>250 mg po</td>\n",
       "      <td>NaN</td>\n",
       "      <td>NaN</td>\n",
       "      <td>non-small cell lung cancer</td>\n",
       "      <td>NaN</td>\n",
       "      <td>NaN</td>\n",
       "      <td>2</td>\n",
       "      <td>...</td>\n",
       "      <td>0.612965</td>\n",
       "      <td>0.033726</td>\n",
       "      <td>0.111824</td>\n",
       "      <td>0.612965</td>\n",
       "      <td>0.125976</td>\n",
       "      <td>0.117379</td>\n",
       "      <td>-0.05095</td>\n",
       "      <td>1.005588</td>\n",
       "      <td>0.648181</td>\n",
       "      <td>-0.13448</td>\n",
       "    </tr>\n",
       "    <tr>\n",
       "      <th>2</th>\n",
       "      <td>4</td>\n",
       "      <td>48.0</td>\n",
       "      <td>1</td>\n",
       "      <td>250 mg po</td>\n",
       "      <td>NaN</td>\n",
       "      <td>NaN</td>\n",
       "      <td>non-small cell lung cancer</td>\n",
       "      <td>NaN</td>\n",
       "      <td>NaN</td>\n",
       "      <td>2</td>\n",
       "      <td>...</td>\n",
       "      <td>-0.452332</td>\n",
       "      <td>-0.116874</td>\n",
       "      <td>0.756426</td>\n",
       "      <td>-0.452332</td>\n",
       "      <td>0.125976</td>\n",
       "      <td>0.117379</td>\n",
       "      <td>-0.05095</td>\n",
       "      <td>1.005588</td>\n",
       "      <td>0.648181</td>\n",
       "      <td>-0.13448</td>\n",
       "    </tr>\n",
       "  </tbody>\n",
       "</table>\n",
       "<p>3 rows × 51 columns</p>\n",
       "</div>"
      ],
      "text/plain": [
       "   unnamed:0  drugadministrationroute  drugcharacterization drugdosagetext  \\\n",
       "0          2                     48.0                     1      250 mg po   \n",
       "1          3                     48.0                     1      250 mg po   \n",
       "2          4                     48.0                     1      250 mg po   \n",
       "\n",
       "   drugenddate  drugenddateformat              drugindication  drugstartdate  \\\n",
       "0          NaN                NaN  non-small cell lung cancer            NaN   \n",
       "1          NaN                NaN  non-small cell lung cancer            NaN   \n",
       "2          NaN                NaN  non-small cell lung cancer            NaN   \n",
       "\n",
       "   drugstartdateformat  fulfillexpeditecriteria      ...       reactionvec3  \\\n",
       "0                  NaN                        2      ...           0.039954   \n",
       "1                  NaN                        2      ...           0.612965   \n",
       "2                  NaN                        2      ...          -0.452332   \n",
       "\n",
       "  reactionvec1  reactionvec2  reactionvec3  substancevec1  substancevec2  \\\n",
       "0    -0.221157      0.021303      0.039954       0.125976       0.117379   \n",
       "1     0.033726      0.111824      0.612965       0.125976       0.117379   \n",
       "2    -0.116874      0.756426     -0.452332       0.125976       0.117379   \n",
       "\n",
       "  substancevec3 classepcvec1 classepcvec2  classepcvec3  \n",
       "0      -0.05095     1.005588     0.648181      -0.13448  \n",
       "1      -0.05095     1.005588     0.648181      -0.13448  \n",
       "2      -0.05095     1.005588     0.648181      -0.13448  \n",
       "\n",
       "[3 rows x 51 columns]"
      ]
     },
     "execution_count": 220,
     "metadata": {},
     "output_type": "execute_result"
    }
   ],
   "source": [
    "# Add the word vectors to dataframe\n",
    "\n",
    "# convert spark word vector list to pandas \n",
    "classepc_pd_df = classepc_vec_df.toPandas()\n",
    "\n",
    "# select result and create a list \n",
    "classepc_vec_list = classepc_pd_df['result'].tolist()   # convert to python list\n",
    "\n",
    "# convert to pandas dataframe\n",
    "classepc_vec_pd_df = pd.DataFrame(classepc_vec_list, columns=['classepcvec1', 'classepcvec2', 'classepcvec3'], index = range(92130)) # to datafram\n",
    "\n",
    "# set input dataframe index range\n",
    "drug_reaction_df13.index = range(92130)\n",
    "\n",
    "# join the word vector columns to the main dataframe\n",
    "drug_reaction_df14 = pd.concat([drug_reaction_df13, classepc_vec_pd_df], axis=1)\n",
    "\n",
    "drug_reaction_df14.head(3)"
   ]
  },
  {
   "cell_type": "code",
   "execution_count": 221,
   "metadata": {},
   "outputs": [
    {
     "data": {
      "text/plain": [
       "array(['missing', 'benzodiazepines [chemical/ingredient]',\n",
       "       'granulocyte-macrophage colony-stimulating factor [chemical/ingredient]',\n",
       "       'granulocyte colony-stimulating factor [chemical/ingredient]',\n",
       "       'platinum-containing compounds [chemical/ingredient]'],\n",
       "      dtype=object)"
      ]
     },
     "execution_count": 221,
     "metadata": {},
     "output_type": "execute_result"
    }
   ],
   "source": [
    "# vectorise pharmclasscs column\n",
    "\n",
    "# change values to lower case and replace missing values in pharmclassepc\n",
    "\n",
    "drug_reaction_df15 = drug_reaction_df14.copy()\n",
    "\n",
    "drug_reaction_df15.pharmclasscs = drug_reaction_df15.pharmclasscs.str.lower().fillna('missing') # lower casing\n",
    "\n",
    "# display for quality control\n",
    "drug_reaction_df15.pharmclasscs[10:100].unique()"
   ]
  },
  {
   "cell_type": "code",
   "execution_count": 222,
   "metadata": {},
   "outputs": [
    {
     "name": "stdout",
     "output_type": "stream",
     "text": [
      "Row(words=['missing'], result=DenseVector([0.0045, 0.1289, -0.0068]))\n",
      "Row(words=['missing'], result=DenseVector([0.0045, 0.1289, -0.0068]))\n"
     ]
    }
   ],
   "source": [
    "# vectorize pharmclasscs\n",
    "\n",
    "pharmclasscs_text_df = drug_reaction_df15.loc[:,['pharmclasscs']].copy()\n",
    "\n",
    "# create pyspark dataframe\n",
    "pharmclasscs_spark = spark.createDataFrame(pharmclasscs_text_df)\n",
    "\n",
    "tokenizer = Tokenizer(inputCol=\"pharmclasscs\", outputCol=\"words\") # tokenise the data in spark_df\n",
    "\n",
    "tok_df = tokenizer.transform(pharmclasscs_spark) # tokenize text\n",
    "\n",
    "# output word vectors using function\n",
    "pharmclasscs_vec_df = text_vectorize()\n",
    "\n",
    "# display for QC of word vectors\n",
    "\n",
    "for row in pharmclasscs_vec_df.take(2):\n",
    "    print(row)"
   ]
  },
  {
   "cell_type": "code",
   "execution_count": 223,
   "metadata": {},
   "outputs": [
    {
     "data": {
      "text/html": [
       "<div>\n",
       "<style>\n",
       "    .dataframe thead tr:only-child th {\n",
       "        text-align: right;\n",
       "    }\n",
       "\n",
       "    .dataframe thead th {\n",
       "        text-align: left;\n",
       "    }\n",
       "\n",
       "    .dataframe tbody tr th {\n",
       "        vertical-align: top;\n",
       "    }\n",
       "</style>\n",
       "<table border=\"1\" class=\"dataframe\">\n",
       "  <thead>\n",
       "    <tr style=\"text-align: right;\">\n",
       "      <th></th>\n",
       "      <th>unnamed:0</th>\n",
       "      <th>drugadministrationroute</th>\n",
       "      <th>drugcharacterization</th>\n",
       "      <th>drugdosagetext</th>\n",
       "      <th>drugenddate</th>\n",
       "      <th>drugenddateformat</th>\n",
       "      <th>drugindication</th>\n",
       "      <th>drugstartdate</th>\n",
       "      <th>drugstartdateformat</th>\n",
       "      <th>fulfillexpeditecriteria</th>\n",
       "      <th>...</th>\n",
       "      <th>reactionvec3</th>\n",
       "      <th>substancevec1</th>\n",
       "      <th>substancevec2</th>\n",
       "      <th>substancevec3</th>\n",
       "      <th>classepcvec1</th>\n",
       "      <th>classepcvec2</th>\n",
       "      <th>classepcvec3</th>\n",
       "      <th>pharmclasscsvec1</th>\n",
       "      <th>pharmclasscsvec2</th>\n",
       "      <th>pharmclasscsvec3</th>\n",
       "    </tr>\n",
       "  </thead>\n",
       "  <tbody>\n",
       "    <tr>\n",
       "      <th>0</th>\n",
       "      <td>2</td>\n",
       "      <td>48.0</td>\n",
       "      <td>1</td>\n",
       "      <td>250 mg po</td>\n",
       "      <td>NaN</td>\n",
       "      <td>NaN</td>\n",
       "      <td>non-small cell lung cancer</td>\n",
       "      <td>NaN</td>\n",
       "      <td>NaN</td>\n",
       "      <td>2</td>\n",
       "      <td>...</td>\n",
       "      <td>0.039954</td>\n",
       "      <td>0.125976</td>\n",
       "      <td>0.117379</td>\n",
       "      <td>-0.05095</td>\n",
       "      <td>1.005588</td>\n",
       "      <td>0.648181</td>\n",
       "      <td>-0.13448</td>\n",
       "      <td>0.004521</td>\n",
       "      <td>0.128879</td>\n",
       "      <td>-0.006839</td>\n",
       "    </tr>\n",
       "    <tr>\n",
       "      <th>1</th>\n",
       "      <td>3</td>\n",
       "      <td>48.0</td>\n",
       "      <td>1</td>\n",
       "      <td>250 mg po</td>\n",
       "      <td>NaN</td>\n",
       "      <td>NaN</td>\n",
       "      <td>non-small cell lung cancer</td>\n",
       "      <td>NaN</td>\n",
       "      <td>NaN</td>\n",
       "      <td>2</td>\n",
       "      <td>...</td>\n",
       "      <td>0.612965</td>\n",
       "      <td>0.125976</td>\n",
       "      <td>0.117379</td>\n",
       "      <td>-0.05095</td>\n",
       "      <td>1.005588</td>\n",
       "      <td>0.648181</td>\n",
       "      <td>-0.13448</td>\n",
       "      <td>0.004521</td>\n",
       "      <td>0.128879</td>\n",
       "      <td>-0.006839</td>\n",
       "    </tr>\n",
       "    <tr>\n",
       "      <th>2</th>\n",
       "      <td>4</td>\n",
       "      <td>48.0</td>\n",
       "      <td>1</td>\n",
       "      <td>250 mg po</td>\n",
       "      <td>NaN</td>\n",
       "      <td>NaN</td>\n",
       "      <td>non-small cell lung cancer</td>\n",
       "      <td>NaN</td>\n",
       "      <td>NaN</td>\n",
       "      <td>2</td>\n",
       "      <td>...</td>\n",
       "      <td>-0.452332</td>\n",
       "      <td>0.125976</td>\n",
       "      <td>0.117379</td>\n",
       "      <td>-0.05095</td>\n",
       "      <td>1.005588</td>\n",
       "      <td>0.648181</td>\n",
       "      <td>-0.13448</td>\n",
       "      <td>0.004521</td>\n",
       "      <td>0.128879</td>\n",
       "      <td>-0.006839</td>\n",
       "    </tr>\n",
       "  </tbody>\n",
       "</table>\n",
       "<p>3 rows × 54 columns</p>\n",
       "</div>"
      ],
      "text/plain": [
       "   unnamed:0  drugadministrationroute  drugcharacterization drugdosagetext  \\\n",
       "0          2                     48.0                     1      250 mg po   \n",
       "1          3                     48.0                     1      250 mg po   \n",
       "2          4                     48.0                     1      250 mg po   \n",
       "\n",
       "   drugenddate  drugenddateformat              drugindication  drugstartdate  \\\n",
       "0          NaN                NaN  non-small cell lung cancer            NaN   \n",
       "1          NaN                NaN  non-small cell lung cancer            NaN   \n",
       "2          NaN                NaN  non-small cell lung cancer            NaN   \n",
       "\n",
       "   drugstartdateformat  fulfillexpeditecriteria        ...         \\\n",
       "0                  NaN                        2        ...          \n",
       "1                  NaN                        2        ...          \n",
       "2                  NaN                        2        ...          \n",
       "\n",
       "  reactionvec3 substancevec1  substancevec2  substancevec3  classepcvec1  \\\n",
       "0     0.039954      0.125976       0.117379       -0.05095      1.005588   \n",
       "1     0.612965      0.125976       0.117379       -0.05095      1.005588   \n",
       "2    -0.452332      0.125976       0.117379       -0.05095      1.005588   \n",
       "\n",
       "   classepcvec2 classepcvec3 pharmclasscsvec1 pharmclasscsvec2  \\\n",
       "0      0.648181     -0.13448         0.004521         0.128879   \n",
       "1      0.648181     -0.13448         0.004521         0.128879   \n",
       "2      0.648181     -0.13448         0.004521         0.128879   \n",
       "\n",
       "   pharmclasscsvec3  \n",
       "0         -0.006839  \n",
       "1         -0.006839  \n",
       "2         -0.006839  \n",
       "\n",
       "[3 rows x 54 columns]"
      ]
     },
     "execution_count": 223,
     "metadata": {},
     "output_type": "execute_result"
    }
   ],
   "source": [
    "# Add the word vectors to dataframe\n",
    "\n",
    "# convert spark word vector list to pandas \n",
    "pharmclasscs_pd_df = pharmclasscs_vec_df.toPandas()\n",
    "\n",
    "# select result and create a list \n",
    "pharmclasscs_vec_list = pharmclasscs_pd_df['result'].tolist()   # convert to python list\n",
    "\n",
    "# convert to pandas dataframe\n",
    "pharmclasscs_vec_pd_df = pd.DataFrame(pharmclasscs_vec_list, columns=['pharmclasscsvec1', 'pharmclasscsvec2', 'pharmclasscsvec3'], index = range(92130)) # to datafram\n",
    "\n",
    "# set input dataframe index range\n",
    "drug_reaction_df15.index = range(92130)\n",
    "\n",
    "# join the word vector columns to the main dataframe\n",
    "drug_reaction_df16 = pd.concat([drug_reaction_df15, pharmclasscs_vec_pd_df], axis=1)\n",
    "\n",
    "drug_reaction_df16.head(3)"
   ]
  },
  {
   "cell_type": "code",
   "execution_count": null,
   "metadata": {},
   "outputs": [],
   "source": []
  },
  {
   "cell_type": "code",
   "execution_count": 224,
   "metadata": {},
   "outputs": [
    {
     "data": {
      "text/plain": [
       "array(['missing', 'increased sympathetic activity [pe]',\n",
       "       'central nervous system stimulation [pe]',\n",
       "       'increased myeloid cell production [pe]'], dtype=object)"
      ]
     },
     "execution_count": 224,
     "metadata": {},
     "output_type": "execute_result"
    }
   ],
   "source": [
    "# change values to lower case and replace missing values in pharmclasspe\n",
    "\n",
    "drug_reaction_df17 = drug_reaction_df16.copy()\n",
    "\n",
    "drug_reaction_df17.pharmclasspe = drug_reaction_df17.pharmclasspe.str.lower().fillna('missing') # lower casing\n",
    "\n",
    "# display for quality control\n",
    "drug_reaction_df17.pharmclasspe[10:100].unique()"
   ]
  },
  {
   "cell_type": "code",
   "execution_count": 225,
   "metadata": {},
   "outputs": [
    {
     "name": "stdout",
     "output_type": "stream",
     "text": [
      "Row(words=['missing'], result=DenseVector([0.1347, -0.0305, 0.0036]))\n",
      "Row(words=['missing'], result=DenseVector([0.1347, -0.0305, 0.0036]))\n"
     ]
    }
   ],
   "source": [
    "# vectorize  pharmclasspe\n",
    "\n",
    "pharmclasspe_text_df = drug_reaction_df17.loc[:,['pharmclasspe']].copy()\n",
    "\n",
    "# create pyspark dataframe\n",
    "pharmclasspe_spark = spark.createDataFrame( pharmclasspe_text_df)\n",
    "\n",
    "tokenizer = Tokenizer(inputCol=\"pharmclasspe\", outputCol=\"words\") # tokenise the data in spark_df\n",
    "\n",
    "tok_df = tokenizer.transform(pharmclasspe_spark) # tokenize text\n",
    "\n",
    "# output word vectors using function\n",
    "pharmclasspe_vec_df = text_vectorize()\n",
    "\n",
    "# display for QC of word vectors\n",
    "\n",
    "for row in pharmclasspe_vec_df.take(2):\n",
    "    print(row)"
   ]
  },
  {
   "cell_type": "code",
   "execution_count": 226,
   "metadata": {},
   "outputs": [
    {
     "data": {
      "text/html": [
       "<div>\n",
       "<style>\n",
       "    .dataframe thead tr:only-child th {\n",
       "        text-align: right;\n",
       "    }\n",
       "\n",
       "    .dataframe thead th {\n",
       "        text-align: left;\n",
       "    }\n",
       "\n",
       "    .dataframe tbody tr th {\n",
       "        vertical-align: top;\n",
       "    }\n",
       "</style>\n",
       "<table border=\"1\" class=\"dataframe\">\n",
       "  <thead>\n",
       "    <tr style=\"text-align: right;\">\n",
       "      <th></th>\n",
       "      <th>unnamed:0</th>\n",
       "      <th>drugadministrationroute</th>\n",
       "      <th>drugcharacterization</th>\n",
       "      <th>drugdosagetext</th>\n",
       "      <th>drugenddate</th>\n",
       "      <th>drugenddateformat</th>\n",
       "      <th>drugindication</th>\n",
       "      <th>drugstartdate</th>\n",
       "      <th>drugstartdateformat</th>\n",
       "      <th>fulfillexpeditecriteria</th>\n",
       "      <th>...</th>\n",
       "      <th>substancevec3</th>\n",
       "      <th>classepcvec1</th>\n",
       "      <th>classepcvec2</th>\n",
       "      <th>classepcvec3</th>\n",
       "      <th>pharmclasscsvec1</th>\n",
       "      <th>pharmclasscsvec2</th>\n",
       "      <th>pharmclasscsvec3</th>\n",
       "      <th>pharmclasspevec1</th>\n",
       "      <th>pharmclasspevec2</th>\n",
       "      <th>pharmclasspevec3</th>\n",
       "    </tr>\n",
       "  </thead>\n",
       "  <tbody>\n",
       "    <tr>\n",
       "      <th>0</th>\n",
       "      <td>2</td>\n",
       "      <td>48.0</td>\n",
       "      <td>1</td>\n",
       "      <td>250 mg po</td>\n",
       "      <td>NaN</td>\n",
       "      <td>NaN</td>\n",
       "      <td>non-small cell lung cancer</td>\n",
       "      <td>NaN</td>\n",
       "      <td>NaN</td>\n",
       "      <td>2</td>\n",
       "      <td>...</td>\n",
       "      <td>-0.05095</td>\n",
       "      <td>1.005588</td>\n",
       "      <td>0.648181</td>\n",
       "      <td>-0.13448</td>\n",
       "      <td>0.004521</td>\n",
       "      <td>0.128879</td>\n",
       "      <td>-0.006839</td>\n",
       "      <td>0.134725</td>\n",
       "      <td>-0.030515</td>\n",
       "      <td>0.003595</td>\n",
       "    </tr>\n",
       "    <tr>\n",
       "      <th>1</th>\n",
       "      <td>3</td>\n",
       "      <td>48.0</td>\n",
       "      <td>1</td>\n",
       "      <td>250 mg po</td>\n",
       "      <td>NaN</td>\n",
       "      <td>NaN</td>\n",
       "      <td>non-small cell lung cancer</td>\n",
       "      <td>NaN</td>\n",
       "      <td>NaN</td>\n",
       "      <td>2</td>\n",
       "      <td>...</td>\n",
       "      <td>-0.05095</td>\n",
       "      <td>1.005588</td>\n",
       "      <td>0.648181</td>\n",
       "      <td>-0.13448</td>\n",
       "      <td>0.004521</td>\n",
       "      <td>0.128879</td>\n",
       "      <td>-0.006839</td>\n",
       "      <td>0.134725</td>\n",
       "      <td>-0.030515</td>\n",
       "      <td>0.003595</td>\n",
       "    </tr>\n",
       "    <tr>\n",
       "      <th>2</th>\n",
       "      <td>4</td>\n",
       "      <td>48.0</td>\n",
       "      <td>1</td>\n",
       "      <td>250 mg po</td>\n",
       "      <td>NaN</td>\n",
       "      <td>NaN</td>\n",
       "      <td>non-small cell lung cancer</td>\n",
       "      <td>NaN</td>\n",
       "      <td>NaN</td>\n",
       "      <td>2</td>\n",
       "      <td>...</td>\n",
       "      <td>-0.05095</td>\n",
       "      <td>1.005588</td>\n",
       "      <td>0.648181</td>\n",
       "      <td>-0.13448</td>\n",
       "      <td>0.004521</td>\n",
       "      <td>0.128879</td>\n",
       "      <td>-0.006839</td>\n",
       "      <td>0.134725</td>\n",
       "      <td>-0.030515</td>\n",
       "      <td>0.003595</td>\n",
       "    </tr>\n",
       "  </tbody>\n",
       "</table>\n",
       "<p>3 rows × 57 columns</p>\n",
       "</div>"
      ],
      "text/plain": [
       "   unnamed:0  drugadministrationroute  drugcharacterization drugdosagetext  \\\n",
       "0          2                     48.0                     1      250 mg po   \n",
       "1          3                     48.0                     1      250 mg po   \n",
       "2          4                     48.0                     1      250 mg po   \n",
       "\n",
       "   drugenddate  drugenddateformat              drugindication  drugstartdate  \\\n",
       "0          NaN                NaN  non-small cell lung cancer            NaN   \n",
       "1          NaN                NaN  non-small cell lung cancer            NaN   \n",
       "2          NaN                NaN  non-small cell lung cancer            NaN   \n",
       "\n",
       "   drugstartdateformat  fulfillexpeditecriteria        ...         \\\n",
       "0                  NaN                        2        ...          \n",
       "1                  NaN                        2        ...          \n",
       "2                  NaN                        2        ...          \n",
       "\n",
       "  substancevec3 classepcvec1  classepcvec2  classepcvec3  pharmclasscsvec1  \\\n",
       "0      -0.05095     1.005588      0.648181      -0.13448          0.004521   \n",
       "1      -0.05095     1.005588      0.648181      -0.13448          0.004521   \n",
       "2      -0.05095     1.005588      0.648181      -0.13448          0.004521   \n",
       "\n",
       "   pharmclasscsvec2 pharmclasscsvec3 pharmclasspevec1 pharmclasspevec2  \\\n",
       "0          0.128879        -0.006839         0.134725        -0.030515   \n",
       "1          0.128879        -0.006839         0.134725        -0.030515   \n",
       "2          0.128879        -0.006839         0.134725        -0.030515   \n",
       "\n",
       "   pharmclasspevec3  \n",
       "0          0.003595  \n",
       "1          0.003595  \n",
       "2          0.003595  \n",
       "\n",
       "[3 rows x 57 columns]"
      ]
     },
     "execution_count": 226,
     "metadata": {},
     "output_type": "execute_result"
    }
   ],
   "source": [
    "# Add the word vectors to dataframe\n",
    "\n",
    "# convert spark word vector list to pandas \n",
    "pharmclasspe_pd_df = pharmclasspe_vec_df.toPandas()\n",
    "\n",
    "# select result and create a list \n",
    "pharmclasspe_vec_list = pharmclasspe_pd_df['result'].tolist()   # convert to python list\n",
    "\n",
    "# convert to pandas dataframe\n",
    "pharmclasspe_vec_pd_df = pd.DataFrame(pharmclasspe_vec_list, columns=['pharmclasspevec1', 'pharmclasspevec2', 'pharmclasspevec3'], index = range(92130)) # to datafram\n",
    "\n",
    "# set input dataframe index range\n",
    "drug_reaction_df17.index = range(92130)\n",
    "\n",
    "# join the word vector columns to the main dataframe\n",
    "drug_reaction_df18 = pd.concat([drug_reaction_df17, pharmclasspe_vec_pd_df], axis=1)\n",
    "\n",
    "drug_reaction_df18.head(3)"
   ]
  },
  {
   "cell_type": "code",
   "execution_count": 227,
   "metadata": {},
   "outputs": [
    {
     "data": {
      "text/plain": [
       "array(['oral', 'missing', 'sublingual', 'intravenous', 'subcutaneous',\n",
       "       'intramuscular', 'intralesional', 'transdermal', 'topical',\n",
       "       'ophthalmic', 'retrobulbar', 'epidural', 'intracaudal',\n",
       "       'infiltration', 'subarachnoid', 'perineural', 'nasal', 'rectal',\n",
       "       'intrathecal', 'intra-articular', 'respiratory (inhalation)',\n",
       "       'parenteral', 'cutaneous', 'intracavitary', 'intraperitoneal',\n",
       "       'intrapleural', 'vaginal', 'endotracheal', 'irrigation',\n",
       "       'intravesical'], dtype=object)"
      ]
     },
     "execution_count": 227,
     "metadata": {},
     "output_type": "execute_result"
    }
   ],
   "source": [
    "# change values to lower case and replace missing values in route\n",
    "\n",
    "drug_reaction_df19 = drug_reaction_df18.copy()\n",
    "\n",
    "drug_reaction_df19.route = drug_reaction_df19.route.str.lower().fillna('missing') # lower casing\n",
    "\n",
    "# display for quality control\n",
    "drug_reaction_df19.route.unique()"
   ]
  },
  {
   "cell_type": "code",
   "execution_count": null,
   "metadata": {},
   "outputs": [],
   "source": [
    "drug_reaction_df19.info()"
   ]
  },
  {
   "cell_type": "code",
   "execution_count": 228,
   "metadata": {},
   "outputs": [
    {
     "name": "stdout",
     "output_type": "stream",
     "text": [
      "Row(words=['oral'], result=DenseVector([0.1347, -0.0305, 0.0036]))\n",
      "Row(words=['oral'], result=DenseVector([0.1347, -0.0305, 0.0036]))\n"
     ]
    }
   ],
   "source": [
    "# vectorize  route\n",
    "\n",
    "route_text_df = drug_reaction_df19.loc[:,['route']].copy()\n",
    "\n",
    "# create pyspark dataframe\n",
    "route_spark = spark.createDataFrame(route_text_df)\n",
    "\n",
    "tokenizer = Tokenizer(inputCol=\"route\", outputCol=\"words\") # tokenise the data in spark_df\n",
    "\n",
    "tok_df = tokenizer.transform(route_spark) # tokenize text\n",
    "\n",
    "# output word vectors using function\n",
    "route_vec_df = text_vectorize()\n",
    "\n",
    "# display for QC of word vectors\n",
    "\n",
    "for row in route_vec_df.take(2):\n",
    "    print(row)"
   ]
  },
  {
   "cell_type": "code",
   "execution_count": 229,
   "metadata": {},
   "outputs": [
    {
     "data": {
      "text/html": [
       "<div>\n",
       "<style>\n",
       "    .dataframe thead tr:only-child th {\n",
       "        text-align: right;\n",
       "    }\n",
       "\n",
       "    .dataframe thead th {\n",
       "        text-align: left;\n",
       "    }\n",
       "\n",
       "    .dataframe tbody tr th {\n",
       "        vertical-align: top;\n",
       "    }\n",
       "</style>\n",
       "<table border=\"1\" class=\"dataframe\">\n",
       "  <thead>\n",
       "    <tr style=\"text-align: right;\">\n",
       "      <th></th>\n",
       "      <th>unnamed:0</th>\n",
       "      <th>drugadministrationroute</th>\n",
       "      <th>drugcharacterization</th>\n",
       "      <th>drugdosagetext</th>\n",
       "      <th>drugenddate</th>\n",
       "      <th>drugenddateformat</th>\n",
       "      <th>drugindication</th>\n",
       "      <th>drugstartdate</th>\n",
       "      <th>drugstartdateformat</th>\n",
       "      <th>fulfillexpeditecriteria</th>\n",
       "      <th>...</th>\n",
       "      <th>classepcvec3</th>\n",
       "      <th>pharmclasscsvec1</th>\n",
       "      <th>pharmclasscsvec2</th>\n",
       "      <th>pharmclasscsvec3</th>\n",
       "      <th>pharmclasspevec1</th>\n",
       "      <th>pharmclasspevec2</th>\n",
       "      <th>pharmclasspevec3</th>\n",
       "      <th>routevec1</th>\n",
       "      <th>routevec2</th>\n",
       "      <th>routevec3</th>\n",
       "    </tr>\n",
       "  </thead>\n",
       "  <tbody>\n",
       "    <tr>\n",
       "      <th>0</th>\n",
       "      <td>2</td>\n",
       "      <td>48.0</td>\n",
       "      <td>1</td>\n",
       "      <td>250 mg po</td>\n",
       "      <td>NaN</td>\n",
       "      <td>NaN</td>\n",
       "      <td>non-small cell lung cancer</td>\n",
       "      <td>NaN</td>\n",
       "      <td>NaN</td>\n",
       "      <td>2</td>\n",
       "      <td>...</td>\n",
       "      <td>-0.13448</td>\n",
       "      <td>0.004521</td>\n",
       "      <td>0.128879</td>\n",
       "      <td>-0.006839</td>\n",
       "      <td>0.134725</td>\n",
       "      <td>-0.030515</td>\n",
       "      <td>0.003595</td>\n",
       "      <td>0.134725</td>\n",
       "      <td>-0.030515</td>\n",
       "      <td>0.003595</td>\n",
       "    </tr>\n",
       "    <tr>\n",
       "      <th>1</th>\n",
       "      <td>3</td>\n",
       "      <td>48.0</td>\n",
       "      <td>1</td>\n",
       "      <td>250 mg po</td>\n",
       "      <td>NaN</td>\n",
       "      <td>NaN</td>\n",
       "      <td>non-small cell lung cancer</td>\n",
       "      <td>NaN</td>\n",
       "      <td>NaN</td>\n",
       "      <td>2</td>\n",
       "      <td>...</td>\n",
       "      <td>-0.13448</td>\n",
       "      <td>0.004521</td>\n",
       "      <td>0.128879</td>\n",
       "      <td>-0.006839</td>\n",
       "      <td>0.134725</td>\n",
       "      <td>-0.030515</td>\n",
       "      <td>0.003595</td>\n",
       "      <td>0.134725</td>\n",
       "      <td>-0.030515</td>\n",
       "      <td>0.003595</td>\n",
       "    </tr>\n",
       "    <tr>\n",
       "      <th>2</th>\n",
       "      <td>4</td>\n",
       "      <td>48.0</td>\n",
       "      <td>1</td>\n",
       "      <td>250 mg po</td>\n",
       "      <td>NaN</td>\n",
       "      <td>NaN</td>\n",
       "      <td>non-small cell lung cancer</td>\n",
       "      <td>NaN</td>\n",
       "      <td>NaN</td>\n",
       "      <td>2</td>\n",
       "      <td>...</td>\n",
       "      <td>-0.13448</td>\n",
       "      <td>0.004521</td>\n",
       "      <td>0.128879</td>\n",
       "      <td>-0.006839</td>\n",
       "      <td>0.134725</td>\n",
       "      <td>-0.030515</td>\n",
       "      <td>0.003595</td>\n",
       "      <td>0.134725</td>\n",
       "      <td>-0.030515</td>\n",
       "      <td>0.003595</td>\n",
       "    </tr>\n",
       "  </tbody>\n",
       "</table>\n",
       "<p>3 rows × 60 columns</p>\n",
       "</div>"
      ],
      "text/plain": [
       "   unnamed:0  drugadministrationroute  drugcharacterization drugdosagetext  \\\n",
       "0          2                     48.0                     1      250 mg po   \n",
       "1          3                     48.0                     1      250 mg po   \n",
       "2          4                     48.0                     1      250 mg po   \n",
       "\n",
       "   drugenddate  drugenddateformat              drugindication  drugstartdate  \\\n",
       "0          NaN                NaN  non-small cell lung cancer            NaN   \n",
       "1          NaN                NaN  non-small cell lung cancer            NaN   \n",
       "2          NaN                NaN  non-small cell lung cancer            NaN   \n",
       "\n",
       "   drugstartdateformat  fulfillexpeditecriteria    ...     classepcvec3  \\\n",
       "0                  NaN                        2    ...         -0.13448   \n",
       "1                  NaN                        2    ...         -0.13448   \n",
       "2                  NaN                        2    ...         -0.13448   \n",
       "\n",
       "  pharmclasscsvec1  pharmclasscsvec2  pharmclasscsvec3  pharmclasspevec1  \\\n",
       "0         0.004521          0.128879         -0.006839          0.134725   \n",
       "1         0.004521          0.128879         -0.006839          0.134725   \n",
       "2         0.004521          0.128879         -0.006839          0.134725   \n",
       "\n",
       "   pharmclasspevec2 pharmclasspevec3 routevec1 routevec2  routevec3  \n",
       "0         -0.030515         0.003595  0.134725 -0.030515   0.003595  \n",
       "1         -0.030515         0.003595  0.134725 -0.030515   0.003595  \n",
       "2         -0.030515         0.003595  0.134725 -0.030515   0.003595  \n",
       "\n",
       "[3 rows x 60 columns]"
      ]
     },
     "execution_count": 229,
     "metadata": {},
     "output_type": "execute_result"
    }
   ],
   "source": [
    "# Add the word vectors to dataframe\n",
    "\n",
    "# convert spark word vector list to pandas \n",
    "route_pd_df = route_vec_df.toPandas()\n",
    "\n",
    "# select result and create a list \n",
    "route_vec_list = route_pd_df['result'].tolist()   # convert to python list\n",
    "\n",
    "# convert to pandas dataframe\n",
    "route_vec_pd_df = pd.DataFrame(route_vec_list, columns=['routevec1', 'routevec2', 'routevec3'], index = range(92130)) # to datafram\n",
    "\n",
    "# set input dataframe index range\n",
    "drug_reaction_df19.index = range(92130)\n",
    "\n",
    "# join the word vector columns to the main dataframe\n",
    "drug_reaction_df20 = pd.concat([drug_reaction_df19, route_vec_pd_df], axis=1)\n",
    "\n",
    "drug_reaction_df20.head(3)"
   ]
  },
  {
   "cell_type": "code",
   "execution_count": 231,
   "metadata": {},
   "outputs": [],
   "source": [
    "#save out data to csv\n",
    "\n",
    "# Save the cleaned dataframe to disk1 as a csv file\n",
    "\n",
    "drug_reaction_df20.to_csv(\"C:/Users/yasser/Desktop/Godly_appl/AstraZeneca/drug_reaction_df20.csv\")   # save out the data to disc\n"
   ]
  },
  {
   "cell_type": "code",
   "execution_count": 232,
   "metadata": {},
   "outputs": [],
   "source": [
    "# drop vectorized columns\n",
    "# drop vectorised columns\n",
    "text_drop_cols = ['drugdosagetext','drugindication','genericname','medicinalproduct','pharmclasscs','pharmclasscs',\n",
    "                  'pharmclassepc','pharmclasspe','reactionmeddrapt','route','substancename']\n",
    "drug_reaction_df21 = drug_reaction_df20.copy()\n",
    "drug_reaction_df21 = drug_reaction_df21.drop(drug_reaction_df21[text_drop_cols], axis = 1)"
   ]
  },
  {
   "cell_type": "code",
   "execution_count": 233,
   "metadata": {},
   "outputs": [
    {
     "name": "stdout",
     "output_type": "stream",
     "text": [
      "<class 'pandas.core.frame.DataFrame'>\n",
      "RangeIndex: 92130 entries, 0 to 92129\n",
      "Data columns (total 50 columns):\n",
      "unnamed:0                     92130 non-null int64\n",
      "drugadministrationroute       27530 non-null float64\n",
      "drugcharacterization          92130 non-null int64\n",
      "drugenddate                   33222 non-null float64\n",
      "drugenddateformat             33222 non-null float64\n",
      "drugstartdate                 42313 non-null float64\n",
      "drugstartdateformat           42313 non-null float64\n",
      "fulfillexpeditecriteria       92130 non-null int64\n",
      "patientonsetage               87098 non-null float64\n",
      "patientonsetageunit           88275 non-null float64\n",
      "patientsex                    92057 non-null float64\n",
      "patientweight                 92130 non-null float64\n",
      "qualification                 76828 non-null float64\n",
      "receiptdate                   92130 non-null int64\n",
      "receiptdateformat             92130 non-null int64\n",
      "receivedate                   92130 non-null int64\n",
      "receivedateformat             92130 non-null int64\n",
      "serious                       92130 non-null int64\n",
      "seriousnessdeath              5758 non-null float64\n",
      "seriousnesshospitalization    40974 non-null float64\n",
      "seriousnessother              37369 non-null float64\n",
      "transmissiondate              92130 non-null int64\n",
      "transmissiondateformat        92130 non-null int64\n",
      "dosagevec1                    92130 non-null float64\n",
      "dosagevec2                    92130 non-null float64\n",
      "dosagevec3                    92130 non-null float64\n",
      "medvec1                       92130 non-null float64\n",
      "medvec2                       92130 non-null float64\n",
      "medvec3                       92130 non-null float64\n",
      "reactionvec1                  92130 non-null float64\n",
      "reactionvec2                  92130 non-null float64\n",
      "reactionvec3                  92130 non-null float64\n",
      "reactionvec1                  92130 non-null float64\n",
      "reactionvec2                  92130 non-null float64\n",
      "reactionvec3                  92130 non-null float64\n",
      "substancevec1                 92130 non-null float64\n",
      "substancevec2                 92130 non-null float64\n",
      "substancevec3                 92130 non-null float64\n",
      "classepcvec1                  92130 non-null float64\n",
      "classepcvec2                  92130 non-null float64\n",
      "classepcvec3                  92130 non-null float64\n",
      "pharmclasscsvec1              92130 non-null float64\n",
      "pharmclasscsvec2              92130 non-null float64\n",
      "pharmclasscsvec3              92130 non-null float64\n",
      "pharmclasspevec1              92130 non-null float64\n",
      "pharmclasspevec2              92130 non-null float64\n",
      "pharmclasspevec3              92130 non-null float64\n",
      "routevec1                     92130 non-null float64\n",
      "routevec2                     92130 non-null float64\n",
      "routevec3                     92130 non-null float64\n",
      "dtypes: float64(40), int64(10)\n",
      "memory usage: 35.1 MB\n"
     ]
    }
   ],
   "source": [
    "drug_reaction_df21.info()"
   ]
  },
  {
   "cell_type": "code",
   "execution_count": 234,
   "metadata": {},
   "outputs": [],
   "source": [
    "# patientonsetage and patientweight contain missing values\n",
    "# Hence replace missing values with median and bin the variables\n",
    "# The variables containing missing values are not skews hence the column mean value will be used to imput missing values\n",
    "\n",
    "drug_reaction_df22 = drug_reaction_df21.copy()\n",
    "\n",
    "drug_reaction_df22 = drug_reaction_df22.iloc[:,1:54]\n",
    "\n",
    "# missing value for patientweight\n",
    "drug_reaction_df22['patientweight'] = drug_reaction_df22['patientweight'].fillna((drug_reaction_df22['patientweight'].median()))\n",
    "\n",
    "# missing value for patientonsetage\n",
    "drug_reaction_df22['patientonsetage'] = drug_reaction_df22['patientonsetage'].fillna((drug_reaction_df22['patientonsetage'].median()))\n",
    "\n",
    "# fill with mean as the values are not skewed\n",
    "\n",
    "drug_reaction_df22['patientsex'] = drug_reaction_df22['patientsex'].fillna((drug_reaction_df22['patientsex'].mean()))\n",
    "\n",
    "drug_reaction_df22['qualification'] = drug_reaction_df22['qualification'].fillna((drug_reaction_df22['qualification'].mean()))\n",
    "\n",
    "drug_reaction_df22['serious'] = drug_reaction_df22['serious'].fillna((drug_reaction_df22['serious'].mean()))\n",
    "\n",
    "# seriousnessdeath is the target variable,values are 1 and 0\n",
    "drug_reaction_df22.seriousnessdeath = drug_reaction_df22.seriousnessdeath.fillna(0)"
   ]
  },
  {
   "cell_type": "code",
   "execution_count": null,
   "metadata": {},
   "outputs": [],
   "source": [
    "drug_reaction_df22.info()"
   ]
  },
  {
   "cell_type": "code",
   "execution_count": 235,
   "metadata": {},
   "outputs": [
    {
     "data": {
      "text/html": [
       "<div>\n",
       "<style>\n",
       "    .dataframe thead tr:only-child th {\n",
       "        text-align: right;\n",
       "    }\n",
       "\n",
       "    .dataframe thead th {\n",
       "        text-align: left;\n",
       "    }\n",
       "\n",
       "    .dataframe tbody tr th {\n",
       "        vertical-align: top;\n",
       "    }\n",
       "</style>\n",
       "<table border=\"1\" class=\"dataframe\">\n",
       "  <thead>\n",
       "    <tr style=\"text-align: right;\">\n",
       "      <th></th>\n",
       "      <th>patientonsetage</th>\n",
       "      <th>patientweight</th>\n",
       "    </tr>\n",
       "  </thead>\n",
       "  <tbody>\n",
       "    <tr>\n",
       "      <th>count</th>\n",
       "      <td>92130.000000</td>\n",
       "      <td>92130.000000</td>\n",
       "    </tr>\n",
       "    <tr>\n",
       "      <th>mean</th>\n",
       "      <td>123.045772</td>\n",
       "      <td>70.357919</td>\n",
       "    </tr>\n",
       "    <tr>\n",
       "      <th>std</th>\n",
       "      <td>1271.263813</td>\n",
       "      <td>20.461773</td>\n",
       "    </tr>\n",
       "    <tr>\n",
       "      <th>min</th>\n",
       "      <td>0.000000</td>\n",
       "      <td>0.000000</td>\n",
       "    </tr>\n",
       "    <tr>\n",
       "      <th>25%</th>\n",
       "      <td>48.000000</td>\n",
       "      <td>58.300000</td>\n",
       "    </tr>\n",
       "    <tr>\n",
       "      <th>50%</th>\n",
       "      <td>58.000000</td>\n",
       "      <td>69.000000</td>\n",
       "    </tr>\n",
       "    <tr>\n",
       "      <th>75%</th>\n",
       "      <td>76.000000</td>\n",
       "      <td>83.000000</td>\n",
       "    </tr>\n",
       "    <tr>\n",
       "      <th>max</th>\n",
       "      <td>33728.000000</td>\n",
       "      <td>907.647600</td>\n",
       "    </tr>\n",
       "  </tbody>\n",
       "</table>\n",
       "</div>"
      ],
      "text/plain": [
       "       patientonsetage  patientweight\n",
       "count     92130.000000   92130.000000\n",
       "mean        123.045772      70.357919\n",
       "std        1271.263813      20.461773\n",
       "min           0.000000       0.000000\n",
       "25%          48.000000      58.300000\n",
       "50%          58.000000      69.000000\n",
       "75%          76.000000      83.000000\n",
       "max       33728.000000     907.647600"
      ]
     },
     "execution_count": 235,
     "metadata": {},
     "output_type": "execute_result"
    }
   ],
   "source": [
    "#\n",
    "count_df = drug_reaction_df22[['patientonsetage','patientweight']].copy()\n",
    "count_df.describe()"
   ]
  },
  {
   "cell_type": "code",
   "execution_count": 237,
   "metadata": {},
   "outputs": [],
   "source": [
    "# bining age and weight\n",
    "# bining for patientonsetage\n",
    "\n",
    "drug_reaction_df22['patientonsetagebin'] = pd.cut(drug_reaction_df22.patientonsetage,bins=4,labels=range(1, 5), retbins=False,include_lowest=True)\n",
    "\n",
    "drug_reaction_df22['patientonsetagebin'] = drug_reaction_df22['patientonsetagebin'].astype('int64')\n",
    "\n",
    "drug_reaction_df22['patientweightbin'] = pd.cut(drug_reaction_df22.patientweight,bins=4,labels=range(1, 5), retbins=False,include_lowest=True)\n",
    "\n",
    "drug_reaction_df22['patientweightbin'] = drug_reaction_df22['patientweightbin'].astype('int64')"
   ]
  },
  {
   "cell_type": "code",
   "execution_count": 281,
   "metadata": {},
   "outputs": [
    {
     "data": {
      "text/plain": [
       "array([1, 3, 4, 2], dtype=int64)"
      ]
     },
     "execution_count": 281,
     "metadata": {},
     "output_type": "execute_result"
    }
   ],
   "source": [
    "drug_reaction_df22['patientonsetagebin'].unique()"
   ]
  },
  {
   "cell_type": "code",
   "execution_count": 238,
   "metadata": {},
   "outputs": [
    {
     "name": "stdout",
     "output_type": "stream",
     "text": [
      "<class 'pandas.core.frame.DataFrame'>\n",
      "RangeIndex: 92130 entries, 0 to 92129\n",
      "Data columns (total 51 columns):\n",
      "drugadministrationroute       27530 non-null float64\n",
      "drugcharacterization          92130 non-null int64\n",
      "drugenddate                   33222 non-null float64\n",
      "drugenddateformat             33222 non-null float64\n",
      "drugstartdate                 42313 non-null float64\n",
      "drugstartdateformat           42313 non-null float64\n",
      "fulfillexpeditecriteria       92130 non-null int64\n",
      "patientonsetage               92130 non-null float64\n",
      "patientonsetageunit           88275 non-null float64\n",
      "patientsex                    92130 non-null float64\n",
      "patientweight                 92130 non-null float64\n",
      "qualification                 92130 non-null float64\n",
      "receiptdate                   92130 non-null int64\n",
      "receiptdateformat             92130 non-null int64\n",
      "receivedate                   92130 non-null int64\n",
      "receivedateformat             92130 non-null int64\n",
      "serious                       92130 non-null int64\n",
      "seriousnessdeath              92130 non-null float64\n",
      "seriousnesshospitalization    40974 non-null float64\n",
      "seriousnessother              37369 non-null float64\n",
      "transmissiondate              92130 non-null int64\n",
      "transmissiondateformat        92130 non-null int64\n",
      "dosagevec1                    92130 non-null float64\n",
      "dosagevec2                    92130 non-null float64\n",
      "dosagevec3                    92130 non-null float64\n",
      "medvec1                       92130 non-null float64\n",
      "medvec2                       92130 non-null float64\n",
      "medvec3                       92130 non-null float64\n",
      "reactionvec1                  92130 non-null float64\n",
      "reactionvec2                  92130 non-null float64\n",
      "reactionvec3                  92130 non-null float64\n",
      "reactionvec1                  92130 non-null float64\n",
      "reactionvec2                  92130 non-null float64\n",
      "reactionvec3                  92130 non-null float64\n",
      "substancevec1                 92130 non-null float64\n",
      "substancevec2                 92130 non-null float64\n",
      "substancevec3                 92130 non-null float64\n",
      "classepcvec1                  92130 non-null float64\n",
      "classepcvec2                  92130 non-null float64\n",
      "classepcvec3                  92130 non-null float64\n",
      "pharmclasscsvec1              92130 non-null float64\n",
      "pharmclasscsvec2              92130 non-null float64\n",
      "pharmclasscsvec3              92130 non-null float64\n",
      "pharmclasspevec1              92130 non-null float64\n",
      "pharmclasspevec2              92130 non-null float64\n",
      "pharmclasspevec3              92130 non-null float64\n",
      "routevec1                     92130 non-null float64\n",
      "routevec2                     92130 non-null float64\n",
      "routevec3                     92130 non-null float64\n",
      "patientonsetagebin            92130 non-null int64\n",
      "patientweightbin              92130 non-null int64\n",
      "dtypes: float64(40), int64(11)\n",
      "memory usage: 35.8 MB\n"
     ]
    }
   ],
   "source": [
    "drug_reaction_df22.info()"
   ]
  },
  {
   "cell_type": "code",
   "execution_count": 239,
   "metadata": {},
   "outputs": [],
   "source": [
    "# drop columns after feature extraction\n",
    "\n",
    "# drop patientage and patientweight\n",
    "drug_reaction_df23 = drug_reaction_df22.copy()\n",
    "drug_reaction_df23 = drug_reaction_df23.drop(drug_reaction_df23[['patientonsetage','patientweight','drugadministrationroute',\n",
    "                                                                 'drugenddate','drugenddateformat','drugstartdate',\n",
    "                                                                 'drugstartdateformat','patientonsetageunit','receiptdate',\n",
    "                                                                 'receiptdateformat','receivedateformat',\n",
    "                                                                 'seriousnessother','seriousnesshospitalization',\n",
    "                                                                 'seriousnessother','transmissiondate',\n",
    "                                                                 'transmissiondateformat','receivedate','seriousnessdeath']], axis = 1)\n",
    "drug_reaction_df23['seriousnessdeath'] = drug_reaction_df22['seriousnessdeath']"
   ]
  },
  {
   "cell_type": "code",
   "execution_count": 240,
   "metadata": {},
   "outputs": [
    {
     "data": {
      "text/plain": [
       "<matplotlib.axes._subplots.AxesSubplot at 0x75f73240>"
      ]
     },
     "execution_count": 240,
     "metadata": {},
     "output_type": "execute_result"
    },
    {
     "data": {
      "image/png": "[encoded data removed]",
      "text/plain": [
       "<Figure size 792x648 with 2 Axes>"
      ]
     },
     "metadata": {},
     "output_type": "display_data"
    }
   ],
   "source": [
    "# plot of correlation matrix\n",
    "\n",
    "# Compute the correlation matrix\n",
    "corr = drug_reaction_df23.corr()\n",
    "\n",
    "# Generate a mask for the upper triangle\n",
    "mask = np.zeros_like(corr, dtype=np.bool)\n",
    "mask[np.triu_indices_from(mask)] = True\n",
    "\n",
    "# Set up the matplotlib figure\n",
    "f, ax = plt.subplots(figsize=(11, 9))\n",
    "\n",
    "# Generate a custom diverging colormap\n",
    "cmap = sns.diverging_palette(220, 10, as_cmap=True)\n",
    "\n",
    "# Draw the heatmap with the mask and correct aspect ratio\n",
    "sns.heatmap(corr, mask=mask, cmap=cmap, vmax=.3, center=0,\n",
    "            square=True, linewidths=.5, cbar_kws={\"shrink\": .5})"
   ]
  },
  {
   "cell_type": "code",
   "execution_count": 241,
   "metadata": {},
   "outputs": [],
   "source": [
    "# Features and target data, split the model training and test data\n",
    "\n",
    "drug_reaction_df24 = drug_reaction_df23.copy()\n",
    "features_df= drug_reaction_df24.drop(['seriousnessdeath'], axis = 1) # features output\n",
    "\n",
    "target_df = drug_reaction_df24['seriousnessdeath']  # target output\n"
   ]
  },
  {
   "cell_type": "code",
   "execution_count": 242,
   "metadata": {},
   "outputs": [
    {
     "name": "stdout",
     "output_type": "stream",
     "text": [
      "<class 'pandas.core.frame.DataFrame'>\n",
      "RangeIndex: 92130 entries, 0 to 92129\n",
      "Data columns (total 34 columns):\n",
      "drugcharacterization       92130 non-null int64\n",
      "fulfillexpeditecriteria    92130 non-null int64\n",
      "patientsex                 92130 non-null float64\n",
      "qualification              92130 non-null float64\n",
      "serious                    92130 non-null int64\n",
      "dosagevec1                 92130 non-null float64\n",
      "dosagevec2                 92130 non-null float64\n",
      "dosagevec3                 92130 non-null float64\n",
      "medvec1                    92130 non-null float64\n",
      "medvec2                    92130 non-null float64\n",
      "medvec3                    92130 non-null float64\n",
      "reactionvec1               92130 non-null float64\n",
      "reactionvec2               92130 non-null float64\n",
      "reactionvec3               92130 non-null float64\n",
      "reactionvec1               92130 non-null float64\n",
      "reactionvec2               92130 non-null float64\n",
      "reactionvec3               92130 non-null float64\n",
      "substancevec1              92130 non-null float64\n",
      "substancevec2              92130 non-null float64\n",
      "substancevec3              92130 non-null float64\n",
      "classepcvec1               92130 non-null float64\n",
      "classepcvec2               92130 non-null float64\n",
      "classepcvec3               92130 non-null float64\n",
      "pharmclasscsvec1           92130 non-null float64\n",
      "pharmclasscsvec2           92130 non-null float64\n",
      "pharmclasscsvec3           92130 non-null float64\n",
      "pharmclasspevec1           92130 non-null float64\n",
      "pharmclasspevec2           92130 non-null float64\n",
      "pharmclasspevec3           92130 non-null float64\n",
      "routevec1                  92130 non-null float64\n",
      "routevec2                  92130 non-null float64\n",
      "routevec3                  92130 non-null float64\n",
      "patientonsetagebin         92130 non-null int64\n",
      "patientweightbin           92130 non-null int64\n",
      "dtypes: float64(29), int64(5)\n",
      "memory usage: 23.9 MB\n"
     ]
    }
   ],
   "source": [
    "features_df.info()"
   ]
  },
  {
   "cell_type": "code",
   "execution_count": 243,
   "metadata": {},
   "outputs": [
    {
     "data": {
      "text/plain": [
       "0.0    86372\n",
       "1.0     5758\n",
       "Name: seriousnessdeath, dtype: int64"
      ]
     },
     "execution_count": 243,
     "metadata": {},
     "output_type": "execute_result"
    }
   ],
   "source": [
    "drug_reaction_df24['seriousnessdeath'].value_counts()"
   ]
  },
  {
   "cell_type": "code",
   "execution_count": 277,
   "metadata": {},
   "outputs": [
    {
     "data": {
      "text/plain": [
       "(92130,)"
      ]
     },
     "execution_count": 277,
     "metadata": {},
     "output_type": "execute_result"
    }
   ],
   "source": [
    "target_df.shape"
   ]
  },
  {
   "cell_type": "code",
   "execution_count": 246,
   "metadata": {},
   "outputs": [
    {
     "name": "stderr",
     "output_type": "stream",
     "text": [
      "C:\\Users\\yasser\\Anaconda2\\envs\\pyt36\\lib\\site-packages\\sklearn\\preprocessing\\data.py:625: DataConversionWarning: Data with input dtype int64, float64 were all converted to float64 by StandardScaler.\n",
      "  return self.partial_fit(X, y)\n",
      "C:\\Users\\yasser\\Anaconda2\\envs\\pyt36\\lib\\site-packages\\ipykernel_launcher.py:8: DataConversionWarning: Data with input dtype int64, float64 were all converted to float64 by StandardScaler.\n",
      "  \n"
     ]
    }
   ],
   "source": [
    "# features scaling\n",
    "# Feature scaling improves the convergence of steepest descent algorithms, which do not possess \n",
    "#the property of scale invariance\n",
    "from sklearn import preprocessing\n",
    "from sklearn.preprocessing import StandardScaler\n",
    "\n",
    "std_scale = preprocessing.StandardScaler().fit(features_df)\n",
    "df_std = std_scale.transform(features_df)\n",
    "features_scaled_df = df_std\n"
   ]
  },
  {
   "cell_type": "code",
   "execution_count": 247,
   "metadata": {},
   "outputs": [
    {
     "name": "stdout",
     "output_type": "stream",
     "text": [
      "X_train dataset:  (73704, 34)\n",
      "y_train dataset:  (73704,)\n",
      "X_test dataset:  (18426, 34)\n",
      "y_test dataset:  (18426,)\n"
     ]
    }
   ],
   "source": [
    "#5.1  Train test splitting\n",
    "from __future__ import print_function\n",
    "from sklearn.model_selection import train_test_split\n",
    "from sklearn import metrics\n",
    "\n",
    "# Make a train/test split using 20% test size\n",
    "X_train, X_test, y_train, y_test = train_test_split(features_scaled_df, target_df,\n",
    "                                                    test_size=0.20,\n",
    "                                                    random_state=21)\n",
    "\n",
    "print(\"X_train dataset: \", X_train.shape)\n",
    "print(\"y_train dataset: \", y_train.shape)\n",
    "print(\"X_test dataset: \", X_test.shape)\n",
    "print(\"y_test dataset: \", y_test.shape)"
   ]
  },
  {
   "cell_type": "code",
   "execution_count": 248,
   "metadata": {},
   "outputs": [
    {
     "name": "stdout",
     "output_type": "stream",
     "text": [
      "Before OverSampling, counts of label '1': 4592\n",
      "Before OverSampling, counts of label '0': 69112 \n",
      "\n",
      "After OverSampling, the shape of train_X: (138224, 34)\n",
      "After OverSampling, the shape of train_y: (138224,) \n",
      "\n",
      "After OverSampling, counts of label '1': 69112\n",
      "After OverSampling, counts of label '0': 69112\n"
     ]
    }
   ],
   "source": [
    "# Resample: Oversampling the training data using SMOTE\n",
    "from imblearn.over_sampling import SMOTE\n",
    "\n",
    "print(\"Before OverSampling, counts of label '1': {}\".format(sum(y_train==1)))\n",
    "print(\"Before OverSampling, counts of label '0': {} \\n\".format(sum(y_train==0)))\n",
    "\n",
    "sm = SMOTE(random_state=2)\n",
    "X_train_res, y_train_res = sm.fit_sample(X_train, y_train.ravel())\n",
    "\n",
    "print('After OverSampling, the shape of train_X: {}'.format(X_train_res.shape))\n",
    "print('After OverSampling, the shape of train_y: {} \\n'.format(y_train_res.shape))\n",
    "\n",
    "print(\"After OverSampling, counts of label '1': {}\".format(sum(y_train_res==1)))\n",
    "print(\"After OverSampling, counts of label '0': {}\".format(sum(y_train_res==0)))"
   ]
  },
  {
   "cell_type": "code",
   "execution_count": 249,
   "metadata": {},
   "outputs": [
    {
     "name": "stdout",
     "output_type": "stream",
     "text": [
      "[False  True  True False  True False False False False  True False  True\n",
      "  True  True  True  True False  True False  True  True False False  True\n",
      "  True False  True  True  True  True False  True False  True]\n",
      "[ 9  1  1 10  1 15 13  2  8  1  3  1  1  1  1  1  5  1  4  1  1 14  6  1\n",
      "  1  7  1  1  1  1 12  1 11  1]\n"
     ]
    }
   ],
   "source": [
    "# Feature Seletion  (Recursive Feature Elimination)\n",
    "# Recursive Feature Elimination (RFE) repeatedly constructs a model and choose eitherthe best or worst \n",
    "# performing features. The goal of RFE is to select features by recursively considering smaller \n",
    "# and smaller sets of features.\n",
    "\n",
    "y=target_df\n",
    "X=features_df\n",
    "from sklearn.feature_selection import RFE\n",
    "from sklearn.linear_model import LogisticRegression\n",
    "logreg = LogisticRegression(solver='lbfgs',max_iter=200, random_state=0)\n",
    "rfe = RFE(logreg, 20)\n",
    "rfe = rfe.fit(X_train, y_train)\n",
    "print(rfe.support_)\n",
    "print(rfe.ranking_)"
   ]
  },
  {
   "cell_type": "code",
   "execution_count": 250,
   "metadata": {},
   "outputs": [
    {
     "name": "stdout",
     "output_type": "stream",
     "text": [
      "0.9377510040160643\n"
     ]
    }
   ],
   "source": [
    "rfe_score = rfe.score(X_test,y_test)\n",
    "print(rfe_score)\n",
    "#print(sorted(zip(map(lambda x: round(x, 4),rfe_score), \n",
    "#                 names), reverse=True))"
   ]
  },
  {
   "cell_type": "code",
   "execution_count": 251,
   "metadata": {},
   "outputs": [],
   "source": [
    "# Create logistic regression model using the resample data\n",
    "from sklearn.model_selection import GridSearchCV\n",
    "from sklearn.linear_model import LogisticRegression\n",
    "from sklearn.metrics import confusion_matrix, precision_recall_curve, auc, roc_auc_score, roc_curve, recall_score,classification_report\n"
   ]
  },
  {
   "cell_type": "code",
   "execution_count": 252,
   "metadata": {},
   "outputs": [],
   "source": [
    "# 5.0 Model fitting\n",
    "#In the binary classification task, the following models are fitted and comapred using different \n",
    "# evaluation metrics. Logistic regression, NaiveBias, SVm, RandomForest, XGboost\n",
    "# Gradient Descent parameter optimisation"
   ]
  },
  {
   "cell_type": "code",
   "execution_count": 253,
   "metadata": {},
   "outputs": [
    {
     "name": "stdout",
     "output_type": "stream",
     "text": [
      "logisticregression score:  0.9375339194616303\n"
     ]
    }
   ],
   "source": [
    "# Logistic regaression\n",
    "# Allfeatures are selected as good for modelling. \n",
    "\n",
    "lr = LogisticRegression(C=1.0,solver='lbfgs',max_iter=250, random_state=0)\n",
    "lr.fit(X_train, y_train)\n",
    "\n",
    "#Score is Mean Accuracy\n",
    "logistic_score = lr.score(X_test,y_test)\n",
    "print( 'logisticregression score: ', logistic_score)"
   ]
  },
  {
   "cell_type": "code",
   "execution_count": 254,
   "metadata": {},
   "outputs": [],
   "source": [
    "# Grid search optimisation\n",
    "from sklearn.model_selection import GridSearchCV\n",
    "from sklearn.metrics import classification_report\n",
    "from sklearn.model_selection import RandomizedSearchCV\n",
    "\n",
    "# Create logistic regression\n",
    "lrg = LogisticRegression(random_state=0,max_iter=200,solver='lbfgs' )             # initialize the model\n",
    "\n",
    "# parameter grid\n",
    "max_iter=[200,250,300,350]\n",
    "C = [1.0,1.5,2.0,2.5]\n",
    "# Create hyperparameter options\n",
    "param_grid = dict(max_iter=max_iter,C=C)\n",
    "\n",
    "# Grid search\n",
    "random = RandomizedSearchCV(estimator=lrg, param_distributions=param_grid, cv = 10, scoring = 'accuracy')\n"
   ]
  },
  {
   "cell_type": "code",
   "execution_count": 255,
   "metadata": {},
   "outputs": [
    {
     "name": "stdout",
     "output_type": "stream",
     "text": [
      "Best: 0.938253 using {'max_iter': 250, 'C': 2.0}\n"
     ]
    }
   ],
   "source": [
    "random_result = random.fit(X_train, y_train)\n",
    "# Summarize results\n",
    "print(\"Best: %f using %s\" % (random_result.best_score_, random_result.best_params_))"
   ]
  },
  {
   "cell_type": "code",
   "execution_count": 256,
   "metadata": {},
   "outputs": [
    {
     "name": "stdout",
     "output_type": "stream",
     "text": [
      "classifier accuracy: 0.9375339194616303\n"
     ]
    }
   ],
   "source": [
    "# Evaluate the classifier by using accuracy measure\n",
    "# Apply the trained Classifier to the test data (which, remember, it has never seen before to measure accuracy)\n",
    "print(\"classifier accuracy:\", random.score(X_test, y_test))  # score model"
   ]
  },
  {
   "cell_type": "code",
   "execution_count": 257,
   "metadata": {},
   "outputs": [
    {
     "data": {
      "text/plain": [
       "array([[17235,    25],\n",
       "       [ 1126,    40]], dtype=int64)"
      ]
     },
     "execution_count": 257,
     "metadata": {},
     "output_type": "execute_result"
    }
   ],
   "source": [
    "from sklearn.metrics import confusion_matrix\n",
    "\n",
    "# predict with best model\n",
    "# Evaluate the classifier by using confusion matrix compare y predicted to actual y values\n",
    "\n",
    "# Apply the trained Classifier to the X-test data and make predictions\n",
    "y_pred = random.predict(X_test)  # use model to predict on test data for generalisation\n",
    "y_true = y_test\n",
    "# create confusion matrix\n",
    "\n",
    "confusion_matrix(y_true, y_pred)"
   ]
  },
  {
   "cell_type": "code",
   "execution_count": 258,
   "metadata": {},
   "outputs": [
    {
     "data": {
      "text/html": [
       "<div>\n",
       "<style>\n",
       "    .dataframe thead tr:only-child th {\n",
       "        text-align: right;\n",
       "    }\n",
       "\n",
       "    .dataframe thead th {\n",
       "        text-align: left;\n",
       "    }\n",
       "\n",
       "    .dataframe tbody tr th {\n",
       "        vertical-align: top;\n",
       "    }\n",
       "</style>\n",
       "<table border=\"1\" class=\"dataframe\">\n",
       "  <thead>\n",
       "    <tr style=\"text-align: right;\">\n",
       "      <th>Predicted</th>\n",
       "      <th>0.0</th>\n",
       "      <th>1.0</th>\n",
       "      <th>All</th>\n",
       "    </tr>\n",
       "    <tr>\n",
       "      <th>True</th>\n",
       "      <th></th>\n",
       "      <th></th>\n",
       "      <th></th>\n",
       "    </tr>\n",
       "  </thead>\n",
       "  <tbody>\n",
       "    <tr>\n",
       "      <th>0.0</th>\n",
       "      <td>17235</td>\n",
       "      <td>25</td>\n",
       "      <td>17260</td>\n",
       "    </tr>\n",
       "    <tr>\n",
       "      <th>1.0</th>\n",
       "      <td>1126</td>\n",
       "      <td>40</td>\n",
       "      <td>1166</td>\n",
       "    </tr>\n",
       "    <tr>\n",
       "      <th>All</th>\n",
       "      <td>18361</td>\n",
       "      <td>65</td>\n",
       "      <td>18426</td>\n",
       "    </tr>\n",
       "  </tbody>\n",
       "</table>\n",
       "</div>"
      ],
      "text/plain": [
       "Predicted    0.0  1.0    All\n",
       "True                        \n",
       "0.0        17235   25  17260\n",
       "1.0         1126   40   1166\n",
       "All        18361   65  18426"
      ]
     },
     "execution_count": 258,
     "metadata": {},
     "output_type": "execute_result"
    }
   ],
   "source": [
    "pd.crosstab(y_true, y_pred, rownames=['True'], colnames=['Predicted'], margins=True)"
   ]
  },
  {
   "cell_type": "code",
   "execution_count": 259,
   "metadata": {},
   "outputs": [
    {
     "data": {
      "text/plain": [
       "(array([0.93867436, 0.61538462]),\n",
       " array([0.99855156, 0.03430532]),\n",
       " array([0.9676876 , 0.06498781]),\n",
       " array([17260,  1166], dtype=int64))"
      ]
     },
     "execution_count": 259,
     "metadata": {},
     "output_type": "execute_result"
    }
   ],
   "source": [
    "# precision, recall, F1-score\n",
    "from sklearn.metrics import precision_recall_fscore_support\n",
    "from sklearn.metrics import classification_report\n",
    "\n",
    "precision_recall_fscore_support(y_true, y_pred)"
   ]
  },
  {
   "cell_type": "code",
   "execution_count": 260,
   "metadata": {},
   "outputs": [
    {
     "name": "stdout",
     "output_type": "stream",
     "text": [
      "              precision    recall  f1-score   support\n",
      "\n",
      "     class 0       0.94      1.00      0.97     17260\n",
      "     class 1       0.62      0.03      0.06      1166\n",
      "\n",
      "   micro avg       0.94      0.94      0.94     18426\n",
      "   macro avg       0.78      0.52      0.52     18426\n",
      "weighted avg       0.92      0.94      0.91     18426\n",
      "\n"
     ]
    }
   ],
   "source": [
    "target_names = ['class 0', 'class 1']\n",
    "print(classification_report(y_true, y_pred, target_names=target_names))"
   ]
  },
  {
   "cell_type": "code",
   "execution_count": 261,
   "metadata": {},
   "outputs": [
    {
     "name": "stderr",
     "output_type": "stream",
     "text": [
      "C:\\Users\\yasser\\Anaconda2\\envs\\pyt36\\lib\\site-packages\\sklearn\\ensemble\\forest.py:246: FutureWarning: The default value of n_estimators will change from 10 in version 0.20 to 100 in 0.22.\n",
      "  \"10 in version 0.20 to 100 in 0.22.\", FutureWarning)\n"
     ]
    },
    {
     "data": {
      "text/plain": [
       "RandomForestClassifier(bootstrap=True, class_weight=None, criterion='gini',\n",
       "            max_depth=None, max_features='auto', max_leaf_nodes=None,\n",
       "            min_impurity_decrease=0.0, min_impurity_split=None,\n",
       "            min_samples_leaf=1, min_samples_split=2,\n",
       "            min_weight_fraction_leaf=0.0, n_estimators=10, n_jobs=None,\n",
       "            oob_score=False, random_state=0, verbose=0, warm_start=False)"
      ]
     },
     "execution_count": 261,
     "metadata": {},
     "output_type": "execute_result"
    }
   ],
   "source": [
    "# RandomForest classifier\n",
    "from sklearn.ensemble import RandomForestClassifier, RandomForestRegressor\n",
    "import xgboost as xgb\n",
    "from sklearn.metrics import roc_auc_score\n",
    "# Create a random forest Classifier. By convention, rf, put hyperparameters, default\n",
    "rf = RandomForestClassifier(random_state=0)\n",
    "\n",
    "# Train the Classifier to take the X-training features and learn how they \n",
    "# relate to the y-training target independent variable\n",
    "\n",
    "rf.fit(X_train, y_train)  # fit model"
   ]
  },
  {
   "cell_type": "code",
   "execution_count": 262,
   "metadata": {},
   "outputs": [
    {
     "name": "stdout",
     "output_type": "stream",
     "text": [
      "classifier accuracy: 0.9823618799522414\n"
     ]
    }
   ],
   "source": [
    "# Evaluate Randomforest\n",
    "print(\"classifier accuracy:\", rf.score(X_test, y_test))  # score model"
   ]
  },
  {
   "cell_type": "code",
   "execution_count": 263,
   "metadata": {},
   "outputs": [
    {
     "data": {
      "text/plain": [
       "array([[17191,    69],\n",
       "       [  256,   910]], dtype=int64)"
      ]
     },
     "execution_count": 263,
     "metadata": {},
     "output_type": "execute_result"
    }
   ],
   "source": [
    "# Apply the trained Classifier to the X-test data and make predictions\n",
    "rfy_pred = rf.predict(X_test)  # use model to predict on test data for generalisation\n",
    "y_true = y_test\n",
    "# create confusion matrix\n",
    "\n",
    "confusion_matrix(y_true, rfy_pred)"
   ]
  },
  {
   "cell_type": "code",
   "execution_count": 264,
   "metadata": {},
   "outputs": [
    {
     "name": "stdout",
     "output_type": "stream",
     "text": [
      "              precision    recall  f1-score   support\n",
      "\n",
      "     class 0       0.99      1.00      0.99     17260\n",
      "     class 1       0.93      0.78      0.85      1166\n",
      "\n",
      "   micro avg       0.98      0.98      0.98     18426\n",
      "   macro avg       0.96      0.89      0.92     18426\n",
      "weighted avg       0.98      0.98      0.98     18426\n",
      "\n"
     ]
    }
   ],
   "source": [
    "print(classification_report(y_true, rfy_pred, target_names=target_names))"
   ]
  },
  {
   "cell_type": "code",
   "execution_count": 265,
   "metadata": {},
   "outputs": [
    {
     "data": {
      "text/plain": [
       "Text(0.5,1,'2-class Precision-Recall curve')"
      ]
     },
     "execution_count": 265,
     "metadata": {},
     "output_type": "execute_result"
    },
    {
     "data": {
      "image/png": "[encoded data removed]",
      "text/plain": [
       "<Figure size 432x288 with 1 Axes>"
      ]
     },
     "metadata": {},
     "output_type": "display_data"
    }
   ],
   "source": [
    "# plot of precission and Recall curve \n",
    "\n",
    "from sklearn.metrics import precision_recall_curve\n",
    "import matplotlib.pyplot as plt\n",
    "\n",
    "precision, recall, _ = precision_recall_curve(y_test, rfy_pred)\n",
    "\n",
    "plt.step(recall, precision, color='b', alpha=0.2,\n",
    "         where='post')\n",
    "plt.fill_between(recall, precision, step='post', alpha=0.2,\n",
    "                 color='b')\n",
    "\n",
    "plt.xlabel('Recall')\n",
    "plt.ylabel('Precision')\n",
    "plt.ylim([0.0, 1.05])\n",
    "plt.xlim([0.0, 1.0])\n",
    "plt.title('2-class Precision-Recall curve')"
   ]
  },
  {
   "cell_type": "code",
   "execution_count": 266,
   "metadata": {},
   "outputs": [
    {
     "name": "stderr",
     "output_type": "stream",
     "text": [
      "C:\\Users\\yasser\\Anaconda2\\envs\\pyt36\\lib\\site-packages\\matplotlib\\cbook\\deprecation.py:107: MatplotlibDeprecationWarning: Adding an axes using the same arguments as a previous axes currently reuses the earlier instance.  In a future version, a new instance will always be created and returned.  Meanwhile, this warning can be suppressed, and the future behavior ensured, by passing a unique label to each axes instance.\n",
      "  warnings.warn(message, mplDeprecation, stacklevel=1)\n"
     ]
    },
    {
     "data": {
      "image/png": "[encoded data removed]",
      "text/plain": [
       "<Figure size 576x576 with 1 Axes>"
      ]
     },
     "metadata": {},
     "output_type": "display_data"
    }
   ],
   "source": [
    "# ROC curve\n",
    "fpr_rf, tpr_rf, _ = roc_curve(y_test, rfy_pred)\n",
    "roc_auc_rf = auc(fpr_rf, tpr_rf)\n",
    "plt.figure(figsize=(8,8))\n",
    "plt.xlim([-0.01, 1.00])\n",
    "plt.ylim([-0.01, 1.01])\n",
    "plt.plot(fpr_rf, tpr_rf, lw=1, label='{} curve (AUC = {:0.2f})'.format('RF',roc_auc_rf))\n",
    "\n",
    "\n",
    "plt.xlabel('False Positive Rate', fontsize=16)\n",
    "plt.ylabel('True Positive Rate', fontsize=16)\n",
    "plt.title('ROC curve', fontsize=16)\n",
    "plt.legend(loc='lower right', fontsize=13)\n",
    "plt.plot([0, 1], [0, 1], color='navy', lw=1, linestyle='--')\n",
    "plt.axes().set_aspect('equal')\n",
    "plt.show()"
   ]
  },
  {
   "cell_type": "code",
   "execution_count": 267,
   "metadata": {},
   "outputs": [
    {
     "data": {
      "text/plain": [
       "array([2.56442169e-02, 5.74073846e-02, 2.70068267e-02, 3.86357019e-02,\n",
       "       1.19883037e-02, 3.56935208e-02, 4.05128143e-02, 3.74158304e-02,\n",
       "       7.46582903e-02, 8.33864520e-02, 7.85195570e-02, 4.55888227e-02,\n",
       "       4.56563355e-02, 4.27970316e-02, 4.24084005e-02, 5.10412600e-02,\n",
       "       4.32824637e-02, 2.51366069e-02, 2.66626790e-02, 2.61251129e-02,\n",
       "       1.48162164e-02, 2.16980159e-02, 2.12259231e-02, 4.92300095e-03,\n",
       "       6.74593732e-03, 2.33320210e-02, 1.42859573e-03, 3.51024821e-03,\n",
       "       2.51873571e-03, 1.10881807e-02, 2.00074038e-02, 6.84221113e-03,\n",
       "       2.28868791e-03, 7.21071150e-06])"
      ]
     },
     "execution_count": 267,
     "metadata": {},
     "output_type": "execute_result"
    }
   ],
   "source": [
    "# feature Importance\n",
    "# Rank of the importance of feature\n",
    "rf.feature_importances_"
   ]
  },
  {
   "cell_type": "code",
   "execution_count": null,
   "metadata": {},
   "outputs": [],
   "source": [
    "# feature importance\n",
    "\n",
    "feature_importances = pd.DataFrame(rf.feature_importances_,index = features_df.columns,\n",
    "                                   columns=['importance']).sort_values('importance',ascending=False)\n",
    "\n",
    "feature_importances.head(34)"
   ]
  },
  {
   "cell_type": "code",
   "execution_count": null,
   "metadata": {},
   "outputs": [],
   "source": [
    "#Import knearest neighbors Classifier model\n",
    "from sklearn.neighbors import KNeighborsClassifier\n",
    "\n",
    "#Create KNN Classifier\n",
    "knn = KNeighborsClassifier(n_neighbors=7)\n",
    "\n",
    "#Train the model using the training sets\n",
    "knn.fit(X_train, y_train)\n",
    "\n",
    "#Predict the response for test dataset\n",
    "knny_pred = knn.predict(X_test)\n",
    "\n",
    "# Model Accuracy, how often is the classifier correct?\n",
    "print(\"Accuracy:\",metrics.accuracy_score(y_test, knny_pred))"
   ]
  },
  {
   "cell_type": "code",
   "execution_count": null,
   "metadata": {},
   "outputs": [],
   "source": [
    "print(classification_report(y_true, knny_pred, target_names=target_names))"
   ]
  },
  {
   "cell_type": "code",
   "execution_count": null,
   "metadata": {},
   "outputs": [],
   "source": [
    "# The more data intensive estimators gave better performance precision and recall than logistic regresion \n",
    "# Comparison of prediction accuracy by the models shows that logistic regression, random Forest and K nearest Neighbour\n",
    "# gave the similar performance accuracy\n",
    "# based on the data.\n",
    "\n",
    "# Accuracy on obtained are as follws logistic regression 0.9361228698578096, RandomForest 0.9810593726256377 \n",
    "# and K Nearest neighbour 0.968305655052643\n",
    "# The results from these models shows that with more data, feature engineering and hyperparameter tunning\n",
    "# on RandomForest and KNN, the performance will be improved."
   ]
  },
  {
   "cell_type": "code",
   "execution_count": 273,
   "metadata": {},
   "outputs": [
    {
     "data": {
      "image/png": "[encoded data removed]",
      "text/plain": [
       "<Figure size 432x288 with 1 Axes>"
      ]
     },
     "metadata": {},
     "output_type": "display_data"
    }
   ],
   "source": [
    "# plot hyper parameter test random Forest\n",
    "'''\n",
    "N_estimators\n",
    "n_estimators represents the number of trees in the forest.\n",
    "Usually the higher the number of trees the better to learn the data.\n",
    "However, adding a lot of trees can slow down the training process considerably,\n",
    "therefore we do a parameter search to find the sweet spot.\n",
    "'''\n",
    "n_estimators = [1, 2, 4, 8, 16, 32, 64, 100, 500]\n",
    "train_results = []\n",
    "test_results = []\n",
    "for estimator in n_estimators:\n",
    "   rf = RandomForestClassifier(n_estimators=estimator, n_jobs=-1)\n",
    "   rf.fit(X_train, y_train)\n",
    "   train_pred = rf.predict(X_train)\n",
    "   false_positive_rate, true_positive_rate, thresholds = roc_curve(y_train, train_pred)\n",
    "   roc_auc = auc(false_positive_rate, true_positive_rate)\n",
    "   train_results.append(roc_auc)\n",
    "   y_pred = rf.predict(X_test)\n",
    "   false_positive_rate, true_positive_rate, thresholds = roc_curve(y_test, y_pred)\n",
    "   roc_auc = auc(false_positive_rate, true_positive_rate)\n",
    "   test_results.append(roc_auc)\n",
    "from matplotlib.legend_handler import HandlerLine2D\n",
    "line1, = plt.plot(n_estimators, train_results, label= \"Train AUC\")\n",
    "line2, = plt.plot(n_estimators, test_results, label=\"Test AUC\")\n",
    "plt.legend(handler_map={line1: HandlerLine2D(numpoints=2)})\n",
    "plt.ylabel(\"AUC score\")\n",
    "plt.xlabel(\"n_estimators\")\n",
    "plt.show()\n"
   ]
  },
  {
   "cell_type": "code",
   "execution_count": 276,
   "metadata": {},
   "outputs": [
    {
     "data": {
      "image/png": "[encoded data removed]",
      "text/plain": [
       "<Figure size 432x288 with 1 Axes>"
      ]
     },
     "metadata": {},
     "output_type": "display_data"
    }
   ],
   "source": [
    "#max_depth\n",
    "'''\n",
    "max_depth represents the depth of each tree in the forest. The deeper the tree,\n",
    "the more splits it has and it captures more information about the data. \n",
    "We fit each decision tree with depths ranging from 1 to 32 and plot \n",
    "the training and test errors.\n",
    "'''\n",
    "max_depths = np.linspace(1, 100, 100, endpoint=True)\n",
    "train_results = []\n",
    "test_results = []\n",
    "for max_depth in max_depths:\n",
    "    rf = RandomForestClassifier(n_estimators= 100,max_depth=max_depth, n_jobs=-1)\n",
    "    rf.fit(X_train, y_train)\n",
    "    train_pred = rf.predict(X_train)\n",
    "    false_positive_rate, true_positive_rate, thresholds = roc_curve(y_train, train_pred)\n",
    "    roc_auc = auc(false_positive_rate, true_positive_rate)\n",
    "    train_results.append(roc_auc)\n",
    "    y_pred = rf.predict(X_test)\n",
    "    false_positive_rate, true_positive_rate, thresholds = roc_curve(y_test, y_pred)\n",
    "    roc_auc = auc(false_positive_rate, true_positive_rate)\n",
    "    test_results.append(roc_auc)\n",
    "from matplotlib.legend_handler import HandlerLine2D\n",
    "line1, = plt.plot(max_depths, train_results, \"b\", label=\"Train AUC\")\n",
    "line2, = plt.plot(max_depths, test_results, \"r\", label=\"Test AUC\")\n",
    "plt.legend(handler_map={line1: HandlerLine2D(numpoints=2)})\n",
    "plt.ylabel(\"AUC score\")\n",
    "plt.xlabel(\"Tree depth\")\n",
    "plt.show()\n"
   ]
  },
  {
   "cell_type": "code",
   "execution_count": null,
   "metadata": {},
   "outputs": [],
   "source": []
  }
 ],
 "metadata": {
  "kernelspec": {
   "display_name": "Python 3",
   "language": "python",
   "name": "python3"
  },
  "language_info": {
   "codemirror_mode": {
    "name": "ipython",
    "version": 3
   },
   "file_extension": ".py",
   "mimetype": "text/x-python",
   "name": "python",
   "nbconvert_exporter": "python",
   "pygments_lexer": "ipython3",
   "version": "3.6.6"
  }
 },
 "nbformat": 4,
 "nbformat_minor": 2
}
